{
 "metadata": {
  "language_info": {
   "codemirror_mode": {
    "name": "ipython",
    "version": 3
   },
   "file_extension": ".py",
   "mimetype": "text/x-python",
   "name": "python",
   "nbconvert_exporter": "python",
   "pygments_lexer": "ipython3",
   "version": "3.9.1-final"
  },
  "orig_nbformat": 2,
  "kernelspec": {
   "name": "python3",
   "display_name": "Python 3.9.1 64-bit",
   "metadata": {
    "interpreter": {
     "hash": "9564c2199daedfbf233a8e6c2a3d64781e92037e5143319e3ae8101ae42a1632"
    }
   }
  }
 },
 "nbformat": 4,
 "nbformat_minor": 2,
 "cells": [
  {
   "source": [
    "# Lista 5 - Campo Elétrico em Meio Material"
   ],
   "cell_type": "markdown",
   "metadata": {}
  },
  {
   "source": [
    "## Q2"
   ],
   "cell_type": "markdown",
   "metadata": {}
  },
  {
   "source": [
    "Sabendo que $$dI = \\vec{J} \\cdot d\\vec{S}$$\n",
    "\n",
    "e dados que $J = 15(1-e^{-1000r}) \\ a_z$ e o raio do fio valendo $2mm$ \n",
    "podemos simplesmente integrar, posto que $\\vec{J}$ e $d\\vec{S}$ fazendo $0°$ entre si.\n",
    "\n",
    "$$l = \\int^{2\\pi}_0 \\int^{0.002}_0  15(1-e^{-1000r}) rdrd\\phi$$"
   ],
   "cell_type": "markdown",
   "metadata": {}
  },
  {
   "cell_type": "code",
   "execution_count": 45,
   "metadata": {},
   "outputs": [
    {
     "output_type": "stream",
     "name": "stdout",
     "text": [
      "I = 1.33e-4 A\n"
     ]
    }
   ],
   "source": [
    "from math import *\n",
    "import sympy as sp \n",
    "import numpy as np \n",
    "\n",
    "r,phi,o = sp.symbols('r phi theta')\n",
    "\n",
    "J = lambda r: 15*(1-sp.exp(-1000*r))\n",
    "\n",
    "i = sp.integrate(sp.integrate(J(r)*r,(r,0,0.002)),(phi,0,2*sp.pi))\n",
    "print(\"I = {:.2e} A\".format(i.evalf()))"
   ]
  },
  {
   "source": [
    "arrumando as casas decimais $$I = 0.133 \\ mA$$"
   ],
   "cell_type": "markdown",
   "metadata": {}
  },
  {
   "source": [
    "## Q4"
   ],
   "cell_type": "markdown",
   "metadata": {}
  },
  {
   "source": [
    "Sabedno que $J$ podemos sómente integrar o produto vetorial para achar a corrente total \n",
    "$$I = \\int \\vec{J} \\cdot d\\vec{S}$$ \n",
    "onde $dS = r^2\\sin(\\theta) \\ d\\phi \\ d\\theta  \\ a_r$ para casca hemisférica de raio $20cm$\n",
    "no produto escalar $a_\\theta$ e $a_r$  se anulam \n",
    "\n",
    "\n"
   ],
   "cell_type": "markdown",
   "metadata": {}
  },
  {
   "source": [
    "$$ I = \\displaystyle \\int^{\\frac{\\pi}{2}}_{\\theta = 0}  \\displaystyle\\int^{2\\pi}_{\\phi = 0} \\ \\displaystyle\\frac{1}{r^3} 2\\cos{\\theta} r^2\\sin(\\theta) \\ d\\phi \\ d\\theta $$"
   ],
   "cell_type": "markdown",
   "metadata": {}
  },
  {
   "cell_type": "code",
   "execution_count": 46,
   "metadata": {},
   "outputs": [
    {
     "output_type": "execute_result",
     "data": {
      "text/plain": [
       "31.4159265358979"
      ],
      "text/latex": "$\\displaystyle 31.4159265358979$"
     },
     "metadata": {},
     "execution_count": 46
    }
   ],
   "source": [
    "ds = r**2 * sp.sin(o)\n",
    "J = (1/r**3)* 2*sp.cos(o) \n",
    "\n",
    "I = lambda r: sp.integrate(sp.integrate(J*ds,(phi,0,2*sp.pi)),(o,0,sp.pi/2))\n",
    "I(r).subs(r,0.2).evalf()"
   ]
  },
  {
   "source": [
    "a) Portando $$ I = 31.42 A $$ \n",
    "importante notar também que podemos montar um gráfico demonstrando como que o raio influênciaria na corrente. "
   ],
   "cell_type": "markdown",
   "metadata": {}
  },
  {
   "source": [
    "sp.plot(I(r),(r,0,0.2), ylim=(0,600))"
   ],
   "cell_type": "code",
   "metadata": {},
   "execution_count": 47,
   "outputs": [
    {
     "output_type": "display_data",
     "data": {
      "text/plain": "<Figure size 432x288 with 1 Axes>",
      "image/svg+xml": "<?xml version=\"1.0\" encoding=\"utf-8\" standalone=\"no\"?>\r\n<!DOCTYPE svg PUBLIC \"-//W3C//DTD SVG 1.1//EN\"\r\n  \"http://www.w3.org/Graphics/SVG/1.1/DTD/svg11.dtd\">\r\n<!-- Created with matplotlib (https://matplotlib.org/) -->\r\n<svg height=\"283.873438pt\" version=\"1.1\" viewBox=\"0 0 423.95972 283.873438\" width=\"423.95972pt\" xmlns=\"http://www.w3.org/2000/svg\" xmlns:xlink=\"http://www.w3.org/1999/xlink\">\r\n <metadata>\r\n  <rdf:RDF xmlns:cc=\"http://creativecommons.org/ns#\" xmlns:dc=\"http://purl.org/dc/elements/1.1/\" xmlns:rdf=\"http://www.w3.org/1999/02/22-rdf-syntax-ns#\">\r\n   <cc:Work>\r\n    <dc:type rdf:resource=\"http://purl.org/dc/dcmitype/StillImage\"/>\r\n    <dc:date>2020-12-09T16:05:06.176626</dc:date>\r\n    <dc:format>image/svg+xml</dc:format>\r\n    <dc:creator>\r\n     <cc:Agent>\r\n      <dc:title>Matplotlib v3.3.2, https://matplotlib.org/</dc:title>\r\n     </cc:Agent>\r\n    </dc:creator>\r\n   </cc:Work>\r\n  </rdf:RDF>\r\n </metadata>\r\n <defs>\r\n  <style type=\"text/css\">*{stroke-linecap:butt;stroke-linejoin:round;}</style>\r\n </defs>\r\n <g id=\"figure_1\">\r\n  <g id=\"patch_1\">\r\n   <path d=\"M 0 283.873438 \r\nL 423.95972 283.873438 \r\nL 423.95972 0 \r\nL 0 0 \r\nz\r\n\" style=\"fill:none;\"/>\r\n  </g>\r\n  <g id=\"axes_1\">\r\n   <g id=\"patch_2\">\r\n    <path d=\"M 29.494221 246.317188 \r\nL 414.704252 246.317188 \r\nL 414.704252 14.917188 \r\nL 29.494221 14.917188 \r\nz\r\n\" style=\"fill:#ffffff;\"/>\r\n   </g>\r\n   <g id=\"matplotlib.axis_1\">\r\n    <g id=\"xtick_1\">\r\n     <g id=\"line2d_1\">\r\n      <defs>\r\n       <path d=\"M 0 0 \r\nL 0 3.5 \r\n\" id=\"m26f1daa6b8\" style=\"stroke:#000000;stroke-width:0.8;\"/>\r\n      </defs>\r\n      <g>\r\n       <use style=\"stroke:#000000;stroke-width:0.8;\" x=\"46.965625\" xlink:href=\"#m26f1daa6b8\" y=\"246.317188\"/>\r\n      </g>\r\n     </g>\r\n     <g id=\"text_1\">\r\n      <!-- 0.000 -->\r\n      <g transform=\"translate(32.651563 260.915625)scale(0.1 -0.1)\">\r\n       <defs>\r\n        <path d=\"M 31.78125 66.40625 \r\nQ 24.171875 66.40625 20.328125 58.90625 \r\nQ 16.5 51.421875 16.5 36.375 \r\nQ 16.5 21.390625 20.328125 13.890625 \r\nQ 24.171875 6.390625 31.78125 6.390625 \r\nQ 39.453125 6.390625 43.28125 13.890625 \r\nQ 47.125 21.390625 47.125 36.375 \r\nQ 47.125 51.421875 43.28125 58.90625 \r\nQ 39.453125 66.40625 31.78125 66.40625 \r\nz\r\nM 31.78125 74.21875 \r\nQ 44.046875 74.21875 50.515625 64.515625 \r\nQ 56.984375 54.828125 56.984375 36.375 \r\nQ 56.984375 17.96875 50.515625 8.265625 \r\nQ 44.046875 -1.421875 31.78125 -1.421875 \r\nQ 19.53125 -1.421875 13.0625 8.265625 \r\nQ 6.59375 17.96875 6.59375 36.375 \r\nQ 6.59375 54.828125 13.0625 64.515625 \r\nQ 19.53125 74.21875 31.78125 74.21875 \r\nz\r\n\" id=\"DejaVuSans-48\"/>\r\n        <path d=\"M 10.6875 12.40625 \r\nL 21 12.40625 \r\nL 21 0 \r\nL 10.6875 0 \r\nz\r\n\" id=\"DejaVuSans-46\"/>\r\n       </defs>\r\n       <use xlink:href=\"#DejaVuSans-48\"/>\r\n       <use x=\"63.623047\" xlink:href=\"#DejaVuSans-46\"/>\r\n       <use x=\"95.410156\" xlink:href=\"#DejaVuSans-48\"/>\r\n       <use x=\"159.033203\" xlink:href=\"#DejaVuSans-48\"/>\r\n       <use x=\"222.65625\" xlink:href=\"#DejaVuSans-48\"/>\r\n      </g>\r\n     </g>\r\n    </g>\r\n    <g id=\"xtick_2\">\r\n     <g id=\"line2d_2\">\r\n      <g>\r\n       <use style=\"stroke:#000000;stroke-width:0.8;\" x=\"90.74426\" xlink:href=\"#m26f1daa6b8\" y=\"246.317188\"/>\r\n      </g>\r\n     </g>\r\n     <g id=\"text_2\">\r\n      <!-- 0.025 -->\r\n      <g transform=\"translate(76.430197 260.915625)scale(0.1 -0.1)\">\r\n       <defs>\r\n        <path d=\"M 19.1875 8.296875 \r\nL 53.609375 8.296875 \r\nL 53.609375 0 \r\nL 7.328125 0 \r\nL 7.328125 8.296875 \r\nQ 12.9375 14.109375 22.625 23.890625 \r\nQ 32.328125 33.6875 34.8125 36.53125 \r\nQ 39.546875 41.84375 41.421875 45.53125 \r\nQ 43.3125 49.21875 43.3125 52.78125 \r\nQ 43.3125 58.59375 39.234375 62.25 \r\nQ 35.15625 65.921875 28.609375 65.921875 \r\nQ 23.96875 65.921875 18.8125 64.3125 \r\nQ 13.671875 62.703125 7.8125 59.421875 \r\nL 7.8125 69.390625 \r\nQ 13.765625 71.78125 18.9375 73 \r\nQ 24.125 74.21875 28.421875 74.21875 \r\nQ 39.75 74.21875 46.484375 68.546875 \r\nQ 53.21875 62.890625 53.21875 53.421875 \r\nQ 53.21875 48.921875 51.53125 44.890625 \r\nQ 49.859375 40.875 45.40625 35.40625 \r\nQ 44.1875 33.984375 37.640625 27.21875 \r\nQ 31.109375 20.453125 19.1875 8.296875 \r\nz\r\n\" id=\"DejaVuSans-50\"/>\r\n        <path d=\"M 10.796875 72.90625 \r\nL 49.515625 72.90625 \r\nL 49.515625 64.59375 \r\nL 19.828125 64.59375 \r\nL 19.828125 46.734375 \r\nQ 21.96875 47.46875 24.109375 47.828125 \r\nQ 26.265625 48.1875 28.421875 48.1875 \r\nQ 40.625 48.1875 47.75 41.5 \r\nQ 54.890625 34.8125 54.890625 23.390625 \r\nQ 54.890625 11.625 47.5625 5.09375 \r\nQ 40.234375 -1.421875 26.90625 -1.421875 \r\nQ 22.3125 -1.421875 17.546875 -0.640625 \r\nQ 12.796875 0.140625 7.71875 1.703125 \r\nL 7.71875 11.625 \r\nQ 12.109375 9.234375 16.796875 8.0625 \r\nQ 21.484375 6.890625 26.703125 6.890625 \r\nQ 35.15625 6.890625 40.078125 11.328125 \r\nQ 45.015625 15.765625 45.015625 23.390625 \r\nQ 45.015625 31 40.078125 35.4375 \r\nQ 35.15625 39.890625 26.703125 39.890625 \r\nQ 22.75 39.890625 18.8125 39.015625 \r\nQ 14.890625 38.140625 10.796875 36.28125 \r\nz\r\n\" id=\"DejaVuSans-53\"/>\r\n       </defs>\r\n       <use xlink:href=\"#DejaVuSans-48\"/>\r\n       <use x=\"63.623047\" xlink:href=\"#DejaVuSans-46\"/>\r\n       <use x=\"95.410156\" xlink:href=\"#DejaVuSans-48\"/>\r\n       <use x=\"159.033203\" xlink:href=\"#DejaVuSans-50\"/>\r\n       <use x=\"222.65625\" xlink:href=\"#DejaVuSans-53\"/>\r\n      </g>\r\n     </g>\r\n    </g>\r\n    <g id=\"xtick_3\">\r\n     <g id=\"line2d_3\">\r\n      <g>\r\n       <use style=\"stroke:#000000;stroke-width:0.8;\" x=\"134.522895\" xlink:href=\"#m26f1daa6b8\" y=\"246.317188\"/>\r\n      </g>\r\n     </g>\r\n     <g id=\"text_3\">\r\n      <!-- 0.050 -->\r\n      <g transform=\"translate(120.208832 260.915625)scale(0.1 -0.1)\">\r\n       <use xlink:href=\"#DejaVuSans-48\"/>\r\n       <use x=\"63.623047\" xlink:href=\"#DejaVuSans-46\"/>\r\n       <use x=\"95.410156\" xlink:href=\"#DejaVuSans-48\"/>\r\n       <use x=\"159.033203\" xlink:href=\"#DejaVuSans-53\"/>\r\n       <use x=\"222.65625\" xlink:href=\"#DejaVuSans-48\"/>\r\n      </g>\r\n     </g>\r\n    </g>\r\n    <g id=\"xtick_4\">\r\n     <g id=\"line2d_4\">\r\n      <g>\r\n       <use style=\"stroke:#000000;stroke-width:0.8;\" x=\"178.30153\" xlink:href=\"#m26f1daa6b8\" y=\"246.317188\"/>\r\n      </g>\r\n     </g>\r\n     <g id=\"text_4\">\r\n      <!-- 0.075 -->\r\n      <g transform=\"translate(163.987467 260.915625)scale(0.1 -0.1)\">\r\n       <defs>\r\n        <path d=\"M 8.203125 72.90625 \r\nL 55.078125 72.90625 \r\nL 55.078125 68.703125 \r\nL 28.609375 0 \r\nL 18.3125 0 \r\nL 43.21875 64.59375 \r\nL 8.203125 64.59375 \r\nz\r\n\" id=\"DejaVuSans-55\"/>\r\n       </defs>\r\n       <use xlink:href=\"#DejaVuSans-48\"/>\r\n       <use x=\"63.623047\" xlink:href=\"#DejaVuSans-46\"/>\r\n       <use x=\"95.410156\" xlink:href=\"#DejaVuSans-48\"/>\r\n       <use x=\"159.033203\" xlink:href=\"#DejaVuSans-55\"/>\r\n       <use x=\"222.65625\" xlink:href=\"#DejaVuSans-53\"/>\r\n      </g>\r\n     </g>\r\n    </g>\r\n    <g id=\"xtick_5\">\r\n     <g id=\"line2d_5\">\r\n      <g>\r\n       <use style=\"stroke:#000000;stroke-width:0.8;\" x=\"222.080165\" xlink:href=\"#m26f1daa6b8\" y=\"246.317188\"/>\r\n      </g>\r\n     </g>\r\n     <g id=\"text_5\">\r\n      <!-- 0.100 -->\r\n      <g transform=\"translate(207.766102 260.915625)scale(0.1 -0.1)\">\r\n       <defs>\r\n        <path d=\"M 12.40625 8.296875 \r\nL 28.515625 8.296875 \r\nL 28.515625 63.921875 \r\nL 10.984375 60.40625 \r\nL 10.984375 69.390625 \r\nL 28.421875 72.90625 \r\nL 38.28125 72.90625 \r\nL 38.28125 8.296875 \r\nL 54.390625 8.296875 \r\nL 54.390625 0 \r\nL 12.40625 0 \r\nz\r\n\" id=\"DejaVuSans-49\"/>\r\n       </defs>\r\n       <use xlink:href=\"#DejaVuSans-48\"/>\r\n       <use x=\"63.623047\" xlink:href=\"#DejaVuSans-46\"/>\r\n       <use x=\"95.410156\" xlink:href=\"#DejaVuSans-49\"/>\r\n       <use x=\"159.033203\" xlink:href=\"#DejaVuSans-48\"/>\r\n       <use x=\"222.65625\" xlink:href=\"#DejaVuSans-48\"/>\r\n      </g>\r\n     </g>\r\n    </g>\r\n    <g id=\"xtick_6\">\r\n     <g id=\"line2d_6\">\r\n      <g>\r\n       <use style=\"stroke:#000000;stroke-width:0.8;\" x=\"265.8588\" xlink:href=\"#m26f1daa6b8\" y=\"246.317188\"/>\r\n      </g>\r\n     </g>\r\n     <g id=\"text_6\">\r\n      <!-- 0.125 -->\r\n      <g transform=\"translate(251.544737 260.915625)scale(0.1 -0.1)\">\r\n       <use xlink:href=\"#DejaVuSans-48\"/>\r\n       <use x=\"63.623047\" xlink:href=\"#DejaVuSans-46\"/>\r\n       <use x=\"95.410156\" xlink:href=\"#DejaVuSans-49\"/>\r\n       <use x=\"159.033203\" xlink:href=\"#DejaVuSans-50\"/>\r\n       <use x=\"222.65625\" xlink:href=\"#DejaVuSans-53\"/>\r\n      </g>\r\n     </g>\r\n    </g>\r\n    <g id=\"xtick_7\">\r\n     <g id=\"line2d_7\">\r\n      <g>\r\n       <use style=\"stroke:#000000;stroke-width:0.8;\" x=\"309.637435\" xlink:href=\"#m26f1daa6b8\" y=\"246.317188\"/>\r\n      </g>\r\n     </g>\r\n     <g id=\"text_7\">\r\n      <!-- 0.150 -->\r\n      <g transform=\"translate(295.323372 260.915625)scale(0.1 -0.1)\">\r\n       <use xlink:href=\"#DejaVuSans-48\"/>\r\n       <use x=\"63.623047\" xlink:href=\"#DejaVuSans-46\"/>\r\n       <use x=\"95.410156\" xlink:href=\"#DejaVuSans-49\"/>\r\n       <use x=\"159.033203\" xlink:href=\"#DejaVuSans-53\"/>\r\n       <use x=\"222.65625\" xlink:href=\"#DejaVuSans-48\"/>\r\n      </g>\r\n     </g>\r\n    </g>\r\n    <g id=\"xtick_8\">\r\n     <g id=\"line2d_8\">\r\n      <g>\r\n       <use style=\"stroke:#000000;stroke-width:0.8;\" x=\"353.41607\" xlink:href=\"#m26f1daa6b8\" y=\"246.317188\"/>\r\n      </g>\r\n     </g>\r\n     <g id=\"text_8\">\r\n      <!-- 0.175 -->\r\n      <g transform=\"translate(339.102007 260.915625)scale(0.1 -0.1)\">\r\n       <use xlink:href=\"#DejaVuSans-48\"/>\r\n       <use x=\"63.623047\" xlink:href=\"#DejaVuSans-46\"/>\r\n       <use x=\"95.410156\" xlink:href=\"#DejaVuSans-49\"/>\r\n       <use x=\"159.033203\" xlink:href=\"#DejaVuSans-55\"/>\r\n       <use x=\"222.65625\" xlink:href=\"#DejaVuSans-53\"/>\r\n      </g>\r\n     </g>\r\n    </g>\r\n    <g id=\"xtick_9\">\r\n     <g id=\"line2d_9\">\r\n      <g>\r\n       <use style=\"stroke:#000000;stroke-width:0.8;\" x=\"397.194705\" xlink:href=\"#m26f1daa6b8\" y=\"246.317188\"/>\r\n      </g>\r\n     </g>\r\n     <g id=\"text_9\">\r\n      <!-- 0.200 -->\r\n      <g transform=\"translate(382.880642 260.915625)scale(0.1 -0.1)\">\r\n       <use xlink:href=\"#DejaVuSans-48\"/>\r\n       <use x=\"63.623047\" xlink:href=\"#DejaVuSans-46\"/>\r\n       <use x=\"95.410156\" xlink:href=\"#DejaVuSans-50\"/>\r\n       <use x=\"159.033203\" xlink:href=\"#DejaVuSans-48\"/>\r\n       <use x=\"222.65625\" xlink:href=\"#DejaVuSans-48\"/>\r\n      </g>\r\n     </g>\r\n    </g>\r\n    <g id=\"text_10\">\r\n     <!-- r -->\r\n     <g transform=\"translate(412.648783 274.59375)scale(0.1 -0.1)\">\r\n      <defs>\r\n       <path d=\"M 41.109375 46.296875 \r\nQ 39.59375 47.171875 37.8125 47.578125 \r\nQ 36.03125 48 33.890625 48 \r\nQ 26.265625 48 22.1875 43.046875 \r\nQ 18.109375 38.09375 18.109375 28.8125 \r\nL 18.109375 0 \r\nL 9.078125 0 \r\nL 9.078125 54.6875 \r\nL 18.109375 54.6875 \r\nL 18.109375 46.1875 \r\nQ 20.953125 51.171875 25.484375 53.578125 \r\nQ 30.03125 56 36.53125 56 \r\nQ 37.453125 56 38.578125 55.875 \r\nQ 39.703125 55.765625 41.0625 55.515625 \r\nz\r\n\" id=\"DejaVuSans-114\"/>\r\n      </defs>\r\n      <use xlink:href=\"#DejaVuSans-114\"/>\r\n     </g>\r\n    </g>\r\n   </g>\r\n   <g id=\"matplotlib.axis_2\">\r\n    <g id=\"ytick_1\">\r\n     <g id=\"line2d_10\">\r\n      <defs>\r\n       <path d=\"M 0 0 \r\nL -3.5 0 \r\n\" id=\"mf588e87de0\" style=\"stroke:#000000;stroke-width:0.8;\"/>\r\n      </defs>\r\n      <g>\r\n       <use style=\"stroke:#000000;stroke-width:0.8;\" x=\"46.965625\" xlink:href=\"#mf588e87de0\" y=\"246.317188\"/>\r\n      </g>\r\n     </g>\r\n     <g id=\"text_11\">\r\n      <!-- 0 -->\r\n      <g transform=\"translate(33.603125 250.116406)scale(0.1 -0.1)\">\r\n       <use xlink:href=\"#DejaVuSans-48\"/>\r\n      </g>\r\n     </g>\r\n    </g>\r\n    <g id=\"ytick_2\">\r\n     <g id=\"line2d_11\">\r\n      <g>\r\n       <use style=\"stroke:#000000;stroke-width:0.8;\" x=\"46.965625\" xlink:href=\"#mf588e87de0\" y=\"207.750521\"/>\r\n      </g>\r\n     </g>\r\n     <g id=\"text_12\">\r\n      <!-- 100 -->\r\n      <g transform=\"translate(20.878125 211.54974)scale(0.1 -0.1)\">\r\n       <use xlink:href=\"#DejaVuSans-49\"/>\r\n       <use x=\"63.623047\" xlink:href=\"#DejaVuSans-48\"/>\r\n       <use x=\"127.246094\" xlink:href=\"#DejaVuSans-48\"/>\r\n      </g>\r\n     </g>\r\n    </g>\r\n    <g id=\"ytick_3\">\r\n     <g id=\"line2d_12\">\r\n      <g>\r\n       <use style=\"stroke:#000000;stroke-width:0.8;\" x=\"46.965625\" xlink:href=\"#mf588e87de0\" y=\"169.183854\"/>\r\n      </g>\r\n     </g>\r\n     <g id=\"text_13\">\r\n      <!-- 200 -->\r\n      <g transform=\"translate(20.878125 172.983073)scale(0.1 -0.1)\">\r\n       <use xlink:href=\"#DejaVuSans-50\"/>\r\n       <use x=\"63.623047\" xlink:href=\"#DejaVuSans-48\"/>\r\n       <use x=\"127.246094\" xlink:href=\"#DejaVuSans-48\"/>\r\n      </g>\r\n     </g>\r\n    </g>\r\n    <g id=\"ytick_4\">\r\n     <g id=\"line2d_13\">\r\n      <g>\r\n       <use style=\"stroke:#000000;stroke-width:0.8;\" x=\"46.965625\" xlink:href=\"#mf588e87de0\" y=\"130.617188\"/>\r\n      </g>\r\n     </g>\r\n     <g id=\"text_14\">\r\n      <!-- 300 -->\r\n      <g transform=\"translate(20.878125 134.416406)scale(0.1 -0.1)\">\r\n       <defs>\r\n        <path d=\"M 40.578125 39.3125 \r\nQ 47.65625 37.796875 51.625 33 \r\nQ 55.609375 28.21875 55.609375 21.1875 \r\nQ 55.609375 10.40625 48.1875 4.484375 \r\nQ 40.765625 -1.421875 27.09375 -1.421875 \r\nQ 22.515625 -1.421875 17.65625 -0.515625 \r\nQ 12.796875 0.390625 7.625 2.203125 \r\nL 7.625 11.71875 \r\nQ 11.71875 9.328125 16.59375 8.109375 \r\nQ 21.484375 6.890625 26.8125 6.890625 \r\nQ 36.078125 6.890625 40.9375 10.546875 \r\nQ 45.796875 14.203125 45.796875 21.1875 \r\nQ 45.796875 27.640625 41.28125 31.265625 \r\nQ 36.765625 34.90625 28.71875 34.90625 \r\nL 20.21875 34.90625 \r\nL 20.21875 43.015625 \r\nL 29.109375 43.015625 \r\nQ 36.375 43.015625 40.234375 45.921875 \r\nQ 44.09375 48.828125 44.09375 54.296875 \r\nQ 44.09375 59.90625 40.109375 62.90625 \r\nQ 36.140625 65.921875 28.71875 65.921875 \r\nQ 24.65625 65.921875 20.015625 65.03125 \r\nQ 15.375 64.15625 9.8125 62.3125 \r\nL 9.8125 71.09375 \r\nQ 15.4375 72.65625 20.34375 73.4375 \r\nQ 25.25 74.21875 29.59375 74.21875 \r\nQ 40.828125 74.21875 47.359375 69.109375 \r\nQ 53.90625 64.015625 53.90625 55.328125 \r\nQ 53.90625 49.265625 50.4375 45.09375 \r\nQ 46.96875 40.921875 40.578125 39.3125 \r\nz\r\n\" id=\"DejaVuSans-51\"/>\r\n       </defs>\r\n       <use xlink:href=\"#DejaVuSans-51\"/>\r\n       <use x=\"63.623047\" xlink:href=\"#DejaVuSans-48\"/>\r\n       <use x=\"127.246094\" xlink:href=\"#DejaVuSans-48\"/>\r\n      </g>\r\n     </g>\r\n    </g>\r\n    <g id=\"ytick_5\">\r\n     <g id=\"line2d_14\">\r\n      <g>\r\n       <use style=\"stroke:#000000;stroke-width:0.8;\" x=\"46.965625\" xlink:href=\"#mf588e87de0\" y=\"92.050521\"/>\r\n      </g>\r\n     </g>\r\n     <g id=\"text_15\">\r\n      <!-- 400 -->\r\n      <g transform=\"translate(20.878125 95.84974)scale(0.1 -0.1)\">\r\n       <defs>\r\n        <path d=\"M 37.796875 64.3125 \r\nL 12.890625 25.390625 \r\nL 37.796875 25.390625 \r\nz\r\nM 35.203125 72.90625 \r\nL 47.609375 72.90625 \r\nL 47.609375 25.390625 \r\nL 58.015625 25.390625 \r\nL 58.015625 17.1875 \r\nL 47.609375 17.1875 \r\nL 47.609375 0 \r\nL 37.796875 0 \r\nL 37.796875 17.1875 \r\nL 4.890625 17.1875 \r\nL 4.890625 26.703125 \r\nz\r\n\" id=\"DejaVuSans-52\"/>\r\n       </defs>\r\n       <use xlink:href=\"#DejaVuSans-52\"/>\r\n       <use x=\"63.623047\" xlink:href=\"#DejaVuSans-48\"/>\r\n       <use x=\"127.246094\" xlink:href=\"#DejaVuSans-48\"/>\r\n      </g>\r\n     </g>\r\n    </g>\r\n    <g id=\"ytick_6\">\r\n     <g id=\"line2d_15\">\r\n      <g>\r\n       <use style=\"stroke:#000000;stroke-width:0.8;\" x=\"46.965625\" xlink:href=\"#mf588e87de0\" y=\"53.483854\"/>\r\n      </g>\r\n     </g>\r\n     <g id=\"text_16\">\r\n      <!-- 500 -->\r\n      <g transform=\"translate(20.878125 57.283073)scale(0.1 -0.1)\">\r\n       <use xlink:href=\"#DejaVuSans-53\"/>\r\n       <use x=\"63.623047\" xlink:href=\"#DejaVuSans-48\"/>\r\n       <use x=\"127.246094\" xlink:href=\"#DejaVuSans-48\"/>\r\n      </g>\r\n     </g>\r\n    </g>\r\n    <g id=\"ytick_7\">\r\n     <g id=\"line2d_16\">\r\n      <g>\r\n       <use style=\"stroke:#000000;stroke-width:0.8;\" x=\"46.965625\" xlink:href=\"#mf588e87de0\" y=\"14.917187\"/>\r\n      </g>\r\n     </g>\r\n     <g id=\"text_17\">\r\n      <!-- 600 -->\r\n      <g transform=\"translate(20.878125 18.716406)scale(0.1 -0.1)\">\r\n       <defs>\r\n        <path d=\"M 33.015625 40.375 \r\nQ 26.375 40.375 22.484375 35.828125 \r\nQ 18.609375 31.296875 18.609375 23.390625 \r\nQ 18.609375 15.53125 22.484375 10.953125 \r\nQ 26.375 6.390625 33.015625 6.390625 \r\nQ 39.65625 6.390625 43.53125 10.953125 \r\nQ 47.40625 15.53125 47.40625 23.390625 \r\nQ 47.40625 31.296875 43.53125 35.828125 \r\nQ 39.65625 40.375 33.015625 40.375 \r\nz\r\nM 52.59375 71.296875 \r\nL 52.59375 62.3125 \r\nQ 48.875 64.0625 45.09375 64.984375 \r\nQ 41.3125 65.921875 37.59375 65.921875 \r\nQ 27.828125 65.921875 22.671875 59.328125 \r\nQ 17.53125 52.734375 16.796875 39.40625 \r\nQ 19.671875 43.65625 24.015625 45.921875 \r\nQ 28.375 48.1875 33.59375 48.1875 \r\nQ 44.578125 48.1875 50.953125 41.515625 \r\nQ 57.328125 34.859375 57.328125 23.390625 \r\nQ 57.328125 12.15625 50.6875 5.359375 \r\nQ 44.046875 -1.421875 33.015625 -1.421875 \r\nQ 20.359375 -1.421875 13.671875 8.265625 \r\nQ 6.984375 17.96875 6.984375 36.375 \r\nQ 6.984375 53.65625 15.1875 63.9375 \r\nQ 23.390625 74.21875 37.203125 74.21875 \r\nQ 40.921875 74.21875 44.703125 73.484375 \r\nQ 48.484375 72.75 52.59375 71.296875 \r\nz\r\n\" id=\"DejaVuSans-54\"/>\r\n       </defs>\r\n       <use xlink:href=\"#DejaVuSans-54\"/>\r\n       <use x=\"63.623047\" xlink:href=\"#DejaVuSans-48\"/>\r\n       <use x=\"127.246094\" xlink:href=\"#DejaVuSans-48\"/>\r\n      </g>\r\n     </g>\r\n    </g>\r\n    <g id=\"text_18\">\r\n     <!-- f(r) -->\r\n     <g transform=\"translate(14.798438 22.634375)rotate(-90)scale(0.1 -0.1)\">\r\n      <defs>\r\n       <path d=\"M 37.109375 75.984375 \r\nL 37.109375 68.5 \r\nL 28.515625 68.5 \r\nQ 23.6875 68.5 21.796875 66.546875 \r\nQ 19.921875 64.59375 19.921875 59.515625 \r\nL 19.921875 54.6875 \r\nL 34.71875 54.6875 \r\nL 34.71875 47.703125 \r\nL 19.921875 47.703125 \r\nL 19.921875 0 \r\nL 10.890625 0 \r\nL 10.890625 47.703125 \r\nL 2.296875 47.703125 \r\nL 2.296875 54.6875 \r\nL 10.890625 54.6875 \r\nL 10.890625 58.5 \r\nQ 10.890625 67.625 15.140625 71.796875 \r\nQ 19.390625 75.984375 28.609375 75.984375 \r\nz\r\n\" id=\"DejaVuSans-102\"/>\r\n       <path d=\"M 31 75.875 \r\nQ 24.46875 64.65625 21.28125 53.65625 \r\nQ 18.109375 42.671875 18.109375 31.390625 \r\nQ 18.109375 20.125 21.3125 9.0625 \r\nQ 24.515625 -2 31 -13.1875 \r\nL 23.1875 -13.1875 \r\nQ 15.875 -1.703125 12.234375 9.375 \r\nQ 8.59375 20.453125 8.59375 31.390625 \r\nQ 8.59375 42.28125 12.203125 53.3125 \r\nQ 15.828125 64.359375 23.1875 75.875 \r\nz\r\n\" id=\"DejaVuSans-40\"/>\r\n       <path d=\"M 8.015625 75.875 \r\nL 15.828125 75.875 \r\nQ 23.140625 64.359375 26.78125 53.3125 \r\nQ 30.421875 42.28125 30.421875 31.390625 \r\nQ 30.421875 20.453125 26.78125 9.375 \r\nQ 23.140625 -1.703125 15.828125 -13.1875 \r\nL 8.015625 -13.1875 \r\nQ 14.5 -2 17.703125 9.0625 \r\nQ 20.90625 20.125 20.90625 31.390625 \r\nQ 20.90625 42.671875 17.703125 53.65625 \r\nQ 14.5 64.65625 8.015625 75.875 \r\nz\r\n\" id=\"DejaVuSans-41\"/>\r\n      </defs>\r\n      <use xlink:href=\"#DejaVuSans-102\"/>\r\n      <use x=\"35.205078\" xlink:href=\"#DejaVuSans-40\"/>\r\n      <use x=\"74.21875\" xlink:href=\"#DejaVuSans-114\"/>\r\n      <use x=\"115.332031\" xlink:href=\"#DejaVuSans-41\"/>\r\n     </g>\r\n    </g>\r\n   </g>\r\n   <g id=\"LineCollection_1\">\r\n    <path clip-path=\"url(#pcb9c98d174)\" style=\"fill:none;stroke:#1f77b4;stroke-width:1.5;\"/>\r\n    <path clip-path=\"url(#pcb9c98d174)\" style=\"fill:none;stroke:#1f77b4;stroke-width:1.5;\"/>\r\n    <path clip-path=\"url(#pcb9c98d174)\" style=\"fill:none;stroke:#1f77b4;stroke-width:1.5;\"/>\r\n    <path clip-path=\"url(#pcb9c98d174)\" style=\"fill:none;stroke:#1f77b4;stroke-width:1.5;\"/>\r\n    <path clip-path=\"url(#pcb9c98d174)\" style=\"fill:none;stroke:#1f77b4;stroke-width:1.5;\"/>\r\n    <path clip-path=\"url(#pcb9c98d174)\" style=\"fill:none;stroke:#1f77b4;stroke-width:1.5;\"/>\r\n    <path clip-path=\"url(#pcb9c98d174)\" style=\"fill:none;stroke:#1f77b4;stroke-width:1.5;\"/>\r\n    <path clip-path=\"url(#pcb9c98d174)\" style=\"fill:none;stroke:#1f77b4;stroke-width:1.5;\"/>\r\n    <path clip-path=\"url(#pcb9c98d174)\" style=\"fill:none;stroke:#1f77b4;stroke-width:1.5;\"/>\r\n    <path clip-path=\"url(#pcb9c98d174)\" style=\"fill:none;stroke:#1f77b4;stroke-width:1.5;\"/>\r\n    <path clip-path=\"url(#pcb9c98d174)\" d=\"M 64.31836 -1 \r\nL 68.072507 45.273663 \r\n\" style=\"fill:none;stroke:#1f77b4;stroke-width:1.5;\"/>\r\n    <path clip-path=\"url(#pcb9c98d174)\" d=\"M 68.072507 45.273663 \r\nL 73.55759 86.742591 \r\n\" style=\"fill:none;stroke:#1f77b4;stroke-width:1.5;\"/>\r\n    <path clip-path=\"url(#pcb9c98d174)\" d=\"M 73.55759 86.742591 \r\nL 78.348174 111.101846 \r\n\" style=\"fill:none;stroke:#1f77b4;stroke-width:1.5;\"/>\r\n    <path clip-path=\"url(#pcb9c98d174)\" d=\"M 78.348174 111.101846 \r\nL 82.619937 127.302072 \r\n\" style=\"fill:none;stroke:#1f77b4;stroke-width:1.5;\"/>\r\n    <path clip-path=\"url(#pcb9c98d174)\" d=\"M 82.619937 127.302072 \r\nL 87.026856 140.394281 \r\n\" style=\"fill:none;stroke:#1f77b4;stroke-width:1.5;\"/>\r\n    <path clip-path=\"url(#pcb9c98d174)\" d=\"M 87.026856 140.394281 \r\nL 92.835602 153.807832 \r\n\" style=\"fill:none;stroke:#1f77b4;stroke-width:1.5;\"/>\r\n    <path clip-path=\"url(#pcb9c98d174)\" d=\"M 92.835602 153.807832 \r\nL 98.924977 164.649463 \r\n\" style=\"fill:none;stroke:#1f77b4;stroke-width:1.5;\"/>\r\n    <path clip-path=\"url(#pcb9c98d174)\" d=\"M 98.924977 164.649463 \r\nL 103.54153 171.313491 \r\n\" style=\"fill:none;stroke:#1f77b4;stroke-width:1.5;\"/>\r\n    <path clip-path=\"url(#pcb9c98d174)\" d=\"M 103.54153 171.313491 \r\nL 108.940434 177.847399 \r\n\" style=\"fill:none;stroke:#1f77b4;stroke-width:1.5;\"/>\r\n    <path clip-path=\"url(#pcb9c98d174)\" d=\"M 108.940434 177.847399 \r\nL 115.340769 184.256594 \r\n\" style=\"fill:none;stroke:#1f77b4;stroke-width:1.5;\"/>\r\n    <path clip-path=\"url(#pcb9c98d174)\" d=\"M 115.340769 184.256594 \r\nL 120.983898 188.988073 \r\n\" style=\"fill:none;stroke:#1f77b4;stroke-width:1.5;\"/>\r\n    <path clip-path=\"url(#pcb9c98d174)\" d=\"M 120.983898 188.988073 \r\nL 125.945847 192.589787 \r\n\" style=\"fill:none;stroke:#1f77b4;stroke-width:1.5;\"/>\r\n    <path clip-path=\"url(#pcb9c98d174)\" d=\"M 125.945847 192.589787 \r\nL 131.832878 196.316723 \r\n\" style=\"fill:none;stroke:#1f77b4;stroke-width:1.5;\"/>\r\n    <path clip-path=\"url(#pcb9c98d174)\" d=\"M 131.832878 196.316723 \r\nL 139.268385 200.344543 \r\n\" style=\"fill:none;stroke:#1f77b4;stroke-width:1.5;\"/>\r\n    <path clip-path=\"url(#pcb9c98d174)\" d=\"M 139.268385 200.344543 \r\nL 147.531295 204.121853 \r\n\" style=\"fill:none;stroke:#1f77b4;stroke-width:1.5;\"/>\r\n    <path clip-path=\"url(#pcb9c98d174)\" d=\"M 147.531295 204.121853 \r\nL 154.608708 206.89615 \r\n\" style=\"fill:none;stroke:#1f77b4;stroke-width:1.5;\"/>\r\n    <path clip-path=\"url(#pcb9c98d174)\" d=\"M 154.608708 206.89615 \r\nL 161.499869 209.267988 \r\n\" style=\"fill:none;stroke:#1f77b4;stroke-width:1.5;\"/>\r\n    <path clip-path=\"url(#pcb9c98d174)\" d=\"M 161.499869 209.267988 \r\nL 167.145843 211.008531 \r\n\" style=\"fill:none;stroke:#1f77b4;stroke-width:1.5;\"/>\r\n    <path clip-path=\"url(#pcb9c98d174)\" d=\"M 167.145843 211.008531 \r\nL 172.800475 212.595194 \r\n\" style=\"fill:none;stroke:#1f77b4;stroke-width:1.5;\"/>\r\n    <path clip-path=\"url(#pcb9c98d174)\" d=\"M 172.800475 212.595194 \r\nL 179.459253 214.289972 \r\n\" style=\"fill:none;stroke:#1f77b4;stroke-width:1.5;\"/>\r\n    <path clip-path=\"url(#pcb9c98d174)\" d=\"M 179.459253 214.289972 \r\nL 185.812694 215.755491 \r\n\" style=\"fill:none;stroke:#1f77b4;stroke-width:1.5;\"/>\r\n    <path clip-path=\"url(#pcb9c98d174)\" d=\"M 185.812694 215.755491 \r\nL 191.741174 217.006976 \r\n\" style=\"fill:none;stroke:#1f77b4;stroke-width:1.5;\"/>\r\n    <path clip-path=\"url(#pcb9c98d174)\" d=\"M 191.741174 217.006976 \r\nL 197.387945 218.107265 \r\n\" style=\"fill:none;stroke:#1f77b4;stroke-width:1.5;\"/>\r\n    <path clip-path=\"url(#pcb9c98d174)\" d=\"M 197.387945 218.107265 \r\nL 202.170026 218.976455 \r\n\" style=\"fill:none;stroke:#1f77b4;stroke-width:1.5;\"/>\r\n    <path clip-path=\"url(#pcb9c98d174)\" d=\"M 202.170026 218.976455 \r\nL 207.806954 219.934652 \r\n\" style=\"fill:none;stroke:#1f77b4;stroke-width:1.5;\"/>\r\n    <path clip-path=\"url(#pcb9c98d174)\" d=\"M 207.806954 219.934652 \r\nL 214.228093 220.947467 \r\n\" style=\"fill:none;stroke:#1f77b4;stroke-width:1.5;\"/>\r\n    <path clip-path=\"url(#pcb9c98d174)\" d=\"M 214.228093 220.947467 \r\nL 221.562909 222.013247 \r\n\" style=\"fill:none;stroke:#1f77b4;stroke-width:1.5;\"/>\r\n    <path clip-path=\"url(#pcb9c98d174)\" d=\"M 221.562909 222.013247 \r\nL 227.869674 222.860543 \r\n\" style=\"fill:none;stroke:#1f77b4;stroke-width:1.5;\"/>\r\n    <path clip-path=\"url(#pcb9c98d174)\" d=\"M 227.869674 222.860543 \r\nL 234.359407 223.672882 \r\n\" style=\"fill:none;stroke:#1f77b4;stroke-width:1.5;\"/>\r\n    <path clip-path=\"url(#pcb9c98d174)\" d=\"M 234.359407 223.672882 \r\nL 239.769638 224.308299 \r\n\" style=\"fill:none;stroke:#1f77b4;stroke-width:1.5;\"/>\r\n    <path clip-path=\"url(#pcb9c98d174)\" d=\"M 239.769638 224.308299 \r\nL 245.189656 224.910086 \r\n\" style=\"fill:none;stroke:#1f77b4;stroke-width:1.5;\"/>\r\n    <path clip-path=\"url(#pcb9c98d174)\" d=\"M 245.189656 224.910086 \r\nL 250.344515 225.452672 \r\n\" style=\"fill:none;stroke:#1f77b4;stroke-width:1.5;\"/>\r\n    <path clip-path=\"url(#pcb9c98d174)\" d=\"M 250.344515 225.452672 \r\nL 255.431772 225.961834 \r\n\" style=\"fill:none;stroke:#1f77b4;stroke-width:1.5;\"/>\r\n    <path clip-path=\"url(#pcb9c98d174)\" d=\"M 255.431772 225.961834 \r\nL 261.136559 226.504032 \r\n\" style=\"fill:none;stroke:#1f77b4;stroke-width:1.5;\"/>\r\n    <path clip-path=\"url(#pcb9c98d174)\" d=\"M 261.136559 226.504032 \r\nL 267.001358 227.032129 \r\n\" style=\"fill:none;stroke:#1f77b4;stroke-width:1.5;\"/>\r\n    <path clip-path=\"url(#pcb9c98d174)\" d=\"M 267.001358 227.032129 \r\nL 273.610171 227.594469 \r\n\" style=\"fill:none;stroke:#1f77b4;stroke-width:1.5;\"/>\r\n    <path clip-path=\"url(#pcb9c98d174)\" d=\"M 273.610171 227.594469 \r\nL 280.042214 228.111146 \r\n\" style=\"fill:none;stroke:#1f77b4;stroke-width:1.5;\"/>\r\n    <path clip-path=\"url(#pcb9c98d174)\" d=\"M 280.042214 228.111146 \r\nL 285.23269 228.507752 \r\n\" style=\"fill:none;stroke:#1f77b4;stroke-width:1.5;\"/>\r\n    <path clip-path=\"url(#pcb9c98d174)\" d=\"M 285.23269 228.507752 \r\nL 289.590036 228.827595 \r\n\" style=\"fill:none;stroke:#1f77b4;stroke-width:1.5;\"/>\r\n    <path clip-path=\"url(#pcb9c98d174)\" d=\"M 289.590036 228.827595 \r\nL 294.782053 229.194021 \r\n\" style=\"fill:none;stroke:#1f77b4;stroke-width:1.5;\"/>\r\n    <path clip-path=\"url(#pcb9c98d174)\" d=\"M 294.782053 229.194021 \r\nL 299.98822 229.546345 \r\n\" style=\"fill:none;stroke:#1f77b4;stroke-width:1.5;\"/>\r\n    <path clip-path=\"url(#pcb9c98d174)\" d=\"M 299.98822 229.546345 \r\nL 304.277944 229.825937 \r\n\" style=\"fill:none;stroke:#1f77b4;stroke-width:1.5;\"/>\r\n    <path clip-path=\"url(#pcb9c98d174)\" d=\"M 304.277944 229.825937 \r\nL 308.140756 230.069844 \r\n\" style=\"fill:none;stroke:#1f77b4;stroke-width:1.5;\"/>\r\n    <path clip-path=\"url(#pcb9c98d174)\" d=\"M 308.140756 230.069844 \r\nL 313.105143 230.372911 \r\n\" style=\"fill:none;stroke:#1f77b4;stroke-width:1.5;\"/>\r\n    <path clip-path=\"url(#pcb9c98d174)\" d=\"M 313.105143 230.372911 \r\nL 317.843643 230.651826 \r\n\" style=\"fill:none;stroke:#1f77b4;stroke-width:1.5;\"/>\r\n    <path clip-path=\"url(#pcb9c98d174)\" d=\"M 317.843643 230.651826 \r\nL 322.991408 230.943979 \r\n\" style=\"fill:none;stroke:#1f77b4;stroke-width:1.5;\"/>\r\n    <path clip-path=\"url(#pcb9c98d174)\" d=\"M 322.991408 230.943979 \r\nL 328.699672 231.255458 \r\n\" style=\"fill:none;stroke:#1f77b4;stroke-width:1.5;\"/>\r\n    <path clip-path=\"url(#pcb9c98d174)\" d=\"M 328.699672 231.255458 \r\nL 333.466771 231.50607 \r\n\" style=\"fill:none;stroke:#1f77b4;stroke-width:1.5;\"/>\r\n    <path clip-path=\"url(#pcb9c98d174)\" d=\"M 333.466771 231.50607 \r\nL 338.601911 231.766865 \r\n\" style=\"fill:none;stroke:#1f77b4;stroke-width:1.5;\"/>\r\n    <path clip-path=\"url(#pcb9c98d174)\" d=\"M 338.601911 231.766865 \r\nL 343.962946 232.02951 \r\n\" style=\"fill:none;stroke:#1f77b4;stroke-width:1.5;\"/>\r\n    <path clip-path=\"url(#pcb9c98d174)\" d=\"M 343.962946 232.02951 \r\nL 349.404392 232.286572 \r\n\" style=\"fill:none;stroke:#1f77b4;stroke-width:1.5;\"/>\r\n    <path clip-path=\"url(#pcb9c98d174)\" d=\"M 349.404392 232.286572 \r\nL 353.612937 232.479134 \r\n\" style=\"fill:none;stroke:#1f77b4;stroke-width:1.5;\"/>\r\n    <path clip-path=\"url(#pcb9c98d174)\" d=\"M 353.612937 232.479134 \r\nL 358.256139 232.685542 \r\n\" style=\"fill:none;stroke:#1f77b4;stroke-width:1.5;\"/>\r\n    <path clip-path=\"url(#pcb9c98d174)\" d=\"M 358.256139 232.685542 \r\nL 363.470912 232.910138 \r\n\" style=\"fill:none;stroke:#1f77b4;stroke-width:1.5;\"/>\r\n    <path clip-path=\"url(#pcb9c98d174)\" d=\"M 363.470912 232.910138 \r\nL 368.920827 233.137087 \r\n\" style=\"fill:none;stroke:#1f77b4;stroke-width:1.5;\"/>\r\n    <path clip-path=\"url(#pcb9c98d174)\" d=\"M 368.920827 233.137087 \r\nL 373.956696 233.340069 \r\n\" style=\"fill:none;stroke:#1f77b4;stroke-width:1.5;\"/>\r\n    <path clip-path=\"url(#pcb9c98d174)\" d=\"M 373.956696 233.340069 \r\nL 378.367589 233.512791 \r\n\" style=\"fill:none;stroke:#1f77b4;stroke-width:1.5;\"/>\r\n    <path clip-path=\"url(#pcb9c98d174)\" d=\"M 378.367589 233.512791 \r\nL 382.927845 233.686595 \r\n\" style=\"fill:none;stroke:#1f77b4;stroke-width:1.5;\"/>\r\n    <path clip-path=\"url(#pcb9c98d174)\" d=\"M 382.927845 233.686595 \r\nL 388.38088 233.888329 \r\n\" style=\"fill:none;stroke:#1f77b4;stroke-width:1.5;\"/>\r\n    <path clip-path=\"url(#pcb9c98d174)\" d=\"M 388.38088 233.888329 \r\nL 392.889228 234.050311 \r\n\" style=\"fill:none;stroke:#1f77b4;stroke-width:1.5;\"/>\r\n    <path clip-path=\"url(#pcb9c98d174)\" d=\"M 392.889228 234.050311 \r\nL 397.194705 234.201112 \r\n\" style=\"fill:none;stroke:#1f77b4;stroke-width:1.5;\"/>\r\n   </g>\r\n   <g id=\"patch_3\">\r\n    <path d=\"M 46.965625 246.317188 \r\nL 46.965625 14.917187 \r\n\" style=\"fill:none;stroke:#000000;stroke-linecap:square;stroke-linejoin:miter;stroke-width:0.8;\"/>\r\n   </g>\r\n   <g id=\"patch_4\">\r\n    <path d=\"M 414.704252 246.317188 \r\nL 414.704252 14.917187 \r\n\" style=\"fill:none;\"/>\r\n   </g>\r\n   <g id=\"patch_5\">\r\n    <path d=\"M 29.494221 246.317188 \r\nL 414.704252 246.317188 \r\n\" style=\"fill:none;stroke:#000000;stroke-linecap:square;stroke-linejoin:miter;stroke-width:0.8;\"/>\r\n   </g>\r\n   <g id=\"patch_6\">\r\n    <path d=\"M 29.494221 14.917188 \r\nL 414.704252 14.917188 \r\n\" style=\"fill:none;\"/>\r\n   </g>\r\n  </g>\r\n </g>\r\n <defs>\r\n  <clipPath id=\"pcb9c98d174\">\r\n   <rect height=\"231.4\" width=\"385.21003\" x=\"29.494221\" y=\"14.917188\"/>\r\n  </clipPath>\r\n </defs>\r\n</svg>\r\n",
      "image/png": "[encoded data removed]"
     },
     "metadata": {
      "needs_background": "light"
     }
    },
    {
     "output_type": "execute_result",
     "data": {
      "text/plain": [
       "<sympy.plotting.plot.Plot at 0x204571e2940>"
      ]
     },
     "metadata": {},
     "execution_count": 47
    }
   ]
  },
  {
   "source": [
    "para a letra b) $ 0\\leq \\theta \\leq \\pi $ e $r = 0.1$"
   ],
   "cell_type": "markdown",
   "metadata": {}
  },
  {
   "cell_type": "code",
   "execution_count": 48,
   "metadata": {},
   "outputs": [
    {
     "output_type": "execute_result",
     "data": {
      "text/plain": [
       "0"
      ],
      "text/latex": "$\\displaystyle 0$"
     },
     "metadata": {},
     "execution_count": 48
    }
   ],
   "source": [
    "Ib = lambda r: sp.integrate(sp.integrate(J*ds,(phi,0,2*sp.pi)),(o,0,sp.pi))\n",
    "Ib(r).subs(r,0.1).evalf()"
   ]
  },
  {
   "source": [
    "## Q11"
   ],
   "cell_type": "markdown",
   "metadata": {}
  },
  {
   "source": [
    "Desprezando o efeito de borda, temos \n",
    "\n",
    "$$V_0 = -\\int E\\cdot dl = -\\int^\\alpha_0 \\left(\\frac{D_\\phi}{\\epsilon_0 \\epsilon_r} a_\\phi \\right) \\cdot (rd\\phi \\ a_\\phi)$$\n",
    "$$V_0 = - \\frac{D_\\phi \\ r\\alpha}{\\epsilon_0 \\epsilon_r}$$\n",
    "\n",
    "\n",
    "e a carga \n",
    "$$ Q = \\int \\rho_s dS $$ \n",
    "\n",
    "$$ Q = \\int^h_0 \\int^R-{r_2}_{r_1} \\frac{\\epsilon_0 \\epsilon_r V_0}{r\\alpha\\ dr \\ dz} $$\n",
    "\n",
    "$$Q = \\frac{\\epsilon_0 \\epsilon_r V_0 h}{\\alpha}\\ln{\\frac{r_2}{r_1}}$$\n",
    "\n",
    "Logo no Capacitor teremos \n",
    "\n",
    "$$C = \\frac{Q}{V_0}$$\n",
    " \n",
    "$$C = \\frac{\\epsilon_0 \\epsilon_r h}{\\alpha}\\ln{\\frac{r_2}{r_1}}$$"
   ],
   "cell_type": "markdown",
   "metadata": {}
  },
  {
   "source": [
    "e0 = 8.85e-12\n",
    "er = 4.5\n",
    "h = 5e-3\n",
    "r1 = 1e-3\n",
    "r2 = 30e-3\n",
    "a = 5*sp.pi/180\n",
    "\n",
    "C = (e0*er*h/a) * sp.ln(r2/r1)\n",
    "C.evalf()"
   ],
   "cell_type": "code",
   "metadata": {},
   "execution_count": 49,
   "outputs": [
    {
     "output_type": "execute_result",
     "data": {
      "text/plain": [
       "7.76086721573698e-12"
      ],
      "text/latex": "$\\displaystyle 7.76086721573698 \\cdot 10^{-12}$"
     },
     "metadata": {},
     "execution_count": 49
    }
   ]
  },
  {
   "source": [
    "$$C  = 7.76 \\ pF $$"
   ],
   "cell_type": "markdown",
   "metadata": {}
  },
  {
   "source": [
    "## Q1"
   ],
   "cell_type": "markdown",
   "metadata": {}
  },
  {
   "source": [
    "Pela Segunda lei de Ohm $$ R = \\rho \\frac{L}{A} $$ \n",
    "onde $\\rho$ é a resistividade elétrica do material e sabemos que a condutividade é o inverso da resistividade logo \n",
    "$$ R = \\frac{L}{\\sigma A}$$"
   ],
   "cell_type": "markdown",
   "metadata": {}
  },
  {
   "cell_type": "code",
   "execution_count": 50,
   "metadata": {},
   "outputs": [
    {
     "output_type": "execute_result",
     "data": {
      "text/plain": [
       "2.11926704410916e+16"
      ],
      "text/latex": "$\\displaystyle 2.11926704410916 \\cdot 10^{16}$"
     },
     "metadata": {},
     "execution_count": 50
    }
   ],
   "source": [
    "L = 1609e3\n",
    "sig = 5.8e7\n",
    "D = 1.291e-9\n",
    "\n",
    "A = sp.pi*(D/2)**2\n",
    "R = L/(sig*A)\n",
    "\n",
    "R.evalf()"
   ]
  },
  {
   "source": [
    "então para calcular a densidade de corrente podemos usar $$J = \\frac{I}{A}$$ "
   ],
   "cell_type": "markdown",
   "metadata": {}
  },
  {
   "cell_type": "code",
   "execution_count": 51,
   "metadata": {},
   "outputs": [
    {
     "output_type": "execute_result",
     "data": {
      "text/plain": [
       "7.63937156981548e+18"
      ],
      "text/latex": "$\\displaystyle 7.63937156981548 \\cdot 10^{18}$"
     },
     "metadata": {},
     "execution_count": 51
    }
   ],
   "source": [
    "I = 10\n",
    "J = I/A\n",
    "J.evalf()"
   ]
  },
  {
   "source": [
    "Logo a tensão no fio é:"
   ],
   "cell_type": "markdown",
   "metadata": {}
  },
  {
   "cell_type": "code",
   "execution_count": 52,
   "metadata": {},
   "outputs": [
    {
     "output_type": "execute_result",
     "data": {
      "text/plain": [
       "2.11926704410916e+17"
      ],
      "text/latex": "$\\displaystyle 2.11926704410916 \\cdot 10^{17}$"
     },
     "metadata": {},
     "execution_count": 52
    }
   ],
   "source": [
    "V = R*I\n",
    "V.evalf()"
   ]
  },
  {
   "source": [
    "Olhando para o Campo elétrico agora"
   ],
   "cell_type": "markdown",
   "metadata": {}
  },
  {
   "cell_type": "code",
   "execution_count": 53,
   "metadata": {},
   "outputs": [
    {
     "output_type": "execute_result",
     "data": {
      "text/plain": [
       "131713302927.853"
      ],
      "text/latex": "$\\displaystyle 131713302927.853$"
     },
     "metadata": {},
     "execution_count": 53
    }
   ],
   "source": [
    "E = V/L\n",
    "E.evalf()"
   ]
  },
  {
   "source": [
    "print(\" R = {:.3e} Ohm \\n J = {:.3e} A/m² \\n V = {:.3e} V \\n E = {:.3e} V/m\".format(R.evalf(), J.evalf(), V.evalf(), E.evalf()))\n"
   ],
   "cell_type": "code",
   "metadata": {},
   "execution_count": 54,
   "outputs": [
    {
     "output_type": "stream",
     "name": "stdout",
     "text": [
      " R = 2.119e+16 Ohm \n J = 7.639e+18 A/m² \n V = 2.119e+17 V \n E = 1.317e+11 V/m\n"
     ]
    }
   ]
  },
  {
   "source": [
    "Os resultados a cima são bem particulares, por conta do diâmetro do fio se da na ordem de nano metro."
   ],
   "cell_type": "markdown",
   "metadata": {}
  },
  {
   "source": [
    "## Q3"
   ],
   "cell_type": "markdown",
   "metadata": {}
  },
  {
   "source": [
    "Supondo que $a$ é o raio interno e $b$ é o raio do encapsulamento coaxial podemos começar nossa dedução a partir da densidade de corrente \n",
    "$$J = \\frac{I}{A} = \\frac{I}{2\\pi r l}$$\n",
    "de modo que: \n",
    "\n",
    "$$E = \\frac{I}{2\\pi\\sigma r l}$$\n",
    "\n",
    "A diferença de potencial entre os condutores é \n",
    "$$ V_{ab} = -\\int^a_b \\frac{I}{2\\pi\\sigma r l} dr $$\n",
    "\n",
    "\n",
    "$$ V_{ab} = \\frac{I}{2\\pi\\sigma l} \\ln{\\frac{b}{a}}$$\n",
    "\n",
    "Sabendo a tensão e a corrente podemos aplicar a lei de Ohm e \n",
    "$$ R = \\frac{V}{I} = \\frac{1}{2\\pi\\sigma l} \\ln{\\frac{b}{a}}$$"
   ],
   "cell_type": "markdown",
   "metadata": {}
  },
  {
   "source": [
    "## Q5"
   ],
   "cell_type": "markdown",
   "metadata": {}
  },
  {
   "source": [
    "Olhando para uma superfície esférica de raio $a<r<b$ e aplicando a relação de densidade e corrente \n",
    "$$ I = \\int_S \\vec{J}\\cdot d\\vec{S} $$\n",
    "\n",
    "A corrente tem distribuição radial, por tando o produto vetorial sai com $0°$ em seus fatores. \n",
    "\n",
    "$$ I = J\\cdot S = J4\\pi r^2 $$\n",
    "\n",
    "logo a densidade de corrente pode ser expressada por $$J = \\frac{ I}{4\\pi r^2}$$"
   ],
   "cell_type": "markdown",
   "metadata": {}
  },
  {
   "source": [
    "## Q7"
   ],
   "cell_type": "markdown",
   "metadata": {}
  },
  {
   "source": [
    "Sabendo que \n",
    "$$ C = \\frac{\\epsilon_0 \\epsilon_r A}{d} $$ "
   ],
   "cell_type": "markdown",
   "metadata": {}
  },
  {
   "cell_type": "code",
   "execution_count": 55,
   "metadata": {},
   "outputs": [
    {
     "output_type": "execute_result",
     "data": {
      "text/plain": [
       "4.4249999999999996e-08"
      ]
     },
     "metadata": {},
     "execution_count": 55
    }
   ],
   "source": [
    "er1 = 1.5\n",
    "er2 = 3.5\n",
    "A = 1 # Área total do capacitor é 2, então a metade é de um dielétrico \n",
    "d = 1e-3\n",
    "\n",
    "C = lambda er: (e0*er*A)/d \n",
    "\n",
    "C = C(er1) + C(er2)\n",
    "C"
   ]
  },
  {
   "source": [
    "$$ C = 44.3 \\ nF $$"
   ],
   "cell_type": "markdown",
   "metadata": {}
  },
  {
   "source": [
    "## Q8"
   ],
   "cell_type": "markdown",
   "metadata": {}
  },
  {
   "source": [
    "Usando a reção de densidade do fluxo de campo e a solução de um problema já conhecido $V = Ay + B$ \n",
    "$$ E = \\frac{D}{\\epsilon_0} = - \\nabla V = - Aa_y $$\n",
    "\n",
    "$$ A = - \\frac{D}{\\epsilon_0} $$\n"
   ],
   "cell_type": "markdown",
   "metadata": {}
  },
  {
   "cell_type": "code",
   "execution_count": 56,
   "metadata": {},
   "outputs": [
    {
     "output_type": "execute_result",
     "data": {
      "text/plain": [
       "-28587.570621468927"
      ]
     },
     "metadata": {},
     "execution_count": 56
    }
   ],
   "source": [
    "D = 253e-9\n",
    "A = - D/e0\n",
    "A"
   ]
  },
  {
   "source": [
    "logo $ A = -2.86*10^4 V/m $\n",
    "\n",
    "para $y = 0.01$ sabemos que o potêncial é nulo  \n",
    "$$ V = Ay+B $$"
   ],
   "cell_type": "markdown",
   "metadata": {}
  },
  {
   "cell_type": "code",
   "execution_count": 57,
   "metadata": {},
   "outputs": [
    {
     "output_type": "execute_result",
     "data": {
      "text/plain": [
       "285.88"
      ],
      "text/latex": "$\\displaystyle 285.88$"
     },
     "metadata": {},
     "execution_count": 57
    }
   ],
   "source": [
    "B = sp.Symbol(\"B\")\n",
    "y = 0.01\n",
    "sp.solve(A*y+B,B)[0].evalf(5) #não era necessario,mas...\n"
   ]
  },
  {
   "source": [
    "temos então que $B = 285.88 $\n",
    "Podemos montar a nossa equação \n",
    "$$ V = -2.86*10^4 y + 285.88 \\ \\ [V]$$ \n",
    "\n",
    "Logo vamos calcular o potencial em $y=0$ e $y=0.02$ "
   ],
   "cell_type": "markdown",
   "metadata": {}
  },
  {
   "cell_type": "code",
   "execution_count": 58,
   "metadata": {},
   "outputs": [
    {
     "output_type": "stream",
     "name": "stdout",
     "text": [
      " y = 0.00 temos 285.88 \n y = 0.02 temos -285.87\n"
     ]
    }
   ],
   "source": [
    "B = 285.88\n",
    "V = lambda y: A*y+B\n",
    "\n",
    "print(\" y = 0.00 temos {} \\n y = 0.02 temos {:.5}\".format(V(0),V(0.02)))"
   ]
  },
  {
   "source": [
    "## Q10"
   ],
   "cell_type": "markdown",
   "metadata": {}
  },
  {
   "source": [
    "Potencial cosntate em $\\phi$ e $z$ sendo assim a \n",
    "$$ \\frac{1}{r} \\frac{d}{dr}\\left(r\\frac{dV}{dr}\\right) = 0$$\n",
    "\n",
    "Logo $$ V = A\\ln{r} + B $$\n",
    "\n",
    "Sabendo que em $V = 0V $ temos $ r = 1mm $ e $V = 150V$ temos $r = 20mm$ podemos encontrar os coeficientes $A$ e $B$"
   ],
   "cell_type": "markdown",
   "metadata": {}
  },
  {
   "cell_type": "code",
   "execution_count": 59,
   "metadata": {},
   "outputs": [
    {
     "output_type": "execute_result",
     "data": {
      "text/plain": [
       "{A: 50.0712301043001, B: 345.879804078109}"
      ]
     },
     "metadata": {},
     "execution_count": 59
    }
   ],
   "source": [
    "sp.var('A,B')\n",
    "V2 = 150\n",
    "V = lambda r: A*sp.ln(r)+B\n",
    "\n",
    "v1 = sp.solve((V(0.02)-V2,V(0.001)), A,B)\n",
    "v1\n",
    "\n"
   ]
  },
  {
   "source": [
    "Logo $$ V = 50.07\\ln{r} + 345.87 \\ \\ \\ [V] $$ \n",
    "\n",
    "E sabendo que $E = - \\nabla V $ podemos escrever a função de campo elétrico "
   ],
   "cell_type": "markdown",
   "metadata": {}
  },
  {
   "cell_type": "code",
   "execution_count": 60,
   "metadata": {},
   "outputs": [
    {
     "output_type": "execute_result",
     "data": {
      "text/plain": [
       "-50.0712301043001/r"
      ],
      "text/latex": "$\\displaystyle - \\frac{50.0712301043001}{r}$"
     },
     "metadata": {},
     "execution_count": 60
    }
   ],
   "source": [
    "v2 = lambda r : v1[A]*sp.ln(r) + v1[B]\n",
    "E = lambda r: - v2(r).diff(r)\n",
    "E(r)"
   ]
  },
  {
   "source": [
    "\n",
    "$$ E = - \\frac{50.07}{r} a_r  \\ \\ \\ [V/m]$$"
   ],
   "cell_type": "markdown",
   "metadata": {}
  },
  {
   "cell_type": "code",
   "execution_count": 61,
   "metadata": {},
   "outputs": [
    {
     "output_type": "display_data",
     "data": {
      "text/plain": "<Figure size 432x288 with 1 Axes>",
      "image/svg+xml": "<?xml version=\"1.0\" encoding=\"utf-8\" standalone=\"no\"?>\r\n<!DOCTYPE svg PUBLIC \"-//W3C//DTD SVG 1.1//EN\"\r\n  \"http://www.w3.org/Graphics/SVG/1.1/DTD/svg11.dtd\">\r\n<!-- Created with matplotlib (https://matplotlib.org/) -->\r\n<svg height=\"280.1225pt\" version=\"1.1\" viewBox=\"0 0 424.344317 280.1225\" width=\"424.344317pt\" xmlns=\"http://www.w3.org/2000/svg\" xmlns:xlink=\"http://www.w3.org/1999/xlink\">\r\n <metadata>\r\n  <rdf:RDF xmlns:cc=\"http://creativecommons.org/ns#\" xmlns:dc=\"http://purl.org/dc/elements/1.1/\" xmlns:rdf=\"http://www.w3.org/1999/02/22-rdf-syntax-ns#\">\r\n   <cc:Work>\r\n    <dc:type rdf:resource=\"http://purl.org/dc/dcmitype/StillImage\"/>\r\n    <dc:date>2020-12-09T16:05:07.671767</dc:date>\r\n    <dc:format>image/svg+xml</dc:format>\r\n    <dc:creator>\r\n     <cc:Agent>\r\n      <dc:title>Matplotlib v3.3.2, https://matplotlib.org/</dc:title>\r\n     </cc:Agent>\r\n    </dc:creator>\r\n   </cc:Work>\r\n  </rdf:RDF>\r\n </metadata>\r\n <defs>\r\n  <style type=\"text/css\">*{stroke-linecap:butt;stroke-linejoin:round;}</style>\r\n </defs>\r\n <g id=\"figure_1\">\r\n  <g id=\"patch_1\">\r\n   <path d=\"M 0 280.1225 \r\nL 424.344317 280.1225 \r\nL 424.344317 0 \r\nL 0 0 \r\nz\r\n\" style=\"fill:none;\"/>\r\n  </g>\r\n  <g id=\"axes_1\">\r\n   <g id=\"patch_2\">\r\n    <path d=\"M 38.254151 272.9225 \r\nL 415.088848 272.9225 \r\nL 415.088848 22.5225 \r\nL 38.254151 22.5225 \r\nz\r\n\" style=\"fill:#ffffff;\"/>\r\n   </g>\r\n   <g id=\"matplotlib.axis_1\">\r\n    <g id=\"xtick_1\">\r\n     <g id=\"line2d_1\">\r\n      <defs>\r\n       <path d=\"M 0 0 \r\nL 0 3.5 \r\n\" id=\"me06934e138\" style=\"stroke:#000000;stroke-width:0.8;\"/>\r\n      </defs>\r\n      <g>\r\n       <use style=\"stroke:#000000;stroke-width:0.8;\" x=\"55.345313\" xlink:href=\"#me06934e138\" y=\"147.7225\"/>\r\n      </g>\r\n     </g>\r\n     <g id=\"text_1\">\r\n      <!-- 0 -->\r\n      <g transform=\"translate(52.164063 162.320938)scale(0.1 -0.1)\">\r\n       <defs>\r\n        <path d=\"M 31.78125 66.40625 \r\nQ 24.171875 66.40625 20.328125 58.90625 \r\nQ 16.5 51.421875 16.5 36.375 \r\nQ 16.5 21.390625 20.328125 13.890625 \r\nQ 24.171875 6.390625 31.78125 6.390625 \r\nQ 39.453125 6.390625 43.28125 13.890625 \r\nQ 47.125 21.390625 47.125 36.375 \r\nQ 47.125 51.421875 43.28125 58.90625 \r\nQ 39.453125 66.40625 31.78125 66.40625 \r\nz\r\nM 31.78125 74.21875 \r\nQ 44.046875 74.21875 50.515625 64.515625 \r\nQ 56.984375 54.828125 56.984375 36.375 \r\nQ 56.984375 17.96875 50.515625 8.265625 \r\nQ 44.046875 -1.421875 31.78125 -1.421875 \r\nQ 19.53125 -1.421875 13.0625 8.265625 \r\nQ 6.59375 17.96875 6.59375 36.375 \r\nQ 6.59375 54.828125 13.0625 64.515625 \r\nQ 19.53125 74.21875 31.78125 74.21875 \r\nz\r\n\" id=\"DejaVuSans-48\"/>\r\n       </defs>\r\n       <use xlink:href=\"#DejaVuSans-48\"/>\r\n      </g>\r\n     </g>\r\n    </g>\r\n    <g id=\"xtick_2\">\r\n     <g id=\"line2d_2\">\r\n      <g>\r\n       <use style=\"stroke:#000000;stroke-width:0.8;\" x=\"123.86825\" xlink:href=\"#me06934e138\" y=\"147.7225\"/>\r\n      </g>\r\n     </g>\r\n     <g id=\"text_2\">\r\n      <!-- 2 -->\r\n      <g transform=\"translate(120.687 162.320938)scale(0.1 -0.1)\">\r\n       <defs>\r\n        <path d=\"M 19.1875 8.296875 \r\nL 53.609375 8.296875 \r\nL 53.609375 0 \r\nL 7.328125 0 \r\nL 7.328125 8.296875 \r\nQ 12.9375 14.109375 22.625 23.890625 \r\nQ 32.328125 33.6875 34.8125 36.53125 \r\nQ 39.546875 41.84375 41.421875 45.53125 \r\nQ 43.3125 49.21875 43.3125 52.78125 \r\nQ 43.3125 58.59375 39.234375 62.25 \r\nQ 35.15625 65.921875 28.609375 65.921875 \r\nQ 23.96875 65.921875 18.8125 64.3125 \r\nQ 13.671875 62.703125 7.8125 59.421875 \r\nL 7.8125 69.390625 \r\nQ 13.765625 71.78125 18.9375 73 \r\nQ 24.125 74.21875 28.421875 74.21875 \r\nQ 39.75 74.21875 46.484375 68.546875 \r\nQ 53.21875 62.890625 53.21875 53.421875 \r\nQ 53.21875 48.921875 51.53125 44.890625 \r\nQ 49.859375 40.875 45.40625 35.40625 \r\nQ 44.1875 33.984375 37.640625 27.21875 \r\nQ 31.109375 20.453125 19.1875 8.296875 \r\nz\r\n\" id=\"DejaVuSans-50\"/>\r\n       </defs>\r\n       <use xlink:href=\"#DejaVuSans-50\"/>\r\n      </g>\r\n     </g>\r\n    </g>\r\n    <g id=\"xtick_3\">\r\n     <g id=\"line2d_3\">\r\n      <g>\r\n       <use style=\"stroke:#000000;stroke-width:0.8;\" x=\"192.391187\" xlink:href=\"#me06934e138\" y=\"147.7225\"/>\r\n      </g>\r\n     </g>\r\n     <g id=\"text_3\">\r\n      <!-- 4 -->\r\n      <g transform=\"translate(189.209937 162.320938)scale(0.1 -0.1)\">\r\n       <defs>\r\n        <path d=\"M 37.796875 64.3125 \r\nL 12.890625 25.390625 \r\nL 37.796875 25.390625 \r\nz\r\nM 35.203125 72.90625 \r\nL 47.609375 72.90625 \r\nL 47.609375 25.390625 \r\nL 58.015625 25.390625 \r\nL 58.015625 17.1875 \r\nL 47.609375 17.1875 \r\nL 47.609375 0 \r\nL 37.796875 0 \r\nL 37.796875 17.1875 \r\nL 4.890625 17.1875 \r\nL 4.890625 26.703125 \r\nz\r\n\" id=\"DejaVuSans-52\"/>\r\n       </defs>\r\n       <use xlink:href=\"#DejaVuSans-52\"/>\r\n      </g>\r\n     </g>\r\n    </g>\r\n    <g id=\"xtick_4\">\r\n     <g id=\"line2d_4\">\r\n      <g>\r\n       <use style=\"stroke:#000000;stroke-width:0.8;\" x=\"260.914124\" xlink:href=\"#me06934e138\" y=\"147.7225\"/>\r\n      </g>\r\n     </g>\r\n     <g id=\"text_4\">\r\n      <!-- 6 -->\r\n      <g transform=\"translate(257.732874 162.320938)scale(0.1 -0.1)\">\r\n       <defs>\r\n        <path d=\"M 33.015625 40.375 \r\nQ 26.375 40.375 22.484375 35.828125 \r\nQ 18.609375 31.296875 18.609375 23.390625 \r\nQ 18.609375 15.53125 22.484375 10.953125 \r\nQ 26.375 6.390625 33.015625 6.390625 \r\nQ 39.65625 6.390625 43.53125 10.953125 \r\nQ 47.40625 15.53125 47.40625 23.390625 \r\nQ 47.40625 31.296875 43.53125 35.828125 \r\nQ 39.65625 40.375 33.015625 40.375 \r\nz\r\nM 52.59375 71.296875 \r\nL 52.59375 62.3125 \r\nQ 48.875 64.0625 45.09375 64.984375 \r\nQ 41.3125 65.921875 37.59375 65.921875 \r\nQ 27.828125 65.921875 22.671875 59.328125 \r\nQ 17.53125 52.734375 16.796875 39.40625 \r\nQ 19.671875 43.65625 24.015625 45.921875 \r\nQ 28.375 48.1875 33.59375 48.1875 \r\nQ 44.578125 48.1875 50.953125 41.515625 \r\nQ 57.328125 34.859375 57.328125 23.390625 \r\nQ 57.328125 12.15625 50.6875 5.359375 \r\nQ 44.046875 -1.421875 33.015625 -1.421875 \r\nQ 20.359375 -1.421875 13.671875 8.265625 \r\nQ 6.984375 17.96875 6.984375 36.375 \r\nQ 6.984375 53.65625 15.1875 63.9375 \r\nQ 23.390625 74.21875 37.203125 74.21875 \r\nQ 40.921875 74.21875 44.703125 73.484375 \r\nQ 48.484375 72.75 52.59375 71.296875 \r\nz\r\n\" id=\"DejaVuSans-54\"/>\r\n       </defs>\r\n       <use xlink:href=\"#DejaVuSans-54\"/>\r\n      </g>\r\n     </g>\r\n    </g>\r\n    <g id=\"xtick_5\">\r\n     <g id=\"line2d_5\">\r\n      <g>\r\n       <use style=\"stroke:#000000;stroke-width:0.8;\" x=\"329.437061\" xlink:href=\"#me06934e138\" y=\"147.7225\"/>\r\n      </g>\r\n     </g>\r\n     <g id=\"text_5\">\r\n      <!-- 8 -->\r\n      <g transform=\"translate(326.255811 162.320938)scale(0.1 -0.1)\">\r\n       <defs>\r\n        <path d=\"M 31.78125 34.625 \r\nQ 24.75 34.625 20.71875 30.859375 \r\nQ 16.703125 27.09375 16.703125 20.515625 \r\nQ 16.703125 13.921875 20.71875 10.15625 \r\nQ 24.75 6.390625 31.78125 6.390625 \r\nQ 38.8125 6.390625 42.859375 10.171875 \r\nQ 46.921875 13.96875 46.921875 20.515625 \r\nQ 46.921875 27.09375 42.890625 30.859375 \r\nQ 38.875 34.625 31.78125 34.625 \r\nz\r\nM 21.921875 38.8125 \r\nQ 15.578125 40.375 12.03125 44.71875 \r\nQ 8.5 49.078125 8.5 55.328125 \r\nQ 8.5 64.0625 14.71875 69.140625 \r\nQ 20.953125 74.21875 31.78125 74.21875 \r\nQ 42.671875 74.21875 48.875 69.140625 \r\nQ 55.078125 64.0625 55.078125 55.328125 \r\nQ 55.078125 49.078125 51.53125 44.71875 \r\nQ 48 40.375 41.703125 38.8125 \r\nQ 48.828125 37.15625 52.796875 32.3125 \r\nQ 56.78125 27.484375 56.78125 20.515625 \r\nQ 56.78125 9.90625 50.3125 4.234375 \r\nQ 43.84375 -1.421875 31.78125 -1.421875 \r\nQ 19.734375 -1.421875 13.25 4.234375 \r\nQ 6.78125 9.90625 6.78125 20.515625 \r\nQ 6.78125 27.484375 10.78125 32.3125 \r\nQ 14.796875 37.15625 21.921875 38.8125 \r\nz\r\nM 18.3125 54.390625 \r\nQ 18.3125 48.734375 21.84375 45.5625 \r\nQ 25.390625 42.390625 31.78125 42.390625 \r\nQ 38.140625 42.390625 41.71875 45.5625 \r\nQ 45.3125 48.734375 45.3125 54.390625 \r\nQ 45.3125 60.0625 41.71875 63.234375 \r\nQ 38.140625 66.40625 31.78125 66.40625 \r\nQ 25.390625 66.40625 21.84375 63.234375 \r\nQ 18.3125 60.0625 18.3125 54.390625 \r\nz\r\n\" id=\"DejaVuSans-56\"/>\r\n       </defs>\r\n       <use xlink:href=\"#DejaVuSans-56\"/>\r\n      </g>\r\n     </g>\r\n    </g>\r\n    <g id=\"xtick_6\">\r\n     <g id=\"line2d_6\">\r\n      <g>\r\n       <use style=\"stroke:#000000;stroke-width:0.8;\" x=\"397.959998\" xlink:href=\"#me06934e138\" y=\"147.7225\"/>\r\n      </g>\r\n     </g>\r\n     <g id=\"text_6\">\r\n      <!-- 10 -->\r\n      <g transform=\"translate(391.597498 162.320938)scale(0.1 -0.1)\">\r\n       <defs>\r\n        <path d=\"M 12.40625 8.296875 \r\nL 28.515625 8.296875 \r\nL 28.515625 63.921875 \r\nL 10.984375 60.40625 \r\nL 10.984375 69.390625 \r\nL 28.421875 72.90625 \r\nL 38.28125 72.90625 \r\nL 38.28125 8.296875 \r\nL 54.390625 8.296875 \r\nL 54.390625 0 \r\nL 12.40625 0 \r\nz\r\n\" id=\"DejaVuSans-49\"/>\r\n       </defs>\r\n       <use xlink:href=\"#DejaVuSans-49\"/>\r\n       <use x=\"63.623047\" xlink:href=\"#DejaVuSans-48\"/>\r\n      </g>\r\n     </g>\r\n    </g>\r\n    <g id=\"text_7\">\r\n     <!-- r -->\r\n     <g transform=\"translate(413.03338 175.999063)scale(0.1 -0.1)\">\r\n      <defs>\r\n       <path d=\"M 41.109375 46.296875 \r\nQ 39.59375 47.171875 37.8125 47.578125 \r\nQ 36.03125 48 33.890625 48 \r\nQ 26.265625 48 22.1875 43.046875 \r\nQ 18.109375 38.09375 18.109375 28.8125 \r\nL 18.109375 0 \r\nL 9.078125 0 \r\nL 9.078125 54.6875 \r\nL 18.109375 54.6875 \r\nL 18.109375 46.1875 \r\nQ 20.953125 51.171875 25.484375 53.578125 \r\nQ 30.03125 56 36.53125 56 \r\nQ 37.453125 56 38.578125 55.875 \r\nQ 39.703125 55.765625 41.0625 55.515625 \r\nz\r\n\" id=\"DejaVuSans-114\"/>\r\n      </defs>\r\n      <use xlink:href=\"#DejaVuSans-114\"/>\r\n     </g>\r\n    </g>\r\n   </g>\r\n   <g id=\"matplotlib.axis_2\">\r\n    <g id=\"ytick_1\">\r\n     <g id=\"line2d_7\">\r\n      <defs>\r\n       <path d=\"M 0 0 \r\nL -3.5 0 \r\n\" id=\"mdefdc8108d\" style=\"stroke:#000000;stroke-width:0.8;\"/>\r\n      </defs>\r\n      <g>\r\n       <use style=\"stroke:#000000;stroke-width:0.8;\" x=\"55.345313\" xlink:href=\"#mdefdc8108d\" y=\"247.8825\"/>\r\n      </g>\r\n     </g>\r\n     <g id=\"text_8\">\r\n      <!-- −400 -->\r\n      <g transform=\"translate(20.878125 251.681719)scale(0.1 -0.1)\">\r\n       <defs>\r\n        <path d=\"M 10.59375 35.5 \r\nL 73.1875 35.5 \r\nL 73.1875 27.203125 \r\nL 10.59375 27.203125 \r\nz\r\n\" id=\"DejaVuSans-8722\"/>\r\n       </defs>\r\n       <use xlink:href=\"#DejaVuSans-8722\"/>\r\n       <use x=\"83.789062\" xlink:href=\"#DejaVuSans-52\"/>\r\n       <use x=\"147.412109\" xlink:href=\"#DejaVuSans-48\"/>\r\n       <use x=\"211.035156\" xlink:href=\"#DejaVuSans-48\"/>\r\n      </g>\r\n     </g>\r\n    </g>\r\n    <g id=\"ytick_2\">\r\n     <g id=\"line2d_8\">\r\n      <g>\r\n       <use style=\"stroke:#000000;stroke-width:0.8;\" x=\"55.345313\" xlink:href=\"#mdefdc8108d\" y=\"197.8025\"/>\r\n      </g>\r\n     </g>\r\n     <g id=\"text_9\">\r\n      <!-- −200 -->\r\n      <g transform=\"translate(20.878125 201.601719)scale(0.1 -0.1)\">\r\n       <use xlink:href=\"#DejaVuSans-8722\"/>\r\n       <use x=\"83.789062\" xlink:href=\"#DejaVuSans-50\"/>\r\n       <use x=\"147.412109\" xlink:href=\"#DejaVuSans-48\"/>\r\n       <use x=\"211.035156\" xlink:href=\"#DejaVuSans-48\"/>\r\n      </g>\r\n     </g>\r\n    </g>\r\n    <g id=\"ytick_3\">\r\n     <g id=\"line2d_9\">\r\n      <g>\r\n       <use style=\"stroke:#000000;stroke-width:0.8;\" x=\"55.345313\" xlink:href=\"#mdefdc8108d\" y=\"147.7225\"/>\r\n      </g>\r\n     </g>\r\n     <g id=\"text_10\">\r\n      <!-- 0 -->\r\n      <g transform=\"translate(41.982813 151.521719)scale(0.1 -0.1)\">\r\n       <use xlink:href=\"#DejaVuSans-48\"/>\r\n      </g>\r\n     </g>\r\n    </g>\r\n    <g id=\"ytick_4\">\r\n     <g id=\"line2d_10\">\r\n      <g>\r\n       <use style=\"stroke:#000000;stroke-width:0.8;\" x=\"55.345313\" xlink:href=\"#mdefdc8108d\" y=\"97.6425\"/>\r\n      </g>\r\n     </g>\r\n     <g id=\"text_11\">\r\n      <!-- 200 -->\r\n      <g transform=\"translate(29.257813 101.441719)scale(0.1 -0.1)\">\r\n       <use xlink:href=\"#DejaVuSans-50\"/>\r\n       <use x=\"63.623047\" xlink:href=\"#DejaVuSans-48\"/>\r\n       <use x=\"127.246094\" xlink:href=\"#DejaVuSans-48\"/>\r\n      </g>\r\n     </g>\r\n    </g>\r\n    <g id=\"ytick_5\">\r\n     <g id=\"line2d_11\">\r\n      <g>\r\n       <use style=\"stroke:#000000;stroke-width:0.8;\" x=\"55.345313\" xlink:href=\"#mdefdc8108d\" y=\"47.5625\"/>\r\n      </g>\r\n     </g>\r\n     <g id=\"text_12\">\r\n      <!-- 400 -->\r\n      <g transform=\"translate(29.257813 51.361719)scale(0.1 -0.1)\">\r\n       <use xlink:href=\"#DejaVuSans-52\"/>\r\n       <use x=\"63.623047\" xlink:href=\"#DejaVuSans-48\"/>\r\n       <use x=\"127.246094\" xlink:href=\"#DejaVuSans-48\"/>\r\n      </g>\r\n     </g>\r\n    </g>\r\n    <g id=\"text_13\">\r\n     <!-- f(r) -->\r\n     <g transform=\"translate(14.798438 30.239687)rotate(-90)scale(0.1 -0.1)\">\r\n      <defs>\r\n       <path d=\"M 37.109375 75.984375 \r\nL 37.109375 68.5 \r\nL 28.515625 68.5 \r\nQ 23.6875 68.5 21.796875 66.546875 \r\nQ 19.921875 64.59375 19.921875 59.515625 \r\nL 19.921875 54.6875 \r\nL 34.71875 54.6875 \r\nL 34.71875 47.703125 \r\nL 19.921875 47.703125 \r\nL 19.921875 0 \r\nL 10.890625 0 \r\nL 10.890625 47.703125 \r\nL 2.296875 47.703125 \r\nL 2.296875 54.6875 \r\nL 10.890625 54.6875 \r\nL 10.890625 58.5 \r\nQ 10.890625 67.625 15.140625 71.796875 \r\nQ 19.390625 75.984375 28.609375 75.984375 \r\nz\r\n\" id=\"DejaVuSans-102\"/>\r\n       <path d=\"M 31 75.875 \r\nQ 24.46875 64.65625 21.28125 53.65625 \r\nQ 18.109375 42.671875 18.109375 31.390625 \r\nQ 18.109375 20.125 21.3125 9.0625 \r\nQ 24.515625 -2 31 -13.1875 \r\nL 23.1875 -13.1875 \r\nQ 15.875 -1.703125 12.234375 9.375 \r\nQ 8.59375 20.453125 8.59375 31.390625 \r\nQ 8.59375 42.28125 12.203125 53.3125 \r\nQ 15.828125 64.359375 23.1875 75.875 \r\nz\r\n\" id=\"DejaVuSans-40\"/>\r\n       <path d=\"M 8.015625 75.875 \r\nL 15.828125 75.875 \r\nQ 23.140625 64.359375 26.78125 53.3125 \r\nQ 30.421875 42.28125 30.421875 31.390625 \r\nQ 30.421875 20.453125 26.78125 9.375 \r\nQ 23.140625 -1.703125 15.828125 -13.1875 \r\nL 8.015625 -13.1875 \r\nQ 14.5 -2 17.703125 9.0625 \r\nQ 20.90625 20.125 20.90625 31.390625 \r\nQ 20.90625 42.671875 17.703125 53.65625 \r\nQ 14.5 64.65625 8.015625 75.875 \r\nz\r\n\" id=\"DejaVuSans-41\"/>\r\n      </defs>\r\n      <use xlink:href=\"#DejaVuSans-102\"/>\r\n      <use x=\"35.205078\" xlink:href=\"#DejaVuSans-40\"/>\r\n      <use x=\"74.21875\" xlink:href=\"#DejaVuSans-114\"/>\r\n      <use x=\"115.332031\" xlink:href=\"#DejaVuSans-41\"/>\r\n     </g>\r\n    </g>\r\n   </g>\r\n   <g id=\"LineCollection_1\">\r\n    <path clip-path=\"url(#pbef0865430)\" d=\"M 55.383 146.527416 \r\n\" style=\"fill:none;stroke:#1f77b4;stroke-width:1.5;\"/>\r\n    <path clip-path=\"url(#pbef0865430)\" d=\"M 55.383 146.527416 \r\nL 55.414205 138.964479 \r\n\" style=\"fill:none;stroke:#1f77b4;stroke-width:1.5;\"/>\r\n    <path clip-path=\"url(#pbef0865430)\" d=\"M 55.414205 138.964479 \r\nL 55.489847 129.674294 \r\n\" style=\"fill:none;stroke:#1f77b4;stroke-width:1.5;\"/>\r\n    <path clip-path=\"url(#pbef0865430)\" d=\"M 55.489847 129.674294 \r\nL 55.641576 120.675527 \r\n\" style=\"fill:none;stroke:#1f77b4;stroke-width:1.5;\"/>\r\n    <path clip-path=\"url(#pbef0865430)\" d=\"M 55.641576 120.675527 \r\nL 55.98234 111.077022 \r\n\" style=\"fill:none;stroke:#1f77b4;stroke-width:1.5;\"/>\r\n    <path clip-path=\"url(#pbef0865430)\" d=\"M 55.98234 111.077022 \r\nL 56.669278 101.904666 \r\n\" style=\"fill:none;stroke:#1f77b4;stroke-width:1.5;\"/>\r\n    <path clip-path=\"url(#pbef0865430)\" d=\"M 56.669278 101.904666 \r\nL 58.138516 92.544449 \r\n\" style=\"fill:none;stroke:#1f77b4;stroke-width:1.5;\"/>\r\n    <path clip-path=\"url(#pbef0865430)\" d=\"M 58.138516 92.544449 \r\nL 61.457565 82.725992 \r\n\" style=\"fill:none;stroke:#1f77b4;stroke-width:1.5;\"/>\r\n    <path clip-path=\"url(#pbef0865430)\" d=\"M 61.457565 82.725992 \r\nL 68.207012 73.398361 \r\n\" style=\"fill:none;stroke:#1f77b4;stroke-width:1.5;\"/>\r\n    <path clip-path=\"url(#pbef0865430)\" d=\"M 68.207012 73.398361 \r\nL 75.200689 67.95417 \r\n\" style=\"fill:none;stroke:#1f77b4;stroke-width:1.5;\"/>\r\n    <path clip-path=\"url(#pbef0865430)\" d=\"M 75.200689 67.95417 \r\nL 81.621106 64.441403 \r\n\" style=\"fill:none;stroke:#1f77b4;stroke-width:1.5;\"/>\r\n    <path clip-path=\"url(#pbef0865430)\" d=\"M 81.621106 64.441403 \r\nL 88.154094 61.657401 \r\n\" style=\"fill:none;stroke:#1f77b4;stroke-width:1.5;\"/>\r\n    <path clip-path=\"url(#pbef0865430)\" d=\"M 88.154094 61.657401 \r\nL 95.917623 58.994494 \r\n\" style=\"fill:none;stroke:#1f77b4;stroke-width:1.5;\"/>\r\n    <path clip-path=\"url(#pbef0865430)\" d=\"M 95.917623 58.994494 \r\nL 101.472427 57.3857 \r\n\" style=\"fill:none;stroke:#1f77b4;stroke-width:1.5;\"/>\r\n    <path clip-path=\"url(#pbef0865430)\" d=\"M 101.472427 57.3857 \r\nL 108.021407 55.721168 \r\n\" style=\"fill:none;stroke:#1f77b4;stroke-width:1.5;\"/>\r\n    <path clip-path=\"url(#pbef0865430)\" d=\"M 108.021407 55.721168 \r\nL 114.854015 54.192043 \r\n\" style=\"fill:none;stroke:#1f77b4;stroke-width:1.5;\"/>\r\n    <path clip-path=\"url(#pbef0865430)\" d=\"M 114.854015 54.192043 \r\nL 121.094523 52.941706 \r\n\" style=\"fill:none;stroke:#1f77b4;stroke-width:1.5;\"/>\r\n    <path clip-path=\"url(#pbef0865430)\" d=\"M 121.094523 52.941706 \r\nL 126.64053 51.926372 \r\n\" style=\"fill:none;stroke:#1f77b4;stroke-width:1.5;\"/>\r\n    <path clip-path=\"url(#pbef0865430)\" d=\"M 126.64053 51.926372 \r\nL 132.538796 50.929792 \r\n\" style=\"fill:none;stroke:#1f77b4;stroke-width:1.5;\"/>\r\n    <path clip-path=\"url(#pbef0865430)\" d=\"M 132.538796 50.929792 \r\nL 138.725905 49.963118 \r\n\" style=\"fill:none;stroke:#1f77b4;stroke-width:1.5;\"/>\r\n    <path clip-path=\"url(#pbef0865430)\" d=\"M 138.725905 49.963118 \r\nL 145.107486 49.038477 \r\n\" style=\"fill:none;stroke:#1f77b4;stroke-width:1.5;\"/>\r\n    <path clip-path=\"url(#pbef0865430)\" d=\"M 145.107486 49.038477 \r\nL 150.462869 48.31191 \r\n\" style=\"fill:none;stroke:#1f77b4;stroke-width:1.5;\"/>\r\n    <path clip-path=\"url(#pbef0865430)\" d=\"M 150.462869 48.31191 \r\nL 155.764645 47.631843 \r\n\" style=\"fill:none;stroke:#1f77b4;stroke-width:1.5;\"/>\r\n    <path clip-path=\"url(#pbef0865430)\" d=\"M 155.764645 47.631843 \r\nL 160.844085 47.013169 \r\n\" style=\"fill:none;stroke:#1f77b4;stroke-width:1.5;\"/>\r\n    <path clip-path=\"url(#pbef0865430)\" d=\"M 160.844085 47.013169 \r\nL 165.397594 46.483368 \r\n\" style=\"fill:none;stroke:#1f77b4;stroke-width:1.5;\"/>\r\n    <path clip-path=\"url(#pbef0865430)\" d=\"M 165.397594 46.483368 \r\nL 169.961912 45.973866 \r\n\" style=\"fill:none;stroke:#1f77b4;stroke-width:1.5;\"/>\r\n    <path clip-path=\"url(#pbef0865430)\" d=\"M 169.961912 45.973866 \r\nL 174.318227 45.506165 \r\n\" style=\"fill:none;stroke:#1f77b4;stroke-width:1.5;\"/>\r\n    <path clip-path=\"url(#pbef0865430)\" d=\"M 174.318227 45.506165 \r\nL 179.694536 44.952017 \r\n\" style=\"fill:none;stroke:#1f77b4;stroke-width:1.5;\"/>\r\n    <path clip-path=\"url(#pbef0865430)\" d=\"M 179.694536 44.952017 \r\nL 184.98218 44.4299 \r\n\" style=\"fill:none;stroke:#1f77b4;stroke-width:1.5;\"/>\r\n    <path clip-path=\"url(#pbef0865430)\" d=\"M 184.98218 44.4299 \r\nL 189.534951 43.997134 \r\n\" style=\"fill:none;stroke:#1f77b4;stroke-width:1.5;\"/>\r\n    <path clip-path=\"url(#pbef0865430)\" d=\"M 189.534951 43.997134 \r\nL 193.75421 43.608984 \r\n\" style=\"fill:none;stroke:#1f77b4;stroke-width:1.5;\"/>\r\n    <path clip-path=\"url(#pbef0865430)\" d=\"M 193.75421 43.608984 \r\nL 199.358597 43.111317 \r\n\" style=\"fill:none;stroke:#1f77b4;stroke-width:1.5;\"/>\r\n    <path clip-path=\"url(#pbef0865430)\" d=\"M 199.358597 43.111317 \r\nL 205.11628 42.619812 \r\n\" style=\"fill:none;stroke:#1f77b4;stroke-width:1.5;\"/>\r\n    <path clip-path=\"url(#pbef0865430)\" d=\"M 205.11628 42.619812 \r\nL 211.920071 42.062802 \r\n\" style=\"fill:none;stroke:#1f77b4;stroke-width:1.5;\"/>\r\n    <path clip-path=\"url(#pbef0865430)\" d=\"M 211.920071 42.062802 \r\nL 217.990707 41.585878 \r\n\" style=\"fill:none;stroke:#1f77b4;stroke-width:1.5;\"/>\r\n    <path clip-path=\"url(#pbef0865430)\" d=\"M 217.990707 41.585878 \r\nL 223.677642 41.15498 \r\n\" style=\"fill:none;stroke:#1f77b4;stroke-width:1.5;\"/>\r\n    <path clip-path=\"url(#pbef0865430)\" d=\"M 223.677642 41.15498 \r\nL 229.474288 40.730498 \r\n\" style=\"fill:none;stroke:#1f77b4;stroke-width:1.5;\"/>\r\n    <path clip-path=\"url(#pbef0865430)\" d=\"M 229.474288 40.730498 \r\nL 234.518195 40.372481 \r\n\" style=\"fill:none;stroke:#1f77b4;stroke-width:1.5;\"/>\r\n    <path clip-path=\"url(#pbef0865430)\" d=\"M 234.518195 40.372481 \r\nL 239.513223 40.027732 \r\n\" style=\"fill:none;stroke:#1f77b4;stroke-width:1.5;\"/>\r\n    <path clip-path=\"url(#pbef0865430)\" d=\"M 239.513223 40.027732 \r\nL 245.434531 39.630964 \r\n\" style=\"fill:none;stroke:#1f77b4;stroke-width:1.5;\"/>\r\n    <path clip-path=\"url(#pbef0865430)\" d=\"M 245.434531 39.630964 \r\nL 251.291227 39.250502 \r\n\" style=\"fill:none;stroke:#1f77b4;stroke-width:1.5;\"/>\r\n    <path clip-path=\"url(#pbef0865430)\" d=\"M 251.291227 39.250502 \r\nL 256.38258 38.928886 \r\n\" style=\"fill:none;stroke:#1f77b4;stroke-width:1.5;\"/>\r\n    <path clip-path=\"url(#pbef0865430)\" d=\"M 256.38258 38.928886 \r\nL 261.853508 38.592247 \r\n\" style=\"fill:none;stroke:#1f77b4;stroke-width:1.5;\"/>\r\n    <path clip-path=\"url(#pbef0865430)\" d=\"M 261.853508 38.592247 \r\nL 266.630495 38.305523 \r\n\" style=\"fill:none;stroke:#1f77b4;stroke-width:1.5;\"/>\r\n    <path clip-path=\"url(#pbef0865430)\" d=\"M 266.630495 38.305523 \r\nL 271.650585 38.011111 \r\n\" style=\"fill:none;stroke:#1f77b4;stroke-width:1.5;\"/>\r\n    <path clip-path=\"url(#pbef0865430)\" d=\"M 271.650585 38.011111 \r\nL 276.121988 37.754575 \r\n\" style=\"fill:none;stroke:#1f77b4;stroke-width:1.5;\"/>\r\n    <path clip-path=\"url(#pbef0865430)\" d=\"M 276.121988 37.754575 \r\nL 280.574812 37.504217 \r\n\" style=\"fill:none;stroke:#1f77b4;stroke-width:1.5;\"/>\r\n    <path clip-path=\"url(#pbef0865430)\" d=\"M 280.574812 37.504217 \r\nL 286.040386 37.203598 \r\n\" style=\"fill:none;stroke:#1f77b4;stroke-width:1.5;\"/>\r\n    <path clip-path=\"url(#pbef0865430)\" d=\"M 286.040386 37.203598 \r\nL 291.06176 36.933623 \r\n\" style=\"fill:none;stroke:#1f77b4;stroke-width:1.5;\"/>\r\n    <path clip-path=\"url(#pbef0865430)\" d=\"M 291.06176 36.933623 \r\nL 295.606955 36.694164 \r\n\" style=\"fill:none;stroke:#1f77b4;stroke-width:1.5;\"/>\r\n    <path clip-path=\"url(#pbef0865430)\" d=\"M 295.606955 36.694164 \r\nL 299.662297 36.484306 \r\n\" style=\"fill:none;stroke:#1f77b4;stroke-width:1.5;\"/>\r\n    <path clip-path=\"url(#pbef0865430)\" d=\"M 299.662297 36.484306 \r\nL 305.193591 36.203617 \r\n\" style=\"fill:none;stroke:#1f77b4;stroke-width:1.5;\"/>\r\n    <path clip-path=\"url(#pbef0865430)\" d=\"M 305.193591 36.203617 \r\nL 311.335694 35.899123 \r\n\" style=\"fill:none;stroke:#1f77b4;stroke-width:1.5;\"/>\r\n    <path clip-path=\"url(#pbef0865430)\" d=\"M 311.335694 35.899123 \r\nL 316.528066 35.647357 \r\n\" style=\"fill:none;stroke:#1f77b4;stroke-width:1.5;\"/>\r\n    <path clip-path=\"url(#pbef0865430)\" d=\"M 316.528066 35.647357 \r\nL 322.125479 35.381497 \r\n\" style=\"fill:none;stroke:#1f77b4;stroke-width:1.5;\"/>\r\n    <path clip-path=\"url(#pbef0865430)\" d=\"M 322.125479 35.381497 \r\nL 326.580035 35.173875 \r\n\" style=\"fill:none;stroke:#1f77b4;stroke-width:1.5;\"/>\r\n    <path clip-path=\"url(#pbef0865430)\" d=\"M 326.580035 35.173875 \r\nL 331.010473 34.970733 \r\n\" style=\"fill:none;stroke:#1f77b4;stroke-width:1.5;\"/>\r\n    <path clip-path=\"url(#pbef0865430)\" d=\"M 331.010473 34.970733 \r\nL 334.496338 34.813182 \r\n\" style=\"fill:none;stroke:#1f77b4;stroke-width:1.5;\"/>\r\n    <path clip-path=\"url(#pbef0865430)\" d=\"M 334.496338 34.813182 \r\nL 338.71726 34.625022 \r\n\" style=\"fill:none;stroke:#1f77b4;stroke-width:1.5;\"/>\r\n    <path clip-path=\"url(#pbef0865430)\" d=\"M 338.71726 34.625022 \r\nL 343.619465 34.409978 \r\n\" style=\"fill:none;stroke:#1f77b4;stroke-width:1.5;\"/>\r\n    <path clip-path=\"url(#pbef0865430)\" d=\"M 343.619465 34.409978 \r\nL 348.382621 34.204508 \r\n\" style=\"fill:none;stroke:#1f77b4;stroke-width:1.5;\"/>\r\n    <path clip-path=\"url(#pbef0865430)\" d=\"M 348.382621 34.204508 \r\nL 353.516087 33.98677 \r\n\" style=\"fill:none;stroke:#1f77b4;stroke-width:1.5;\"/>\r\n    <path clip-path=\"url(#pbef0865430)\" d=\"M 353.516087 33.98677 \r\nL 357.808188 33.807578 \r\n\" style=\"fill:none;stroke:#1f77b4;stroke-width:1.5;\"/>\r\n    <path clip-path=\"url(#pbef0865430)\" d=\"M 357.808188 33.807578 \r\nL 362.352004 33.620626 \r\n\" style=\"fill:none;stroke:#1f77b4;stroke-width:1.5;\"/>\r\n    <path clip-path=\"url(#pbef0865430)\" d=\"M 362.352004 33.620626 \r\nL 367.30749 33.419865 \r\n\" style=\"fill:none;stroke:#1f77b4;stroke-width:1.5;\"/>\r\n    <path clip-path=\"url(#pbef0865430)\" d=\"M 367.30749 33.419865 \r\nL 372.202444 33.224663 \r\n\" style=\"fill:none;stroke:#1f77b4;stroke-width:1.5;\"/>\r\n    <path clip-path=\"url(#pbef0865430)\" d=\"M 372.202444 33.224663 \r\nL 378.17951 32.990358 \r\n\" style=\"fill:none;stroke:#1f77b4;stroke-width:1.5;\"/>\r\n    <path clip-path=\"url(#pbef0865430)\" d=\"M 378.17951 32.990358 \r\nL 383.015769 32.803926 \r\n\" style=\"fill:none;stroke:#1f77b4;stroke-width:1.5;\"/>\r\n    <path clip-path=\"url(#pbef0865430)\" d=\"M 383.015769 32.803926 \r\nL 388.13886 32.609415 \r\n\" style=\"fill:none;stroke:#1f77b4;stroke-width:1.5;\"/>\r\n    <path clip-path=\"url(#pbef0865430)\" d=\"M 388.13886 32.609415 \r\nL 392.914169 32.430786 \r\n\" style=\"fill:none;stroke:#1f77b4;stroke-width:1.5;\"/>\r\n    <path clip-path=\"url(#pbef0865430)\" d=\"M 392.914169 32.430786 \r\nL 397.959998 32.244763 \r\n\" style=\"fill:none;stroke:#1f77b4;stroke-width:1.5;\"/>\r\n   </g>\r\n   <g id=\"LineCollection_2\">\r\n    <path clip-path=\"url(#pbef0865430)\" style=\"fill:none;stroke:#ff0000;stroke-width:1.5;\"/>\r\n    <path clip-path=\"url(#pbef0865430)\" style=\"fill:none;stroke:#ff0000;stroke-width:1.5;\"/>\r\n    <path clip-path=\"url(#pbef0865430)\" style=\"fill:none;stroke:#ff0000;stroke-width:1.5;\"/>\r\n    <path clip-path=\"url(#pbef0865430)\" style=\"fill:none;stroke:#ff0000;stroke-width:1.5;\"/>\r\n    <path clip-path=\"url(#pbef0865430)\" style=\"fill:none;stroke:#ff0000;stroke-width:1.5;\"/>\r\n    <path clip-path=\"url(#pbef0865430)\" style=\"fill:none;stroke:#ff0000;stroke-width:1.5;\"/>\r\n    <path clip-path=\"url(#pbef0865430)\" d=\"M 58.667929 281.1225 \r\nL 58.815828 271.497958 \r\n\" style=\"fill:none;stroke:#ff0000;stroke-width:1.5;\"/>\r\n    <path clip-path=\"url(#pbef0865430)\" d=\"M 58.815828 271.497958 \r\nL 62.050856 211.783624 \r\n\" style=\"fill:none;stroke:#ff0000;stroke-width:1.5;\"/>\r\n    <path clip-path=\"url(#pbef0865430)\" d=\"M 62.050856 211.783624 \r\nL 67.843489 182.092689 \r\n\" style=\"fill:none;stroke:#ff0000;stroke-width:1.5;\"/>\r\n    <path clip-path=\"url(#pbef0865430)\" d=\"M 67.843489 182.092689 \r\nL 73.533056 171.340861 \r\n\" style=\"fill:none;stroke:#ff0000;stroke-width:1.5;\"/>\r\n    <path clip-path=\"url(#pbef0865430)\" d=\"M 73.533056 171.340861 \r\nL 79.324814 165.636328 \r\n\" style=\"fill:none;stroke:#ff0000;stroke-width:1.5;\"/>\r\n    <path clip-path=\"url(#pbef0865430)\" d=\"M 79.324814 165.636328 \r\nL 84.794558 162.309111 \r\n\" style=\"fill:none;stroke:#ff0000;stroke-width:1.5;\"/>\r\n    <path clip-path=\"url(#pbef0865430)\" d=\"M 84.794558 162.309111 \r\nL 89.455053 160.316107 \r\n\" style=\"fill:none;stroke:#ff0000;stroke-width:1.5;\"/>\r\n    <path clip-path=\"url(#pbef0865430)\" d=\"M 89.455053 160.316107 \r\nL 95.693611 158.368914 \r\n\" style=\"fill:none;stroke:#ff0000;stroke-width:1.5;\"/>\r\n    <path clip-path=\"url(#pbef0865430)\" d=\"M 95.693611 158.368914 \r\nL 101.571276 157.015214 \r\n\" style=\"fill:none;stroke:#ff0000;stroke-width:1.5;\"/>\r\n    <path clip-path=\"url(#pbef0865430)\" d=\"M 101.571276 157.015214 \r\nL 106.441155 156.129538 \r\n\" style=\"fill:none;stroke:#ff0000;stroke-width:1.5;\"/>\r\n    <path clip-path=\"url(#pbef0865430)\" d=\"M 106.441155 156.129538 \r\nL 111.26395 155.404459 \r\n\" style=\"fill:none;stroke:#ff0000;stroke-width:1.5;\"/>\r\n    <path clip-path=\"url(#pbef0865430)\" d=\"M 111.26395 155.404459 \r\nL 115.892801 154.817174 \r\n\" style=\"fill:none;stroke:#ff0000;stroke-width:1.5;\"/>\r\n    <path clip-path=\"url(#pbef0865430)\" d=\"M 115.892801 154.817174 \r\nL 121.307559 154.234781 \r\n\" style=\"fill:none;stroke:#ff0000;stroke-width:1.5;\"/>\r\n    <path clip-path=\"url(#pbef0865430)\" d=\"M 121.307559 154.234781 \r\nL 126.432654 153.765273 \r\n\" style=\"fill:none;stroke:#ff0000;stroke-width:1.5;\"/>\r\n    <path clip-path=\"url(#pbef0865430)\" d=\"M 126.432654 153.765273 \r\nL 132.188812 153.312624 \r\n\" style=\"fill:none;stroke:#ff0000;stroke-width:1.5;\"/>\r\n    <path clip-path=\"url(#pbef0865430)\" d=\"M 132.188812 153.312624 \r\nL 137.761156 152.934661 \r\n\" style=\"fill:none;stroke:#ff0000;stroke-width:1.5;\"/>\r\n    <path clip-path=\"url(#pbef0865430)\" d=\"M 137.761156 152.934661 \r\nL 142.463452 152.653329 \r\n\" style=\"fill:none;stroke:#ff0000;stroke-width:1.5;\"/>\r\n    <path clip-path=\"url(#pbef0865430)\" d=\"M 142.463452 152.653329 \r\nL 149.791365 152.270754 \r\n\" style=\"fill:none;stroke:#ff0000;stroke-width:1.5;\"/>\r\n    <path clip-path=\"url(#pbef0865430)\" d=\"M 149.791365 152.270754 \r\nL 156.602456 151.964815 \r\n\" style=\"fill:none;stroke:#ff0000;stroke-width:1.5;\"/>\r\n    <path clip-path=\"url(#pbef0865430)\" d=\"M 156.602456 151.964815 \r\nL 162.795557 151.720301 \r\n\" style=\"fill:none;stroke:#ff0000;stroke-width:1.5;\"/>\r\n    <path clip-path=\"url(#pbef0865430)\" d=\"M 162.795557 151.720301 \r\nL 168.37816 151.522853 \r\n\" style=\"fill:none;stroke:#ff0000;stroke-width:1.5;\"/>\r\n    <path clip-path=\"url(#pbef0865430)\" d=\"M 168.37816 151.522853 \r\nL 173.990866 151.343071 \r\n\" style=\"fill:none;stroke:#ff0000;stroke-width:1.5;\"/>\r\n    <path clip-path=\"url(#pbef0865430)\" d=\"M 173.990866 151.343071 \r\nL 180.713039 151.148937 \r\n\" style=\"fill:none;stroke:#ff0000;stroke-width:1.5;\"/>\r\n    <path clip-path=\"url(#pbef0865430)\" d=\"M 180.713039 151.148937 \r\nL 187.450887 150.974177 \r\n\" style=\"fill:none;stroke:#ff0000;stroke-width:1.5;\"/>\r\n    <path clip-path=\"url(#pbef0865430)\" d=\"M 187.450887 150.974177 \r\nL 193.338017 150.835452 \r\n\" style=\"fill:none;stroke:#ff0000;stroke-width:1.5;\"/>\r\n    <path clip-path=\"url(#pbef0865430)\" d=\"M 193.338017 150.835452 \r\nL 198.577562 150.721578 \r\n\" style=\"fill:none;stroke:#ff0000;stroke-width:1.5;\"/>\r\n    <path clip-path=\"url(#pbef0865430)\" d=\"M 198.577562 150.721578 \r\nL 203.786832 150.616331 \r\n\" style=\"fill:none;stroke:#ff0000;stroke-width:1.5;\"/>\r\n    <path clip-path=\"url(#pbef0865430)\" d=\"M 203.786832 150.616331 \r\nL 210.035629 150.499433 \r\n\" style=\"fill:none;stroke:#ff0000;stroke-width:1.5;\"/>\r\n    <path clip-path=\"url(#pbef0865430)\" d=\"M 210.035629 150.499433 \r\nL 215.993948 150.396439 \r\n\" style=\"fill:none;stroke:#ff0000;stroke-width:1.5;\"/>\r\n    <path clip-path=\"url(#pbef0865430)\" d=\"M 215.993948 150.396439 \r\nL 220.565164 150.322458 \r\n\" style=\"fill:none;stroke:#ff0000;stroke-width:1.5;\"/>\r\n    <path clip-path=\"url(#pbef0865430)\" d=\"M 220.565164 150.322458 \r\nL 226.06112 150.238756 \r\n\" style=\"fill:none;stroke:#ff0000;stroke-width:1.5;\"/>\r\n    <path clip-path=\"url(#pbef0865430)\" d=\"M 226.06112 150.238756 \r\nL 231.688859 150.158453 \r\n\" style=\"fill:none;stroke:#ff0000;stroke-width:1.5;\"/>\r\n    <path clip-path=\"url(#pbef0865430)\" d=\"M 231.688859 150.158453 \r\nL 238.21831 150.071478 \r\n\" style=\"fill:none;stroke:#ff0000;stroke-width:1.5;\"/>\r\n    <path clip-path=\"url(#pbef0865430)\" d=\"M 238.21831 150.071478 \r\nL 242.863212 150.013293 \r\n\" style=\"fill:none;stroke:#ff0000;stroke-width:1.5;\"/>\r\n    <path clip-path=\"url(#pbef0865430)\" d=\"M 242.863212 150.013293 \r\nL 247.242517 149.961015 \r\n\" style=\"fill:none;stroke:#ff0000;stroke-width:1.5;\"/>\r\n    <path clip-path=\"url(#pbef0865430)\" d=\"M 247.242517 149.961015 \r\nL 251.100139 149.916901 \r\n\" style=\"fill:none;stroke:#ff0000;stroke-width:1.5;\"/>\r\n    <path clip-path=\"url(#pbef0865430)\" d=\"M 251.100139 149.916901 \r\nL 255.232155 149.871539 \r\n\" style=\"fill:none;stroke:#ff0000;stroke-width:1.5;\"/>\r\n    <path clip-path=\"url(#pbef0865430)\" d=\"M 255.232155 149.871539 \r\nL 260.472182 149.816641 \r\n\" style=\"fill:none;stroke:#ff0000;stroke-width:1.5;\"/>\r\n    <path clip-path=\"url(#pbef0865430)\" d=\"M 260.472182 149.816641 \r\nL 265.771624 149.763902 \r\n\" style=\"fill:none;stroke:#ff0000;stroke-width:1.5;\"/>\r\n    <path clip-path=\"url(#pbef0865430)\" d=\"M 265.771624 149.763902 \r\nL 270.430056 149.719688 \r\n\" style=\"fill:none;stroke:#ff0000;stroke-width:1.5;\"/>\r\n    <path clip-path=\"url(#pbef0865430)\" d=\"M 270.430056 149.719688 \r\nL 275.351412 149.675013 \r\n\" style=\"fill:none;stroke:#ff0000;stroke-width:1.5;\"/>\r\n    <path clip-path=\"url(#pbef0865430)\" d=\"M 275.351412 149.675013 \r\nL 280.965935 149.626425 \r\n\" style=\"fill:none;stroke:#ff0000;stroke-width:1.5;\"/>\r\n    <path clip-path=\"url(#pbef0865430)\" d=\"M 280.965935 149.626425 \r\nL 286.877123 149.577816 \r\n\" style=\"fill:none;stroke:#ff0000;stroke-width:1.5;\"/>\r\n    <path clip-path=\"url(#pbef0865430)\" d=\"M 286.877123 149.577816 \r\nL 291.940162 149.538113 \r\n\" style=\"fill:none;stroke:#ff0000;stroke-width:1.5;\"/>\r\n    <path clip-path=\"url(#pbef0865430)\" d=\"M 291.940162 149.538113 \r\nL 296.695074 149.502343 \r\n\" style=\"fill:none;stroke:#ff0000;stroke-width:1.5;\"/>\r\n    <path clip-path=\"url(#pbef0865430)\" d=\"M 296.695074 149.502343 \r\nL 300.975896 149.471324 \r\n\" style=\"fill:none;stroke:#ff0000;stroke-width:1.5;\"/>\r\n    <path clip-path=\"url(#pbef0865430)\" d=\"M 300.975896 149.471324 \r\nL 305.635623 149.438766 \r\n\" style=\"fill:none;stroke:#ff0000;stroke-width:1.5;\"/>\r\n    <path clip-path=\"url(#pbef0865430)\" d=\"M 305.635623 149.438766 \r\nL 310.48843 149.406122 \r\n\" style=\"fill:none;stroke:#ff0000;stroke-width:1.5;\"/>\r\n    <path clip-path=\"url(#pbef0865430)\" d=\"M 310.48843 149.406122 \r\nL 316.252684 149.368926 \r\n\" style=\"fill:none;stroke:#ff0000;stroke-width:1.5;\"/>\r\n    <path clip-path=\"url(#pbef0865430)\" d=\"M 316.252684 149.368926 \r\nL 322.6016 149.329814 \r\n\" style=\"fill:none;stroke:#ff0000;stroke-width:1.5;\"/>\r\n    <path clip-path=\"url(#pbef0865430)\" d=\"M 322.6016 149.329814 \r\nL 327.946264 149.2983 \r\n\" style=\"fill:none;stroke:#ff0000;stroke-width:1.5;\"/>\r\n    <path clip-path=\"url(#pbef0865430)\" d=\"M 327.946264 149.2983 \r\nL 333.27047 149.268113 \r\n\" style=\"fill:none;stroke:#ff0000;stroke-width:1.5;\"/>\r\n    <path clip-path=\"url(#pbef0865430)\" d=\"M 333.27047 149.268113 \r\nL 337.846154 149.243078 \r\n\" style=\"fill:none;stroke:#ff0000;stroke-width:1.5;\"/>\r\n    <path clip-path=\"url(#pbef0865430)\" d=\"M 337.846154 149.243078 \r\nL 342.998493 149.215842 \r\n\" style=\"fill:none;stroke:#ff0000;stroke-width:1.5;\"/>\r\n    <path clip-path=\"url(#pbef0865430)\" d=\"M 342.998493 149.215842 \r\nL 348.301757 149.188809 \r\n\" style=\"fill:none;stroke:#ff0000;stroke-width:1.5;\"/>\r\n    <path clip-path=\"url(#pbef0865430)\" d=\"M 348.301757 149.188809 \r\nL 354.468654 149.158579 \r\n\" style=\"fill:none;stroke:#ff0000;stroke-width:1.5;\"/>\r\n    <path clip-path=\"url(#pbef0865430)\" d=\"M 354.468654 149.158579 \r\nL 360.284544 149.131189 \r\n\" style=\"fill:none;stroke:#ff0000;stroke-width:1.5;\"/>\r\n    <path clip-path=\"url(#pbef0865430)\" d=\"M 360.284544 149.131189 \r\nL 364.922465 149.110085 \r\n\" style=\"fill:none;stroke:#ff0000;stroke-width:1.5;\"/>\r\n    <path clip-path=\"url(#pbef0865430)\" d=\"M 364.922465 149.110085 \r\nL 369.194989 149.091196 \r\n\" style=\"fill:none;stroke:#ff0000;stroke-width:1.5;\"/>\r\n    <path clip-path=\"url(#pbef0865430)\" d=\"M 369.194989 149.091196 \r\nL 373.199149 149.073953 \r\n\" style=\"fill:none;stroke:#ff0000;stroke-width:1.5;\"/>\r\n    <path clip-path=\"url(#pbef0865430)\" d=\"M 373.199149 149.073953 \r\nL 377.505389 149.055889 \r\n\" style=\"fill:none;stroke:#ff0000;stroke-width:1.5;\"/>\r\n    <path clip-path=\"url(#pbef0865430)\" d=\"M 377.505389 149.055889 \r\nL 382.481783 149.035605 \r\n\" style=\"fill:none;stroke:#ff0000;stroke-width:1.5;\"/>\r\n    <path clip-path=\"url(#pbef0865430)\" d=\"M 382.481783 149.035605 \r\nL 387.487132 149.015817 \r\n\" style=\"fill:none;stroke:#ff0000;stroke-width:1.5;\"/>\r\n    <path clip-path=\"url(#pbef0865430)\" d=\"M 387.487132 149.015817 \r\nL 392.706853 148.995807 \r\n\" style=\"fill:none;stroke:#ff0000;stroke-width:1.5;\"/>\r\n    <path clip-path=\"url(#pbef0865430)\" d=\"M 392.706853 148.995807 \r\nL 397.959998 148.976284 \r\n\" style=\"fill:none;stroke:#ff0000;stroke-width:1.5;\"/>\r\n   </g>\r\n   <g id=\"patch_3\">\r\n    <path d=\"M 55.345313 272.9225 \r\nL 55.345313 22.5225 \r\n\" style=\"fill:none;stroke:#000000;stroke-linecap:square;stroke-linejoin:miter;stroke-width:0.8;\"/>\r\n   </g>\r\n   <g id=\"patch_4\">\r\n    <path d=\"M 415.088848 272.9225 \r\nL 415.088848 22.5225 \r\n\" style=\"fill:none;\"/>\r\n   </g>\r\n   <g id=\"patch_5\">\r\n    <path d=\"M 38.254151 147.7225 \r\nL 415.088848 147.7225 \r\n\" style=\"fill:none;stroke:#000000;stroke-linecap:square;stroke-linejoin:miter;stroke-width:0.8;\"/>\r\n   </g>\r\n   <g id=\"patch_6\">\r\n    <path d=\"M 38.254151 22.5225 \r\nL 415.088848 22.5225 \r\n\" style=\"fill:none;\"/>\r\n   </g>\r\n   <g id=\"text_14\">\r\n    <!-- Comparação do E(r) com V(r) no Capacitor Cilindrico -->\r\n    <g transform=\"translate(68.666187 16.5225)scale(0.12 -0.12)\">\r\n     <defs>\r\n      <path d=\"M 64.40625 67.28125 \r\nL 64.40625 56.890625 \r\nQ 59.421875 61.53125 53.78125 63.8125 \r\nQ 48.140625 66.109375 41.796875 66.109375 \r\nQ 29.296875 66.109375 22.65625 58.46875 \r\nQ 16.015625 50.828125 16.015625 36.375 \r\nQ 16.015625 21.96875 22.65625 14.328125 \r\nQ 29.296875 6.6875 41.796875 6.6875 \r\nQ 48.140625 6.6875 53.78125 8.984375 \r\nQ 59.421875 11.28125 64.40625 15.921875 \r\nL 64.40625 5.609375 \r\nQ 59.234375 2.09375 53.4375 0.328125 \r\nQ 47.65625 -1.421875 41.21875 -1.421875 \r\nQ 24.65625 -1.421875 15.125 8.703125 \r\nQ 5.609375 18.84375 5.609375 36.375 \r\nQ 5.609375 53.953125 15.125 64.078125 \r\nQ 24.65625 74.21875 41.21875 74.21875 \r\nQ 47.75 74.21875 53.53125 72.484375 \r\nQ 59.328125 70.75 64.40625 67.28125 \r\nz\r\n\" id=\"DejaVuSans-67\"/>\r\n      <path d=\"M 30.609375 48.390625 \r\nQ 23.390625 48.390625 19.1875 42.75 \r\nQ 14.984375 37.109375 14.984375 27.296875 \r\nQ 14.984375 17.484375 19.15625 11.84375 \r\nQ 23.34375 6.203125 30.609375 6.203125 \r\nQ 37.796875 6.203125 41.984375 11.859375 \r\nQ 46.1875 17.53125 46.1875 27.296875 \r\nQ 46.1875 37.015625 41.984375 42.703125 \r\nQ 37.796875 48.390625 30.609375 48.390625 \r\nz\r\nM 30.609375 56 \r\nQ 42.328125 56 49.015625 48.375 \r\nQ 55.71875 40.765625 55.71875 27.296875 \r\nQ 55.71875 13.875 49.015625 6.21875 \r\nQ 42.328125 -1.421875 30.609375 -1.421875 \r\nQ 18.84375 -1.421875 12.171875 6.21875 \r\nQ 5.515625 13.875 5.515625 27.296875 \r\nQ 5.515625 40.765625 12.171875 48.375 \r\nQ 18.84375 56 30.609375 56 \r\nz\r\n\" id=\"DejaVuSans-111\"/>\r\n      <path d=\"M 52 44.1875 \r\nQ 55.375 50.25 60.0625 53.125 \r\nQ 64.75 56 71.09375 56 \r\nQ 79.640625 56 84.28125 50.015625 \r\nQ 88.921875 44.046875 88.921875 33.015625 \r\nL 88.921875 0 \r\nL 79.890625 0 \r\nL 79.890625 32.71875 \r\nQ 79.890625 40.578125 77.09375 44.375 \r\nQ 74.3125 48.1875 68.609375 48.1875 \r\nQ 61.625 48.1875 57.5625 43.546875 \r\nQ 53.515625 38.921875 53.515625 30.90625 \r\nL 53.515625 0 \r\nL 44.484375 0 \r\nL 44.484375 32.71875 \r\nQ 44.484375 40.625 41.703125 44.40625 \r\nQ 38.921875 48.1875 33.109375 48.1875 \r\nQ 26.21875 48.1875 22.15625 43.53125 \r\nQ 18.109375 38.875 18.109375 30.90625 \r\nL 18.109375 0 \r\nL 9.078125 0 \r\nL 9.078125 54.6875 \r\nL 18.109375 54.6875 \r\nL 18.109375 46.1875 \r\nQ 21.1875 51.21875 25.484375 53.609375 \r\nQ 29.78125 56 35.6875 56 \r\nQ 41.65625 56 45.828125 52.96875 \r\nQ 50 49.953125 52 44.1875 \r\nz\r\n\" id=\"DejaVuSans-109\"/>\r\n      <path d=\"M 18.109375 8.203125 \r\nL 18.109375 -20.796875 \r\nL 9.078125 -20.796875 \r\nL 9.078125 54.6875 \r\nL 18.109375 54.6875 \r\nL 18.109375 46.390625 \r\nQ 20.953125 51.265625 25.265625 53.625 \r\nQ 29.59375 56 35.59375 56 \r\nQ 45.5625 56 51.78125 48.09375 \r\nQ 58.015625 40.1875 58.015625 27.296875 \r\nQ 58.015625 14.40625 51.78125 6.484375 \r\nQ 45.5625 -1.421875 35.59375 -1.421875 \r\nQ 29.59375 -1.421875 25.265625 0.953125 \r\nQ 20.953125 3.328125 18.109375 8.203125 \r\nz\r\nM 48.6875 27.296875 \r\nQ 48.6875 37.203125 44.609375 42.84375 \r\nQ 40.53125 48.484375 33.40625 48.484375 \r\nQ 26.265625 48.484375 22.1875 42.84375 \r\nQ 18.109375 37.203125 18.109375 27.296875 \r\nQ 18.109375 17.390625 22.1875 11.75 \r\nQ 26.265625 6.109375 33.40625 6.109375 \r\nQ 40.53125 6.109375 44.609375 11.75 \r\nQ 48.6875 17.390625 48.6875 27.296875 \r\nz\r\n\" id=\"DejaVuSans-112\"/>\r\n      <path d=\"M 34.28125 27.484375 \r\nQ 23.390625 27.484375 19.1875 25 \r\nQ 14.984375 22.515625 14.984375 16.5 \r\nQ 14.984375 11.71875 18.140625 8.90625 \r\nQ 21.296875 6.109375 26.703125 6.109375 \r\nQ 34.1875 6.109375 38.703125 11.40625 \r\nQ 43.21875 16.703125 43.21875 25.484375 \r\nL 43.21875 27.484375 \r\nz\r\nM 52.203125 31.203125 \r\nL 52.203125 0 \r\nL 43.21875 0 \r\nL 43.21875 8.296875 \r\nQ 40.140625 3.328125 35.546875 0.953125 \r\nQ 30.953125 -1.421875 24.3125 -1.421875 \r\nQ 15.921875 -1.421875 10.953125 3.296875 \r\nQ 6 8.015625 6 15.921875 \r\nQ 6 25.140625 12.171875 29.828125 \r\nQ 18.359375 34.515625 30.609375 34.515625 \r\nL 43.21875 34.515625 \r\nL 43.21875 35.40625 \r\nQ 43.21875 41.609375 39.140625 45 \r\nQ 35.0625 48.390625 27.6875 48.390625 \r\nQ 23 48.390625 18.546875 47.265625 \r\nQ 14.109375 46.140625 10.015625 43.890625 \r\nL 10.015625 52.203125 \r\nQ 14.9375 54.109375 19.578125 55.046875 \r\nQ 24.21875 56 28.609375 56 \r\nQ 40.484375 56 46.34375 49.84375 \r\nQ 52.203125 43.703125 52.203125 31.203125 \r\nz\r\n\" id=\"DejaVuSans-97\"/>\r\n      <path d=\"M 48.78125 52.59375 \r\nL 48.78125 44.1875 \r\nQ 44.96875 46.296875 41.140625 47.34375 \r\nQ 37.3125 48.390625 33.40625 48.390625 \r\nQ 24.65625 48.390625 19.8125 42.84375 \r\nQ 14.984375 37.3125 14.984375 27.296875 \r\nQ 14.984375 17.28125 19.8125 11.734375 \r\nQ 24.65625 6.203125 33.40625 6.203125 \r\nQ 37.3125 6.203125 41.140625 7.25 \r\nQ 44.96875 8.296875 48.78125 10.40625 \r\nL 48.78125 2.09375 \r\nQ 45.015625 0.34375 40.984375 -0.53125 \r\nQ 36.96875 -1.421875 32.421875 -1.421875 \r\nQ 20.0625 -1.421875 12.78125 6.34375 \r\nQ 5.515625 14.109375 5.515625 27.296875 \r\nQ 5.515625 40.671875 12.859375 48.328125 \r\nQ 20.21875 56 33.015625 56 \r\nQ 37.15625 56 41.109375 55.140625 \r\nQ 45.0625 54.296875 48.78125 52.59375 \r\nz\r\nM 36.109375 0 \r\nQ 38.78125 -3.03125 40.09375 -5.59375 \r\nQ 41.421875 -8.15625 41.421875 -10.5 \r\nQ 41.421875 -14.84375 38.484375 -17.0625 \r\nQ 35.5625 -19.28125 29.796875 -19.28125 \r\nQ 27.5625 -19.28125 25.4375 -18.984375 \r\nQ 23.3125 -18.703125 21.203125 -18.109375 \r\nL 21.203125 -11.71875 \r\nQ 22.875 -12.546875 24.671875 -12.90625 \r\nQ 26.484375 -13.28125 28.78125 -13.28125 \r\nQ 31.65625 -13.28125 33.125 -12.109375 \r\nQ 34.59375 -10.9375 34.59375 -8.6875 \r\nQ 34.59375 -7.234375 33.53125 -5.109375 \r\nQ 32.484375 -2.984375 30.296875 0 \r\nz\r\n\" id=\"DejaVuSans-231\"/>\r\n      <path d=\"M 34.28125 27.484375 \r\nQ 23.390625 27.484375 19.1875 25 \r\nQ 14.984375 22.515625 14.984375 16.5 \r\nQ 14.984375 11.71875 18.140625 8.90625 \r\nQ 21.296875 6.109375 26.703125 6.109375 \r\nQ 34.1875 6.109375 38.703125 11.40625 \r\nQ 43.21875 16.703125 43.21875 25.484375 \r\nL 43.21875 27.484375 \r\nz\r\nM 52.203125 31.203125 \r\nL 52.203125 0 \r\nL 43.21875 0 \r\nL 43.21875 8.296875 \r\nQ 40.140625 3.328125 35.546875 0.953125 \r\nQ 30.953125 -1.421875 24.3125 -1.421875 \r\nQ 15.921875 -1.421875 10.953125 3.296875 \r\nQ 6 8.015625 6 15.921875 \r\nQ 6 25.140625 12.171875 29.828125 \r\nQ 18.359375 34.515625 30.609375 34.515625 \r\nL 43.21875 34.515625 \r\nL 43.21875 35.40625 \r\nQ 43.21875 41.609375 39.140625 45 \r\nQ 35.0625 48.390625 27.6875 48.390625 \r\nQ 23 48.390625 18.546875 47.265625 \r\nQ 14.109375 46.140625 10.015625 43.890625 \r\nL 10.015625 52.203125 \r\nQ 14.9375 54.109375 19.578125 55.046875 \r\nQ 24.21875 56 28.609375 56 \r\nQ 40.484375 56 46.34375 49.84375 \r\nQ 52.203125 43.703125 52.203125 31.203125 \r\nz\r\nM 28.8125 66.890625 \r\nL 26.015625 69.578125 \r\nQ 24.953125 70.5625 24.140625 71.015625 \r\nQ 23.34375 71.484375 22.703125 71.484375 \r\nQ 20.84375 71.484375 19.96875 69.703125 \r\nQ 19.09375 67.921875 18.984375 63.921875 \r\nL 12.890625 63.921875 \r\nQ 12.984375 70.515625 15.46875 74.09375 \r\nQ 17.96875 77.6875 22.40625 77.6875 \r\nQ 24.265625 77.6875 25.828125 77 \r\nQ 27.390625 76.3125 29.203125 74.703125 \r\nL 31.984375 72.015625 \r\nQ 33.046875 71.046875 33.859375 70.578125 \r\nQ 34.671875 70.125 35.296875 70.125 \r\nQ 37.15625 70.125 38.03125 71.90625 \r\nQ 38.90625 73.6875 39.015625 77.6875 \r\nL 45.109375 77.6875 \r\nQ 45.015625 71.09375 42.515625 67.5 \r\nQ 40.03125 63.921875 35.59375 63.921875 \r\nQ 33.734375 63.921875 32.171875 64.59375 \r\nQ 30.609375 65.28125 28.8125 66.890625 \r\nz\r\n\" id=\"DejaVuSans-227\"/>\r\n      <path id=\"DejaVuSans-32\"/>\r\n      <path d=\"M 45.40625 46.390625 \r\nL 45.40625 75.984375 \r\nL 54.390625 75.984375 \r\nL 54.390625 0 \r\nL 45.40625 0 \r\nL 45.40625 8.203125 \r\nQ 42.578125 3.328125 38.25 0.953125 \r\nQ 33.9375 -1.421875 27.875 -1.421875 \r\nQ 17.96875 -1.421875 11.734375 6.484375 \r\nQ 5.515625 14.40625 5.515625 27.296875 \r\nQ 5.515625 40.1875 11.734375 48.09375 \r\nQ 17.96875 56 27.875 56 \r\nQ 33.9375 56 38.25 53.625 \r\nQ 42.578125 51.265625 45.40625 46.390625 \r\nz\r\nM 14.796875 27.296875 \r\nQ 14.796875 17.390625 18.875 11.75 \r\nQ 22.953125 6.109375 30.078125 6.109375 \r\nQ 37.203125 6.109375 41.296875 11.75 \r\nQ 45.40625 17.390625 45.40625 27.296875 \r\nQ 45.40625 37.203125 41.296875 42.84375 \r\nQ 37.203125 48.484375 30.078125 48.484375 \r\nQ 22.953125 48.484375 18.875 42.84375 \r\nQ 14.796875 37.203125 14.796875 27.296875 \r\nz\r\n\" id=\"DejaVuSans-100\"/>\r\n      <path d=\"M 9.8125 72.90625 \r\nL 55.90625 72.90625 \r\nL 55.90625 64.59375 \r\nL 19.671875 64.59375 \r\nL 19.671875 43.015625 \r\nL 54.390625 43.015625 \r\nL 54.390625 34.71875 \r\nL 19.671875 34.71875 \r\nL 19.671875 8.296875 \r\nL 56.78125 8.296875 \r\nL 56.78125 0 \r\nL 9.8125 0 \r\nz\r\n\" id=\"DejaVuSans-69\"/>\r\n      <path d=\"M 48.78125 52.59375 \r\nL 48.78125 44.1875 \r\nQ 44.96875 46.296875 41.140625 47.34375 \r\nQ 37.3125 48.390625 33.40625 48.390625 \r\nQ 24.65625 48.390625 19.8125 42.84375 \r\nQ 14.984375 37.3125 14.984375 27.296875 \r\nQ 14.984375 17.28125 19.8125 11.734375 \r\nQ 24.65625 6.203125 33.40625 6.203125 \r\nQ 37.3125 6.203125 41.140625 7.25 \r\nQ 44.96875 8.296875 48.78125 10.40625 \r\nL 48.78125 2.09375 \r\nQ 45.015625 0.34375 40.984375 -0.53125 \r\nQ 36.96875 -1.421875 32.421875 -1.421875 \r\nQ 20.0625 -1.421875 12.78125 6.34375 \r\nQ 5.515625 14.109375 5.515625 27.296875 \r\nQ 5.515625 40.671875 12.859375 48.328125 \r\nQ 20.21875 56 33.015625 56 \r\nQ 37.15625 56 41.109375 55.140625 \r\nQ 45.0625 54.296875 48.78125 52.59375 \r\nz\r\n\" id=\"DejaVuSans-99\"/>\r\n      <path d=\"M 28.609375 0 \r\nL 0.78125 72.90625 \r\nL 11.078125 72.90625 \r\nL 34.1875 11.53125 \r\nL 57.328125 72.90625 \r\nL 67.578125 72.90625 \r\nL 39.796875 0 \r\nz\r\n\" id=\"DejaVuSans-86\"/>\r\n      <path d=\"M 54.890625 33.015625 \r\nL 54.890625 0 \r\nL 45.90625 0 \r\nL 45.90625 32.71875 \r\nQ 45.90625 40.484375 42.875 44.328125 \r\nQ 39.84375 48.1875 33.796875 48.1875 \r\nQ 26.515625 48.1875 22.3125 43.546875 \r\nQ 18.109375 38.921875 18.109375 30.90625 \r\nL 18.109375 0 \r\nL 9.078125 0 \r\nL 9.078125 54.6875 \r\nL 18.109375 54.6875 \r\nL 18.109375 46.1875 \r\nQ 21.34375 51.125 25.703125 53.5625 \r\nQ 30.078125 56 35.796875 56 \r\nQ 45.21875 56 50.046875 50.171875 \r\nQ 54.890625 44.34375 54.890625 33.015625 \r\nz\r\n\" id=\"DejaVuSans-110\"/>\r\n      <path d=\"M 9.421875 54.6875 \r\nL 18.40625 54.6875 \r\nL 18.40625 0 \r\nL 9.421875 0 \r\nz\r\nM 9.421875 75.984375 \r\nL 18.40625 75.984375 \r\nL 18.40625 64.59375 \r\nL 9.421875 64.59375 \r\nz\r\n\" id=\"DejaVuSans-105\"/>\r\n      <path d=\"M 18.3125 70.21875 \r\nL 18.3125 54.6875 \r\nL 36.8125 54.6875 \r\nL 36.8125 47.703125 \r\nL 18.3125 47.703125 \r\nL 18.3125 18.015625 \r\nQ 18.3125 11.328125 20.140625 9.421875 \r\nQ 21.96875 7.515625 27.59375 7.515625 \r\nL 36.8125 7.515625 \r\nL 36.8125 0 \r\nL 27.59375 0 \r\nQ 17.1875 0 13.234375 3.875 \r\nQ 9.28125 7.765625 9.28125 18.015625 \r\nL 9.28125 47.703125 \r\nL 2.6875 47.703125 \r\nL 2.6875 54.6875 \r\nL 9.28125 54.6875 \r\nL 9.28125 70.21875 \r\nz\r\n\" id=\"DejaVuSans-116\"/>\r\n      <path d=\"M 9.421875 75.984375 \r\nL 18.40625 75.984375 \r\nL 18.40625 0 \r\nL 9.421875 0 \r\nz\r\n\" id=\"DejaVuSans-108\"/>\r\n     </defs>\r\n     <use xlink:href=\"#DejaVuSans-67\"/>\r\n     <use x=\"69.824219\" xlink:href=\"#DejaVuSans-111\"/>\r\n     <use x=\"131.005859\" xlink:href=\"#DejaVuSans-109\"/>\r\n     <use x=\"228.417969\" xlink:href=\"#DejaVuSans-112\"/>\r\n     <use x=\"291.894531\" xlink:href=\"#DejaVuSans-97\"/>\r\n     <use x=\"353.173828\" xlink:href=\"#DejaVuSans-114\"/>\r\n     <use x=\"394.287109\" xlink:href=\"#DejaVuSans-97\"/>\r\n     <use x=\"455.566406\" xlink:href=\"#DejaVuSans-231\"/>\r\n     <use x=\"510.546875\" xlink:href=\"#DejaVuSans-227\"/>\r\n     <use x=\"571.826172\" xlink:href=\"#DejaVuSans-111\"/>\r\n     <use x=\"633.007812\" xlink:href=\"#DejaVuSans-32\"/>\r\n     <use x=\"664.794922\" xlink:href=\"#DejaVuSans-100\"/>\r\n     <use x=\"728.271484\" xlink:href=\"#DejaVuSans-111\"/>\r\n     <use x=\"789.453125\" xlink:href=\"#DejaVuSans-32\"/>\r\n     <use x=\"821.240234\" xlink:href=\"#DejaVuSans-69\"/>\r\n     <use x=\"884.423828\" xlink:href=\"#DejaVuSans-40\"/>\r\n     <use x=\"923.4375\" xlink:href=\"#DejaVuSans-114\"/>\r\n     <use x=\"964.550781\" xlink:href=\"#DejaVuSans-41\"/>\r\n     <use x=\"1003.564453\" xlink:href=\"#DejaVuSans-32\"/>\r\n     <use x=\"1035.351562\" xlink:href=\"#DejaVuSans-99\"/>\r\n     <use x=\"1090.332031\" xlink:href=\"#DejaVuSans-111\"/>\r\n     <use x=\"1151.513672\" xlink:href=\"#DejaVuSans-109\"/>\r\n     <use x=\"1248.925781\" xlink:href=\"#DejaVuSans-32\"/>\r\n     <use x=\"1280.712891\" xlink:href=\"#DejaVuSans-86\"/>\r\n     <use x=\"1349.121094\" xlink:href=\"#DejaVuSans-40\"/>\r\n     <use x=\"1388.134766\" xlink:href=\"#DejaVuSans-114\"/>\r\n     <use x=\"1429.248047\" xlink:href=\"#DejaVuSans-41\"/>\r\n     <use x=\"1468.261719\" xlink:href=\"#DejaVuSans-32\"/>\r\n     <use x=\"1500.048828\" xlink:href=\"#DejaVuSans-110\"/>\r\n     <use x=\"1563.427734\" xlink:href=\"#DejaVuSans-111\"/>\r\n     <use x=\"1624.609375\" xlink:href=\"#DejaVuSans-32\"/>\r\n     <use x=\"1656.396484\" xlink:href=\"#DejaVuSans-67\"/>\r\n     <use x=\"1726.220703\" xlink:href=\"#DejaVuSans-97\"/>\r\n     <use x=\"1787.5\" xlink:href=\"#DejaVuSans-112\"/>\r\n     <use x=\"1850.976562\" xlink:href=\"#DejaVuSans-97\"/>\r\n     <use x=\"1912.255859\" xlink:href=\"#DejaVuSans-99\"/>\r\n     <use x=\"1967.236328\" xlink:href=\"#DejaVuSans-105\"/>\r\n     <use x=\"1995.019531\" xlink:href=\"#DejaVuSans-116\"/>\r\n     <use x=\"2034.228516\" xlink:href=\"#DejaVuSans-111\"/>\r\n     <use x=\"2095.410156\" xlink:href=\"#DejaVuSans-114\"/>\r\n     <use x=\"2136.523438\" xlink:href=\"#DejaVuSans-32\"/>\r\n     <use x=\"2168.310547\" xlink:href=\"#DejaVuSans-67\"/>\r\n     <use x=\"2238.134766\" xlink:href=\"#DejaVuSans-105\"/>\r\n     <use x=\"2265.917969\" xlink:href=\"#DejaVuSans-108\"/>\r\n     <use x=\"2293.701172\" xlink:href=\"#DejaVuSans-105\"/>\r\n     <use x=\"2321.484375\" xlink:href=\"#DejaVuSans-110\"/>\r\n     <use x=\"2384.863281\" xlink:href=\"#DejaVuSans-100\"/>\r\n     <use x=\"2448.339844\" xlink:href=\"#DejaVuSans-114\"/>\r\n     <use x=\"2489.453125\" xlink:href=\"#DejaVuSans-105\"/>\r\n     <use x=\"2517.236328\" xlink:href=\"#DejaVuSans-99\"/>\r\n     <use x=\"2572.216797\" xlink:href=\"#DejaVuSans-111\"/>\r\n    </g>\r\n   </g>\r\n  </g>\r\n </g>\r\n <defs>\r\n  <clipPath id=\"pbef0865430\">\r\n   <rect height=\"250.4\" width=\"376.834698\" x=\"38.254151\" y=\"22.5225\"/>\r\n  </clipPath>\r\n </defs>\r\n</svg>\r\n",
      "image/png": "[encoded data removed]"
     },
     "metadata": {
      "needs_background": "light"
     }
    }
   ],
   "source": [
    "p = sp.plot(v2(r),E(r),(r,0,10),ylim=(-500,500), title = \"Comparação do E(r) com V(r) no Capacitor Cilindrico\", show = False)\n",
    "p[1].line_color = 'red'\n",
    "p.show()"
   ]
  },
  {
   "source": [
    "## Q12\n",
    "\n"
   ],
   "cell_type": "markdown",
   "metadata": {}
  },
  {
   "source": [
    "Contando que o capacitor cilindrico inteiro sejá dado por \n",
    "$$ C = \\frac{2\\pi\\epsilon_0\\epsilon_r L}{\\ln{\\frac{b}{a}}}$$\n",
    "\n",
    "olhando para a figura podemos visualizar que o capacitor em destaque é a $\\alpha$ parte de um inteiro, ficando claro então que sua formatação pode ser posta como \n",
    "\n",
    "$$ C = \\frac{\\alpha}{2\\pi} \\frac{2\\pi\\epsilon_0\\epsilon_r L}{\\ln{\\frac{b}{a}}}$$\n",
    "\n",
    "Sendo $b$ o raio maior e $a$ o raio menor."
   ],
   "cell_type": "markdown",
   "metadata": {}
  },
  {
   "cell_type": "code",
   "execution_count": 62,
   "metadata": {},
   "outputs": [
    {
     "output_type": "execute_result",
     "data": {
      "text/plain": [
       "7.93211360837245e-11*L*alpha"
      ],
      "text/latex": "$\\displaystyle 7.93211360837245 \\cdot 10^{-11} L \\alpha$"
     },
     "metadata": {},
     "execution_count": 62
    }
   ],
   "source": [
    "a,L = sp.symbols('alpha L')\n",
    "r2 = 2.5e-2\n",
    "r1 = 2e-2\n",
    "er1 = 2\n",
    "er2 = 5\n",
    "\n",
    "C = lambda er: a*(e0*er*L)/(sp.ln(r2/r1))\n",
    "\n",
    "C1 = C(er1)\n",
    "C1"
   ]
  },
  {
   "cell_type": "code",
   "execution_count": 63,
   "metadata": {},
   "outputs": [
    {
     "output_type": "execute_result",
     "data": {
      "text/plain": [
       "1.98302840209311e-10*L*alpha"
      ],
      "text/latex": "$\\displaystyle 1.98302840209311 \\cdot 10^{-10} L \\alpha$"
     },
     "metadata": {},
     "execution_count": 63
    }
   ],
   "source": [
    "C2 = C(er2)\n",
    "C2"
   ]
  },
  {
   "source": [
    "Como $$ C_1V_1 = C_2V_2 $$ podemos aplicar o divisor de tesão uma vez que sabemos que a fonte de entrada é de $100V$"
   ],
   "cell_type": "markdown",
   "metadata": {}
  },
  {
   "cell_type": "code",
   "execution_count": 64,
   "metadata": {},
   "outputs": [
    {
     "output_type": "stream",
     "name": "stdout",
     "text": [
      "V1 = 71.43 V e V2 = 28.57 V\n"
     ]
    }
   ],
   "source": [
    "V = 100\n",
    "V1 = (C2/(C1+C2)) * V\n",
    "V2 = (C1/(C1+C2)) * V\n",
    "print(\"V1 = {:.4} V e V2 = {:.4} V\".format(V1,V2))"
   ]
  },
  {
   "source": [
    "## Q9"
   ],
   "cell_type": "markdown",
   "metadata": {}
  },
  {
   "source": [
    "Dado o campo elétrico como \n",
    "$$E = \\frac{k}{r^2} \\frac{1}{\\left(\\frac{1}{a}-\\frac{1}{b}\\right)}$$\n",
    "e \n",
    "$$dV = \\vec{E} \\cdot d\\vec{r} $$\n",
    "sabendo ambos são radiais \n",
    "$$dV = E \\cdot dr$$ \n",
    "\n",
    "substituindo \n",
    "$$V= \\int^b_a \\frac{k}{r^2} \\frac{ab}{b-a} \\ dr$$"
   ],
   "cell_type": "markdown",
   "metadata": {}
  },
  {
   "source": [
    "a,b,r = sp.symbols(\"a b r\")\n",
    "sp.var('k')\n",
    "E = lambda r,k: (k/r**2)*((a*b)/(b-a))\n",
    "\n",
    "V = sp.integrate(E(r,k),(r,a,b))\n",
    "V.simplify()"
   ],
   "cell_type": "code",
   "metadata": {},
   "execution_count": 65,
   "outputs": [
    {
     "output_type": "execute_result",
     "data": {
      "text/plain": [
       "k"
      ],
      "text/latex": "$\\displaystyle k$"
     },
     "metadata": {},
     "execution_count": 65
    }
   ]
  },
  {
   "cell_type": "code",
   "execution_count": 66,
   "metadata": {},
   "outputs": [
    {
     "output_type": "execute_result",
     "data": {
      "text/plain": [
       "8.992e+9"
      ],
      "text/latex": "$\\displaystyle 8.992 \\cdot 10^{9}$"
     },
     "metadata": {},
     "execution_count": 66
    }
   ],
   "source": [
    "V.subs(k,1/(4*sp.pi*e0)).simplify().evalf(4)"
   ]
  },
  {
   "source": [
    "Portanto, $$V = 8.992\\cdot 10^9 \\ V $$"
   ],
   "cell_type": "markdown",
   "metadata": {}
  }
 ]
}