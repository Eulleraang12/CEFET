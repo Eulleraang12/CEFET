{
 "metadata": {
  "language_info": {
   "codemirror_mode": {
    "name": "ipython",
    "version": 3
   },
   "file_extension": ".py",
   "mimetype": "text/x-python",
   "name": "python",
   "nbconvert_exporter": "python",
   "pygments_lexer": "ipython3",
   "version": "3.9.0-final"
  },
  "orig_nbformat": 2,
  "kernelspec": {
   "name": "python3",
   "display_name": "Python 3"
  }
 },
 "nbformat": 4,
 "nbformat_minor": 2,
 "cells": [
  {
   "source": [
    "# Lista 4 - Potencial Elétrico"
   ],
   "cell_type": "markdown",
   "metadata": {}
  },
  {
   "source": [
    "## Q1\n"
   ],
   "cell_type": "markdown",
   "metadata": {}
  },
  {
   "source": [
    "Usando a trajetória $x^2 = 8y$ vamos encontrar o trbaalho necessário para mover a carga $Q = -20\\mu C$ da origem até o ponto (4,2,0) a partir do campo elétrico dado no enunciado com a ideia de que trabalho é o produto da força pela distância "
   ],
   "cell_type": "markdown",
   "metadata": {}
  },
  {
   "source": [
    "$$W = \\int_C \\vec{F} \\cdot d\\vec{r}$$\n",
    "\n",
    "Sabendo que $\\vec{F} = q\\vec{E}$ podemos subistituir e ficamos com \n",
    "\n",
    "$$W = q \\int \\int \\vec{E} \\cdot d\\vec{r}$$ \n",
    "\n",
    "$$W = q \\iint ( (2x+8y) \\ \\vec{ax}+8x \\ \\vec{ay} ) \\cdot ( dx \\ \\vec{ax} + dy \\ \\vec{ay})$$\n",
    "\n",
    "Como temos que fazer pelo caminho $x^2 = 8y$\n",
    "\n",
    "$$W = q \\iint ( (2x+x^2) \\ \\vec{ax}+8\\sqrt{8y} \\ \\vec{ay} ) \\cdot ( dx \\ \\vec{ax} + dy \\ \\vec{ay})$$\n"
   ],
   "cell_type": "markdown",
   "metadata": {}
  },
  {
   "cell_type": "code",
   "execution_count": 361,
   "metadata": {},
   "outputs": [
    {
     "output_type": "stream",
     "name": "stdout",
     "text": [
      "W = -1.60e-3 J\n"
     ]
    }
   ],
   "source": [
    "from math import *\n",
    "import sympy as sp \n",
    "q = -20e-6\n",
    "\n",
    "x, y = sp.symbols('x y')\n",
    "\n",
    "W = q*(sp.integrate(2*x+x**2,(x,0,4)) + sp.integrate(8*sp.sqrt(8*y),(y,0,2)))\n",
    "W\n",
    "print(\"W = {:.2e} J\".format(W))"
   ]
  },
  {
   "source": [
    "$$W = -1.6 mJ$$"
   ],
   "cell_type": "markdown",
   "metadata": {}
  },
  {
   "source": [
    "## Q4"
   ],
   "cell_type": "markdown",
   "metadata": {}
  },
  {
   "source": [
    "Sabendo que a densidade de fluxo é dado por $$D = \\epsilon_0 E $$ e $$ E = - \\nabla V$$ podemos calcular a densidade em $D = (2,\\frac{\\pi}{2},0)$ "
   ],
   "cell_type": "markdown",
   "metadata": {}
  },
  {
   "cell_type": "code",
   "execution_count": 362,
   "metadata": {},
   "outputs": [
    {
     "output_type": "execute_result",
     "data": {
      "text/plain": [
       "10*sin(theta)*cos(phi)/r**2"
      ],
      "text/latex": "$\\displaystyle \\frac{10 \\sin{\\left(\\theta \\right)} \\cos{\\left(\\phi \\right)}}{r^{2}}$"
     },
     "metadata": {},
     "execution_count": 362
    }
   ],
   "source": [
    "r,O,phi = sp.symbols(\"r theta phi\")\n",
    "ar,aO,aphi = sp.symbols('a_r a_theta a_phi')\n",
    "V = lambda r,O,phi: (10/r**2)*sp.sin(O)*sp.cos(phi)\n",
    "V(r,O,phi)"
   ]
  },
  {
   "cell_type": "code",
   "execution_count": 363,
   "metadata": {},
   "outputs": [
    {
     "output_type": "execute_result",
     "data": {
      "text/plain": [
       "10*a_phi*sin(phi)/r**3 + 20*a_r*sin(theta)*cos(phi)/r**3 - 10*a_theta*cos(phi)*cos(theta)/r**3"
      ],
      "text/latex": "$\\displaystyle \\frac{10 a_{\\phi} \\sin{\\left(\\phi \\right)}}{r^{3}} + \\frac{20 a_{r} \\sin{\\left(\\theta \\right)} \\cos{\\left(\\phi \\right)}}{r^{3}} - \\frac{10 a_{\\theta} \\cos{\\left(\\phi \\right)} \\cos{\\left(\\theta \\right)}}{r^{3}}$"
     },
     "metadata": {},
     "execution_count": 363
    }
   ],
   "source": [
    "Er = V(r,O,phi).diff(r) *ar\n",
    "E0 = (1/r)*V(r,O,phi).diff(O)*aO\n",
    "Ephi = (1/(r*sp.sin(O))*(V(r,O,phi).diff(phi)))*aphi\n",
    "\n",
    "E = -(Er+E0+Ephi)\n",
    "E"
   ]
  },
  {
   "cell_type": "code",
   "execution_count": 364,
   "metadata": {},
   "outputs": [
    {
     "output_type": "execute_result",
     "data": {
      "text/plain": [
       "2.2125e-11*a_r"
      ],
      "text/latex": "$\\displaystyle 2.2125 \\cdot 10^{-11} a_{r}$"
     },
     "metadata": {},
     "execution_count": 364
    }
   ],
   "source": [
    "e0 = 8.85e-12\n",
    "D = e0*E.subs(r,2).subs(O,sp.pi/2).subs(phi,0)\n",
    "D"
   ]
  },
  {
   "source": [
    "Sabendo que $$W = -qV_{AB}$$ e adotando uma carga $ Q = 10\\mu C$"
   ],
   "cell_type": "markdown",
   "metadata": {}
  },
  {
   "cell_type": "code",
   "execution_count": 365,
   "metadata": {},
   "outputs": [
    {
     "output_type": "stream",
     "name": "stdout",
     "text": [
      "W = 2.8125e-5 J\n"
     ]
    }
   ],
   "source": [
    "q = 10e-6\n",
    "grau = lambda g: (g*sp.pi)/180 #convertendo para radianos\n",
    "\n",
    "W = -q*(V(1,grau(30),grau(120))-V(4,grau(90),grau(60)))\n",
    "print('W = {:.4e} J'.format(W))"
   ]
  },
  {
   "source": [
    "## Q8"
   ],
   "cell_type": "markdown",
   "metadata": {}
  },
  {
   "source": [
    "Sabendo que $$V(r) = \\frac{Q}{4\\pi \\epsilon_0 r}$$"
   ],
   "cell_type": "markdown",
   "metadata": {}
  },
  {
   "cell_type": "code",
   "execution_count": 366,
   "metadata": {},
   "outputs": [
    {
     "output_type": "execute_result",
     "data": {
      "text/plain": [
       "0.599"
      ],
      "text/latex": "$\\displaystyle 0.599$"
     },
     "metadata": {},
     "execution_count": 366
    }
   ],
   "source": [
    "Q = 500e-12\n",
    "ra = 5\n",
    "rb = 15\n",
    "\n",
    "V = lambda r: Q/(4*sp.pi*e0*r)\n",
    "Vab = V(ra)- V(rb)\n",
    "Vab.evalf(3)\n"
   ]
  },
  {
   "source": [
    "$$V_A - V_B = 0.6V$$"
   ],
   "cell_type": "markdown",
   "metadata": {}
  },
  {
   "source": [
    "## Q11"
   ],
   "cell_type": "markdown",
   "metadata": {}
  },
  {
   "source": [
    "Sabendo que $dQ = \\rho_l \\ dl$ \n",
    "então como a imagem nos mostra um cinlidro planificado, podemos pensar em uma espécie de capacitor cilindrico é usar\n",
    "$$V = -\\int_{r_A}^{r_B} \\frac{\\rho_l \\ dr}{2\\pi \\epsilon_0 r}$$"
   ],
   "cell_type": "markdown",
   "metadata": {}
  },
  {
   "cell_type": "code",
   "execution_count": 367,
   "metadata": {},
   "outputs": [
    {
     "output_type": "execute_result",
     "data": {
      "text/plain": [
       "0.299"
      ],
      "text/latex": "$\\displaystyle 0.299$"
     },
     "metadata": {},
     "execution_count": 367
    }
   ],
   "source": [
    "import numpy as np\n",
    "ra = np.array([0,-4,4])\n",
    "rb = np.array([0,-5,12])\n",
    "rho = 20e-12\n",
    "modulo = lambda r: np.sqrt(sum((r)**2))\n",
    "rA = modulo(ra)\n",
    "rB = modulo(rb)\n",
    "\n",
    "f = rho/(2*sp.pi*e0*r)\n",
    "V = - sp.integrate(f,(r,rB,rA))\n",
    "V.evalf(3)\n"
   ]
  },
  {
   "source": [
    "$$V_{AB} = 0.3V$$"
   ],
   "cell_type": "markdown",
   "metadata": {}
  },
  {
   "source": [
    "## Q10"
   ],
   "cell_type": "markdown",
   "metadata": {}
  },
  {
   "source": [
    "A energia armazenada no cilindro é dada por $$U = \\frac{\\epsilon_0}{2} \\int_V E^2 \\ dV$$\n",
    "\n",
    "onde $dV = r\\ dr \\ d\\theta \\ dz$"
   ],
   "cell_type": "markdown",
   "metadata": {}
  },
  {
   "cell_type": "code",
   "execution_count": 368,
   "metadata": {},
   "outputs": [
    {
     "output_type": "execute_result",
     "data": {
      "text/plain": [
       "0.223736775753450"
      ],
      "text/latex": "$\\displaystyle 0.22373677575345$"
     },
     "metadata": {},
     "execution_count": 368
    }
   ],
   "source": [
    "r,z = sp.symbols('r z')\n",
    "r1 = 0.01\n",
    "r2 = 0.05\n",
    "l = 0.5\n",
    "\n",
    "E = 1e5/r\n",
    "\n",
    "U = (e0/2) * sp.integrate(sp.integrate(sp.integrate(r*E**2,(r,r1,r2)),(O,0,2*sp.pi)),(z,0,l))\n",
    "U.evalf()\n",
    "\n"
   ]
  },
  {
   "source": [
    "Energia armazenada é $U = 0.22 J$ "
   ],
   "cell_type": "markdown",
   "metadata": {}
  },
  {
   "source": [
    "## Q5"
   ],
   "cell_type": "markdown",
   "metadata": {}
  },
  {
   "source": [
    "Partindo do conhecimento de que o potencial $V$ pode ser escrito usando o momento de dipolo \n",
    "$$V = \\frac{Q \\ d \\ \\cos{\\theta}}{4\\pi\\epsilon_0 \\ r^2} = \\frac{\\vec{p} \\cdot a_r}{4\\pi\\epsilon_0 \\ r^2}$$\n",
    "onde $a_r$ é o vetor unitário que aponta para o sentido da distância até o ponto determinado para a pedição do potencial, na origem \n",
    "\n",
    "$$V = \\frac{\\vec{p} \\cdot \\vec{r}}{4\\pi\\epsilon_0 \\ r^3}$$"
   ],
   "cell_type": "markdown",
   "metadata": {}
  },
  {
   "source": [
    "ra = np.array([0,0,2]) #criando o vetor a partir da origem \n",
    "rb = np.array([0,0,-3]) #criando o vetor a partir da origem \n",
    "az = np.array([0,0,1])\n",
    "\n",
    "pa = -5e-9*az\n",
    "pb = 9e-9*az\n",
    "\n",
    "V = lambda r,p: np.dot(p,r)/(4*np.pi*e0*(modulo(r)**3))  ##função modulo, foi criada nos exercicios anteriores esta sendo reaproveitada aqui\n",
    "\n",
    "v =  V(ra,pa) + V(rb,pb)\n",
    "\n",
    "v"
   ],
   "cell_type": "code",
   "metadata": {},
   "execution_count": 369,
   "outputs": [
    {
     "output_type": "execute_result",
     "data": {
      "text/plain": [
       "-20.23156056252907"
      ]
     },
     "metadata": {},
     "execution_count": 369
    }
   ]
  },
  {
   "source": [
    "por tanto $$V = -20.23 V$$"
   ],
   "cell_type": "markdown",
   "metadata": {}
  },
  {
   "source": [
    "# Q9"
   ],
   "cell_type": "markdown",
   "metadata": {}
  },
  {
   "source": [
    "Sabendo que $$\\vec{E} = -\\nabla V$$ \n",
    "e Dado $v$ somente em $\\phi$, $V = -\\frac{60\\phi}{\\pi}$"
   ],
   "cell_type": "markdown",
   "metadata": {}
  },
  {
   "cell_type": "code",
   "execution_count": 370,
   "metadata": {},
   "outputs": [
    {
     "output_type": "execute_result",
     "data": {
      "text/plain": [
       "-60/(pi*r)"
      ],
      "text/latex": "$\\displaystyle - \\frac{60}{\\pi r}$"
     },
     "metadata": {},
     "execution_count": 370
    }
   ],
   "source": [
    "\n",
    "V = -60*phi/sp.pi\n",
    "E = lambda phi: (1/r)*V.diff(phi) ## considerando apenas a parte modular \n",
    "E(phi)"
   ]
  },
  {
   "source": [
    "o volume infinitezimal é $$dV = r \\ dr \\ d\\phi \\ dz$$"
   ],
   "cell_type": "markdown",
   "metadata": {}
  },
  {
   "source": [
    " e que a energia armazenada é dada por $$U = \\frac{\\epsilon_0}{2} \\int_V E^2 \\ dV$$ "
   ],
   "cell_type": "markdown",
   "metadata": {}
  },
  {
   "cell_type": "code",
   "execution_count": 371,
   "metadata": {},
   "outputs": [
    {
     "output_type": "execute_result",
     "data": {
      "text/plain": [
       "1.51423876846818e-9"
      ],
      "text/latex": "$\\displaystyle 1.51423876846818 \\cdot 10^{-9}$"
     },
     "metadata": {},
     "execution_count": 371
    }
   ],
   "source": [
    "U = (e0/2) * (sp.integrate(sp.integrate(sp.integrate(r*E(phi)**2,(r,0.1,0.6)),(phi,0,sp.pi/6)),(z,0,1)))\n",
    "U.evalf()"
   ]
  },
  {
   "source": [
    "Logo a energia armazenada é $$U = 1.514 nJ$$"
   ],
   "cell_type": "markdown",
   "metadata": {}
  },
  {
   "source": [
    "## Q6"
   ],
   "cell_type": "markdown",
   "metadata": {}
  },
  {
   "source": [
    "Dado que a capacitância em um capacitor de placas paralelas e planas $$C = \\epsilon_0\\frac{A}{d}$$\n",
    "onde $A$ é a área do plano do capacitor e $d$ é a distância entre as placas."
   ],
   "cell_type": "markdown",
   "metadata": {}
  },
  {
   "source": [
    "Usando a lei de Gauss agora já evetuada as devidas considerações temos que $$E = \\frac{q}{\\epsilon_0 A}$$\n",
    "onde $A$ é a área da gaussiana "
   ],
   "cell_type": "markdown",
   "metadata": {}
  },
  {
   "source": [
    "Uma vez encontrado o campo podemos a energia armazenada $$U = \\frac{\\epsilon_0}{2} \\int_V E^2 \\ dV$$\n",
    "\n",
    "em uma situação de equilibrio eletrostático o campo eletrico em placas paralelas pode ser $E = \\frac{V}{d}$ sabendo que a tensão é $V = \\frac{Q}{C}$ podemos relacionar e ficamos com $$E = \\frac{Q}{C \\cdot d}$$"
   ],
   "cell_type": "markdown",
   "metadata": {}
  },
  {
   "source": [
    "Logo $$U = \\frac{\\epsilon_0}{2} \\left(\\frac{Q}{Cd} \\right)^2 \\int_V dV$$"
   ],
   "cell_type": "markdown",
   "metadata": {}
  },
  {
   "source": [
    "$$U = \\frac{\\epsilon_0 \\ Q^2 A \\ d }{2 \\ C^2 \\ d^2}$$ \n",
    "$$U = \\frac{V^2}{2} \\frac{\\epsilon_0 \\ A}{d}$$\n",
    "$$U = \\frac{CV^2}{2}$$"
   ],
   "cell_type": "markdown",
   "metadata": {}
  },
  {
   "source": [
    "## Q3\n"
   ],
   "cell_type": "markdown",
   "metadata": {}
  },
  {
   "source": [
    "Sabendo que o potencial Elétrico numa linha de carga infinita é dado por \n",
    "$$V_L =  - \\frac{\\rho_L }{2\\pi\\epsilon_0} ln(r)$$\n",
    "e na carga pontual \n",
    "$$V_Q = \\frac{Q}{4\\pi\\epsilon_0}\\frac{1}{r}$$\n",
    "em cada ponto tempos\n",
    "$$V_{ponto} = V_L + V_Q $$"
   ],
   "cell_type": "markdown",
   "metadata": {}
  },
  {
   "cell_type": "code",
   "execution_count": 372,
   "metadata": {},
   "outputs": [
    {
     "output_type": "execute_result",
     "data": {
      "text/plain": [
       "8.46893050223656"
      ],
      "text/latex": "$\\displaystyle 8.46893050223656$"
     },
     "metadata": {},
     "execution_count": 372
    }
   ],
   "source": [
    "#entradas\n",
    "A = np.array([5,0,1])\n",
    "O = np.array([0,0,0])\n",
    "Vo = 0\n",
    "\n",
    "#pontos\n",
    "La = np.array([A[0],1,1]) #ponto na linha de carga \n",
    "Lo = np.array([O[0],1,1])\n",
    "\n",
    "Q = np.array([-3,4,0])\n",
    "\n",
    "#constantes\n",
    "k = 1/(4*sp.pi*e0)\n",
    "rho = 2e-9\n",
    "q = 5e-9\n",
    "\n",
    "#\n",
    "rQA = A - Q ## distância perp de Q até A \n",
    "rLA = A - La ## distância perp da linha até A \n",
    "\n",
    "rQO = O - Q ## distância perp de Q até B\n",
    "rLO = O - Lo ## distância perp de Q até B \n",
    "\n",
    "\n",
    "Vl = lambda r: - (rho/(2*sp.pi*e0)) *sp.ln(modulo(r)) \n",
    "\n",
    "Vq = lambda r: (k*q)/modulo(r)\n",
    "\n",
    "Va = - (Vl(rLO) + Vq(rQO) -  Vl(rLA) - Vq(rQA) + Vo )\n",
    "Va.evalf()\n"
   ]
  },
  {
   "source": [
    "Feito o algoritmo a cima, podemos somente mudar os pontos que as projeções algebricas vão se acertar automaticamente logo para letra b"
   ],
   "cell_type": "markdown",
   "metadata": {}
  },
  {
   "cell_type": "code",
   "execution_count": 373,
   "metadata": {},
   "outputs": [
    {
     "output_type": "execute_result",
     "data": {
      "text/plain": [
       "49.8707133274791"
      ],
      "text/latex": "$\\displaystyle 49.8707133274791$"
     },
     "metadata": {},
     "execution_count": 373
    }
   ],
   "source": [
    "C = np.array([-2,5,3])\n",
    "B = np.array([1,2,1])\n",
    "Vb = 100\n",
    "\n",
    "Lc = np.array([C[0],1,1])\n",
    "Lb = np.array([B[0],1,1])\n",
    "\n",
    "\n",
    "rQC = C - Q \n",
    "rLC = C - Lc\n",
    "rQB = B - Q \n",
    "rLB = B - Lb\n",
    "\n",
    "\n",
    "Vc =  (Vl(rLC) + Vq(rQC) -  Vl(rLB) - Vq(rQB) + Vb )\n",
    "\n",
    "Vc.evalf()\n"
   ]
  },
  {
   "source": [
    "Já na letra C temos "
   ],
   "cell_type": "markdown",
   "metadata": {}
  },
  {
   "cell_type": "code",
   "execution_count": 374,
   "metadata": {},
   "outputs": [
    {
     "output_type": "execute_result",
     "data": {
      "text/plain": [
       "-50.1292866725209"
      ],
      "text/latex": "$\\displaystyle -50.1292866725209$"
     },
     "metadata": {},
     "execution_count": 374
    }
   ],
   "source": [
    "Vbc = Vc - Vb\n",
    "Vbc.evalf()"
   ]
  },
  {
   "source": [
    "Considerando todas as unidades de medidas em volts"
   ],
   "cell_type": "markdown",
   "metadata": {}
  }
 ]
}