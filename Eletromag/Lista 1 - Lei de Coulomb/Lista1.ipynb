{
 "cells": [
  {
   "cell_type": "markdown",
   "metadata": {
    "lang": "en"
   },
   "source": [
    "# List 1\n",
    "## Q1"
   ]
  },
  {
   "cell_type": "markdown",
   "metadata": {},
   "source": [
    "On the first case, we have $F_1$: \n",
    "\n",
    "$$F_1 = \\frac{k Q^2}{R^2}$$"
   ]
  },
  {
   "cell_type": "markdown",
   "metadata": {},
   "source": [
    "soon after, there was reduction to the charge in half the value and distance was doubled, changin to the following: \n",
    "\n",
    "$$ F_2 = \\frac{k(\\frac{Q}{2})^2}{(2R)^2} $$"
   ]
  },
  {
   "cell_type": "markdown",
   "metadata": {},
   "source": [
    "simplifying: \n",
    "\n",
    "$$ F_2 = \\frac{1}{16} \\frac{kQ^2}{R^2} $$"
   ]
  },
  {
   "cell_type": "markdown",
   "metadata": {},
   "source": [
    "then the relation of forces after $(F_2)$ and before $(F_1)$ is:  \n",
    "\n",
    "$$ F_2 = \\frac{1}{16} F_1 $$ "
   ]
  },
  {
   "cell_type": "markdown",
   "metadata": {},
   "source": [
    "the modulo of the new force is the reduction in $16$ part of the former force."
   ]
  },
  {
   "cell_type": "markdown",
   "metadata": {},
   "source": [
    "## Q2"
   ]
  },
  {
   "cell_type": "markdown",
   "metadata": {},
   "source": [
    "first step: \n",
    "\n",
    "$$ Q <-----(d_1)-----> 2Q <-----(d_2)-----> 4Q $$ "
   ]
  },
  {
   "cell_type": "markdown",
   "metadata": {},
   "source": [
    "in order for $2Q$ to have resultant force null, the force of $Q$ in $2Q$ must be equal the force of $4Q$ in $2Q$, then: \n",
    "\n",
    "$$F_{12} = F_{32}$$"
   ]
  },
  {
   "cell_type": "markdown",
   "metadata": {},
   "source": [
    "developing equality, we've\n",
    "\n",
    "$$\\frac{K*Q*2Q}{(d_1)^2} = \\frac{K*2Q*4Q}{(d_2)^2}$$ "
   ]
  },
  {
   "cell_type": "markdown",
   "metadata": {},
   "source": [
    "then, the relation $d_1$ and $d_2$ is : \n",
    "\n",
    "$$ d_2 = 2d_1$$ "
   ]
  },
  {
   "cell_type": "markdown",
   "metadata": {},
   "source": [
    "## Q4"
   ]
  },
  {
   "cell_type": "markdown",
   "metadata": {},
   "source": [
    "### a) \n",
    "first step, we've to define the parameters"
   ]
  },
  {
   "cell_type": "code",
   "execution_count": 26,
   "metadata": {
    "jupyter": {
     "source_hidden": true
    },
    "scrolled": true
   },
   "outputs": [
    {
     "data": {
      "text/plain": [
       "Text(-0.05, 0.04, 'D')"
      ]
     },
     "execution_count": 26,
     "metadata": {},
     "output_type": "execute_result"
    },
    {
     "data": {
      "image/png": "[encoded data removed]",
      "text/plain": [
       "<Figure size 432x288 with 1 Axes>"
      ]
     },
     "metadata": {
      "needs_background": "light"
     },
     "output_type": "display_data"
    }
   ],
   "source": [
    "from math import *\n",
    "import numpy as np\n",
    "import matplotlib.pyplot as plt\n",
    "\n",
    "l = sqrt(2)\n",
    "\n",
    "x = [0,l,l,0,0]\n",
    "y = [l,l,0,0,l]\n",
    "\n",
    "\n",
    "plt.plot(x,y,'ro')\n",
    "plt.plot(x,y)\n",
    "plt.annotate(\"A\", xy=(-0.05,l+0.01))\n",
    "plt.annotate(\"B\", xy=(l+0.03,l))\n",
    "plt.annotate(\"C\", xy=(l+0.03,0))\n",
    "plt.annotate(\"D\", xy=(-0.05,0.04))\n"
   ]
  },
  {
   "cell_type": "markdown",
   "metadata": {},
   "source": [
    "second step is calculate to the force $B$ in $D$ : \n",
    "\n",
    "$$\\vec{F}_{BD} = \\frac{k q^2}{(l\\sqrt{2})^3} \\vec{R}_{BD}$$ "
   ]
  },
  {
   "cell_type": "code",
   "execution_count": 27,
   "metadata": {
    "scrolled": true
   },
   "outputs": [
    {
     "name": "stdout",
     "output_type": "stream",
     "text": [
      "F_bd = -1.59e-03*i -1.59e-03*j\n"
     ]
    }
   ],
   "source": [
    "k = 9e9\n",
    "q = 1e-6\n",
    "\n",
    "R_bd = (l*sqrt(2))\n",
    "b = (k*q**2)/(R_bd**3) #escalar\n",
    "\n",
    "\n",
    "r_bd = np.array([-l,-l])\n",
    "\n",
    "F_bd = b*r_bd\n",
    "print('F_bd = {:.2e}*i {:.2e}*j'.format(*F_bd))\n"
   ]
  },
  {
   "cell_type": "markdown",
   "metadata": {},
   "source": [
    "third step, calculate the force $A$ in $D$:  \n",
    "\n",
    "$$\\vec{F}_{AD} = \\frac{k q^2}{l^3} \\vec{R}_{AD}$$ "
   ]
  },
  {
   "cell_type": "code",
   "execution_count": 28,
   "metadata": {
    "scrolled": true
   },
   "outputs": [
    {
     "name": "stdout",
     "output_type": "stream",
     "text": [
      "F_ad = 0.00e+00*i -4.50e-03*j\n"
     ]
    }
   ],
   "source": [
    "R_ad = l\n",
    "r_ad = np.array([0,-l])\n",
    "\n",
    "b = (k*q**2)/(R_ad**3) #escalar\n",
    "F_ad = b*r_ad\n",
    "\n",
    "print('F_ad = {:.2e}*i {:.2e}*j'.format(*F_ad))\n"
   ]
  },
  {
   "cell_type": "markdown",
   "metadata": {},
   "source": [
    "fourth step, calculate the force $C$ in $D$ : \n",
    "\n",
    "$$\\vec{F}_{CD} = \\frac{k q^2}{l^3} \\vec{R}_{CD}$$ "
   ]
  },
  {
   "cell_type": "code",
   "execution_count": 29,
   "metadata": {
    "scrolled": true
   },
   "outputs": [
    {
     "name": "stdout",
     "output_type": "stream",
     "text": [
      "F_cd = -4.50e-03*i 0.00e+00*j\n"
     ]
    }
   ],
   "source": [
    "R_cd = l\n",
    "r_cd = np.array([-l,0])\n",
    "\n",
    "b = (k*q**2)/(R_cd**3) #escalar\n",
    "\n",
    "F_cd = b*r_cd\n",
    "\n",
    "print('F_cd = {:.2e}*i {:.2e}*j'.format(*F_cd))"
   ]
  },
  {
   "cell_type": "markdown",
   "metadata": {},
   "source": [
    "fiveth and last step, calculate the result force in $D$ : \n",
    "\n",
    "$$\\vec{F_D} = \\vec{F}_{BD}+\\vec{F}_{CD}+\\vec{F}_{AD}$$"
   ]
  },
  {
   "cell_type": "code",
   "execution_count": 30,
   "metadata": {
    "scrolled": true
   },
   "outputs": [
    {
     "name": "stdout",
     "output_type": "stream",
     "text": [
      "F_d = -6.09e-03*i -6.09e-03*j\n"
     ]
    }
   ],
   "source": [
    "F_d = F_bd+F_cd+F_ad\n",
    "\n",
    "print('F_d = {:.2e}*i {:.2e}*j'.format(*F_d))\n"
   ]
  },
  {
   "cell_type": "markdown",
   "metadata": {},
   "source": [
    "### b)\n",
    "the components of the force in the square's center are going to annul, with it the result of the force will be zero."
   ]
  },
  {
   "cell_type": "markdown",
   "metadata": {},
   "source": [
    "## Q5"
   ]
  },
  {
   "cell_type": "markdown",
   "metadata": {},
   "source": [
    "first step, setting the parameters:"
   ]
  },
  {
   "cell_type": "code",
   "execution_count": 31,
   "metadata": {
    "scrolled": true
   },
   "outputs": [
    {
     "name": "stdout",
     "output_type": "stream",
     "text": [
      "R21 = -2.00e+00*i 1.00e+00*j 2.00e+00*k\n"
     ]
    }
   ],
   "source": [
    "q1 = 2e-6\n",
    "q2 = -300e-6\n",
    "\n",
    "P1 = np.array([0,1,2])\n",
    "P2 = np.array([2,0,0])\n",
    "\n",
    "R21 = np.array([P1 - P2][0]) #vector P21\n",
    "\n",
    "r21 = sqrt(sum(R21**2)) #modulo\n",
    "\n",
    "print('R21 = {:.2e}*i {:.2e}*j {:.2e}*k'.format(*R21))\n"
   ]
  },
  {
   "cell_type": "markdown",
   "metadata": {},
   "source": [
    "knowing that \n",
    "\n",
    "$$ \\vec{F_{21}} = \\frac{k*q1*q2}{R_{21}^3}\\vec{R}_{21}$$"
   ]
  },
  {
   "cell_type": "markdown",
   "metadata": {},
   "source": [
    "we have:"
   ]
  },
  {
   "cell_type": "code",
   "execution_count": 32,
   "metadata": {
    "scrolled": true
   },
   "outputs": [
    {
     "name": "stdout",
     "output_type": "stream",
     "text": [
      "F21 = 3.60e+00*i -1.80e+00*j -3.60e+00*k\n"
     ]
    }
   ],
   "source": [
    "F21 = ((k*q1*q2)/r21)*R21\n",
    "print('F21 = {:.2e}*i {:.2e}*j {:.2e}*k'.format(*F21))\n"
   ]
  },
  {
   "cell_type": "markdown",
   "metadata": {},
   "source": [
    "## Q6"
   ]
  },
  {
   "cell_type": "markdown",
   "metadata": {},
   "source": [
    "### a)"
   ]
  },
  {
   "cell_type": "markdown",
   "metadata": {},
   "source": [
    "first step, putting on the input"
   ]
  },
  {
   "cell_type": "code",
   "execution_count": 33,
   "metadata": {
    "scrolled": true
   },
   "outputs": [
    {
     "name": "stdout",
     "output_type": "stream",
     "text": [
      "Rab = -2.10e+01*i 4.00e+00*j -9.00e+00*k\n"
     ]
    }
   ],
   "source": [
    "Qa = 200e-6\n",
    "Qb = 500e-6\n",
    "A = np.array([26,4,7])\n",
    "B = np.array([5,8,-2])\n",
    "\n",
    "Rab = np.array([B-A][0])\n",
    "\n",
    "\n",
    "print('Rab = {:.2e}*i {:.2e}*j {:.2e}*k'.format(*Rab))\n"
   ]
  },
  {
   "cell_type": "markdown",
   "metadata": {},
   "source": [
    "### b)"
   ]
  },
  {
   "cell_type": "markdown",
   "metadata": {},
   "source": [
    "Calculating the absolute value of vector, $\\vec{R}_{AB}$"
   ]
  },
  {
   "cell_type": "code",
   "execution_count": 34,
   "metadata": {
    "scrolled": true
   },
   "outputs": [
    {
     "data": {
      "text/plain": [
       "23.194827009486403"
      ]
     },
     "execution_count": 34,
     "metadata": {},
     "output_type": "execute_result"
    }
   ],
   "source": [
    "rab = sqrt(sum(Rab**2)) \n",
    "rab"
   ]
  },
  {
   "cell_type": "markdown",
   "metadata": {},
   "source": [
    "the force is: \n",
    "\n",
    "$$ \\vec{F}_{AB} = \\frac{Q_A*Q_B}{4*\\pi*\\epsilon_0*R_{AB}^3} \\vec{R}_{AB} $$"
   ]
  },
  {
   "cell_type": "code",
   "execution_count": 35,
   "metadata": {
    "scrolled": true
   },
   "outputs": [
    {
     "name": "stdout",
     "output_type": "stream",
     "text": [
      "Fab = -8.15e+02*i 1.55e+02*j -3.49e+02*k\n"
     ]
    }
   ],
   "source": [
    "Fab = ((Qa*Qb)/(4*pi*(1e-9/(36*pi)*rab)))*Rab\n",
    "\n",
    "print('Fab = {:.2e}*i {:.2e}*j {:.2e}*k'.format(*Fab))\n"
   ]
  },
  {
   "cell_type": "markdown",
   "metadata": {},
   "source": [
    "## Q7"
   ]
  },
  {
   "cell_type": "markdown",
   "metadata": {},
   "source": [
    " putting on the input:"
   ]
  },
  {
   "cell_type": "code",
   "execution_count": 36,
   "metadata": {
    "scrolled": true
   },
   "outputs": [],
   "source": [
    "q = 2e-6\n",
    "F = 0.1"
   ]
  },
  {
   "cell_type": "markdown",
   "metadata": {},
   "source": [
    "$$ d = \\sqrt{\\frac{k * Q^2}{F}}$$"
   ]
  },
  {
   "cell_type": "code",
   "execution_count": 37,
   "metadata": {
    "scrolled": true
   },
   "outputs": [
    {
     "data": {
      "text/plain": [
       "0.6"
      ]
     },
     "execution_count": 37,
     "metadata": {},
     "output_type": "execute_result"
    }
   ],
   "source": [
    "d = sqrt((k*q**2)/F)\n",
    "d"
   ]
  },
  {
   "cell_type": "markdown",
   "metadata": {},
   "source": [
    "soon: \n",
    "\n",
    "$$ d = 0.6 m$$"
   ]
  },
  {
   "cell_type": "markdown",
   "metadata": {},
   "source": [
    "## Q3"
   ]
  },
  {
   "cell_type": "markdown",
   "metadata": {},
   "source": [
    "first step: \n",
    "\n",
    "$$ Q_1 <-------(x)-------> Q_3 <-------(d-x)-------> Q_2$$"
   ]
  },
  {
   "cell_type": "markdown",
   "metadata": {},
   "source": [
    "in order to have a balanced system we have $\\vec{F}_{13} = \\vec{F}_{23}$ "
   ]
  },
  {
   "cell_type": "markdown",
   "metadata": {},
   "source": [
    "$$\\frac{ k * q_1 * q_2}{x^2} = \\frac{ k * q_2 * q_3}{(d-x)^2}$$"
   ]
  },
  {
   "cell_type": "markdown",
   "metadata": {},
   "source": [
    "simplifying: $$ \\frac{d-x}{x} = \\sqrt{\\frac{q_2}{q_1}}$$"
   ]
  },
  {
   "cell_type": "code",
   "execution_count": 38,
   "metadata": {
    "scrolled": true
   },
   "outputs": [
    {
     "data": {
      "text/plain": [
       "3.0"
      ]
     },
     "execution_count": 38,
     "metadata": {},
     "output_type": "execute_result"
    }
   ],
   "source": [
    "q1 = -9e-6\n",
    "q2 = -36e-6\n",
    "\n",
    "b = sqrt(q2/q1) + 1 #b = d/x \n",
    "b"
   ]
  },
  {
   "cell_type": "markdown",
   "metadata": {},
   "source": [
    "soon we stay with: $\\frac{d}{x} = 3 \\rightarrow d = 3x$, we've always that the proportion of 1 to 3"
   ]
  },
  {
   "cell_type": "markdown",
   "metadata": {},
   "source": [
    "looking now for the balanced system in $Q_2$: $$ \\vec{F}_{32} = \\vec{F}_{12} $$"
   ]
  },
  {
   "cell_type": "markdown",
   "metadata": {},
   "source": [
    "$$\\frac{ k * q_3 * q_2}{(d-x)^2} = \\frac{ k * q_1 * q_2}{d^2}$$"
   ]
  },
  {
   "cell_type": "markdown",
   "metadata": {},
   "source": [
    "$$ q_3 = q_1 \\frac{(d-x)^2}{d^2}$$"
   ]
  },
  {
   "cell_type": "code",
   "execution_count": 39,
   "metadata": {
    "scrolled": true
   },
   "outputs": [
    {
     "data": {
      "text/plain": [
       "-4e-06"
      ]
     },
     "execution_count": 39,
     "metadata": {},
     "output_type": "execute_result"
    }
   ],
   "source": [
    "x = 1 # arbitrary value for calculate\n",
    "d=3*x\n",
    "q3 = q1*(((d-x)**2)/(d**2))\n",
    "q3"
   ]
  },
  {
   "cell_type": "markdown",
   "metadata": {
    "lang": "en"
   },
   "source": [
    "$$ q_3 = -4\\mu C$$"
   ]
  }
 ],
 "metadata": {
  "celltoolbar": "Slideshow",
  "kernelspec": {
   "display_name": "Python 3",
   "language": "python",
   "name": "python3"
  },
  "language_info": {
   "codemirror_mode": {
    "name": "ipython",
    "version": 3
   },
   "file_extension": ".py",
   "mimetype": "text/x-python",
   "name": "python",
   "nbconvert_exporter": "python",
   "pygments_lexer": "ipython3",
   "version": "3.9.0"
  },
  "nbTranslate": {
   "displayLangs": [
    "*"
   ],
   "hotkey": "alt-t",
   "langInMainMenu": true,
   "sourceLang": "en",
   "targetLang": "fr",
   "useGoogleTranslate": true
  },
  "toc": {
   "base_numbering": "1",
   "nav_menu": {
    "height": "222px",
    "width": "404px"
   },
   "number_sections": true,
   "sideBar": false,
   "skip_h1_title": true,
   "title_cell": "Table of Contents",
   "title_sidebar": "Contents",
   "toc_cell": false,
   "toc_position": {
    "height": "calc(100% - 180px)",
    "left": "10px",
    "top": "150px",
    "width": "165px"
   },
   "toc_section_display": false,
   "toc_window_display": false
  }
 },
 "nbformat": 4,
 "nbformat_minor": 4
}