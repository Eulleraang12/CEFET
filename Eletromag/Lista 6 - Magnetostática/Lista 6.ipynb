{
 "metadata": {
  "language_info": {
   "codemirror_mode": {
    "name": "ipython",
    "version": 3
   },
   "file_extension": ".py",
   "mimetype": "text/x-python",
   "name": "python",
   "nbconvert_exporter": "python",
   "pygments_lexer": "ipython3",
   "version": "3.9.1-final"
  },
  "orig_nbformat": 2,
  "kernelspec": {
   "name": "python3",
   "display_name": "Python 3",
   "language": "python"
  }
 },
 "nbformat": 4,
 "nbformat_minor": 2,
 "cells": [
  {
   "source": [
    "# Cap7\n",
    "## 7.3\n",
    "### a)"
   ],
   "cell_type": "markdown",
   "metadata": {}
  },
  {
   "source": [
    "Usando Biot-Savart para fio teremos \n",
    "\n",
    "$$ H = \\frac{1}{4\\pi} \\int_{corpo}\\frac{Id\\vec{l} \\times \\vec{r}}{r^2} $$\n",
    "\n",
    "logo dadas as codições ficamos com \n",
    "\n",
    "$$ H = \\frac{I}{2\\pi\\rho} a_\\phi - \\int_{-a}^a \\frac{Id\\vec{z}\\ a_z \\ \\times  [\\rho a_\\rho - z a_z]}{4\\pi[\\rho^2+z^2]^{\\frac{3}{2}}}$$"
   ],
   "cell_type": "markdown",
   "metadata": {}
  },
  {
   "cell_type": "code",
   "execution_count": 660,
   "metadata": {},
   "outputs": [
    {
     "output_type": "execute_result",
     "data": {
      "text/plain": [
       "Matrix([\n",
       "[                                   0],\n",
       "[I*rho*(rho**2 + z**2)**(-1.5)/(4*pi)],\n",
       "[                                   0]])"
      ],
      "text/latex": "$\\displaystyle \\left[\\begin{matrix}0\\\\\\frac{I \\rho}{4 \\pi \\left(\\rho^{2} + z^{2}\\right)^{1.5}}\\\\0\\end{matrix}\\right]$"
     },
     "metadata": {},
     "execution_count": 660
    }
   ],
   "source": [
    "import sympy as sp \n",
    "from math import *\n",
    "import numpy as np \n",
    "import sympy.vector as spv\n",
    "\n",
    "R = spv.CoordSys3D('R') #sentando coord cartesian, a unitario de referencia\n",
    "# c = spv.CoordSys3D('c', transformation='cylindrical', variable_names=('rho','phi','z')) #setando coord cilindricas, c unitario de referencia\n",
    "\n",
    "\n",
    "p,I,z,a,theta = sp.symbols(\"rho I z a theta\")\n",
    "# a = CoordSys3D('a', transformation= lambda p,theta,z: (p*sp.cos(theta),p*sp.sin(theta),z)\n",
    "# ##vetores unitários\n",
    "ap = sp.Matrix([1,0,0])\n",
    "aphi = sp.Matrix([0,1,0])\n",
    "az = sp.Matrix([0,0,1])\n",
    "\n",
    "f = ((I*az).cross(p*ap-z*az))/(4*sp.pi*(p**2+z**2)**(3/2))\n",
    "\n",
    "f"
   ]
  },
  {
   "cell_type": "code",
   "execution_count": 661,
   "metadata": {},
   "outputs": [
    {
     "output_type": "execute_result",
     "data": {
      "text/plain": [
       "-0.1592*I*a*rho**(-2.0)*(a**2/rho**2 + 1.0)**(-0.5) + 0.1592*I/rho"
      ],
      "text/latex": "$\\displaystyle - \\frac{0.1592 I a}{\\rho^{2.0} \\left(\\frac{a^{2}}{\\rho^{2}} + 1.0\\right)^{0.5}} + \\frac{0.1592 I}{\\rho}$"
     },
     "metadata": {},
     "execution_count": 661
    }
   ],
   "source": [
    "H = (I/(2*sp.pi*p))*aphi - sp.integrate(f,(z,-a,a))\n",
    "H[1].evalf(4)"
   ]
  },
  {
   "source": [
    "### b)"
   ],
   "cell_type": "markdown",
   "metadata": {}
  },
  {
   "source": [
    "## cap8\n",
    "### 8.5"
   ],
   "cell_type": "markdown",
   "metadata": {}
  },
  {
   "source": [
    "Sabendo que $$ F = \\int_{corpo} I\\ dL \\times B $$ \n",
    "$$ F = \\int_{corpo} I\\ dL \\times \\frac{\\mu_0 i}{2\\pi r} â$$ \n",
    "\n",
    "Criaremos uma função que calcula a força en todos os lados"
   ],
   "cell_type": "markdown",
   "metadata": {}
  },
  {
   "cell_type": "code",
   "execution_count": 662,
   "metadata": {},
   "outputs": [],
   "source": [
    "ax = sp.Matrix([1,0,0])\n",
    "ay = sp.Matrix([0,1,0])\n",
    "az = sp.Matrix([0,0,1])\n",
    "r = sp.symbols('r')\n",
    "mi0 = sp.pi*4e-7\n",
    "i = 15\n",
    "I = 6e-6\n",
    "\n",
    "# a1 e a2 : vetores unitarios\n",
    "# r : distancia até o fio\n",
    "\n",
    "F = lambda a1,a2,r,eixo,inicio,final: sp.integrate((I*a1).cross(((i*mi0)/(2*sp.pi*r))*a2),(eixo,inicio,final))"
   ]
  },
  {
   "source": [
    "### a) "
   ],
   "cell_type": "markdown",
   "metadata": {}
  },
  {
   "cell_type": "code",
   "execution_count": 663,
   "metadata": {},
   "outputs": [
    {
     "output_type": "execute_result",
     "data": {
      "text/plain": [
       "Matrix([\n",
       "[-1.8e-11],\n",
       "[       0],\n",
       "[       0]])"
      ],
      "text/latex": "$\\displaystyle \\left[\\begin{matrix}-1.8 \\cdot 10^{-11}\\\\0\\\\0\\end{matrix}\\right]$"
     },
     "metadata": {},
     "execution_count": 663
    }
   ],
   "source": [
    "Fbc = F(az,ay,3,z,1,4)\n",
    "Fbc"
   ]
  },
  {
   "source": [
    "### b)"
   ],
   "cell_type": "markdown",
   "metadata": {}
  },
  {
   "cell_type": "code",
   "execution_count": 664,
   "metadata": {},
   "outputs": [
    {
     "output_type": "execute_result",
     "data": {
      "text/plain": [
       "Matrix([\n",
       "[       0],\n",
       "[       0],\n",
       "[1.98e-11]])"
      ],
      "text/latex": "$\\displaystyle \\left[\\begin{matrix}0\\\\0\\\\1.98 \\cdot 10^{-11}\\end{matrix}\\right]$"
     },
     "metadata": {},
     "execution_count": 664
    }
   ],
   "source": [
    "Fab = F(ax,ay,x,x,1,3)\n",
    "Fab.evalf(3)"
   ]
  },
  {
   "source": [
    "### c)"
   ],
   "cell_type": "markdown",
   "metadata": {}
  },
  {
   "cell_type": "code",
   "execution_count": 665,
   "metadata": {},
   "outputs": [
    {
     "output_type": "execute_result",
     "data": {
      "text/plain": [
       "Matrix([\n",
       "[5.4e-11],\n",
       "[      0],\n",
       "[      0]])"
      ],
      "text/latex": "$\\displaystyle \\left[\\begin{matrix}5.4 \\cdot 10^{-11}\\\\0\\\\0\\end{matrix}\\right]$"
     },
     "metadata": {},
     "execution_count": 665
    }
   ],
   "source": [
    "Fda = F(-az,ay,1,z,1,4)\n",
    "Fda"
   ]
  },
  {
   "cell_type": "code",
   "execution_count": 666,
   "metadata": {},
   "outputs": [
    {
     "output_type": "execute_result",
     "data": {
      "text/plain": [
       "Matrix([\n",
       "[3.6e-11],\n",
       "[      0],\n",
       "[      0]])"
      ],
      "text/latex": "$\\displaystyle \\left[\\begin{matrix}3.6 \\cdot 10^{-11}\\\\0\\\\0\\end{matrix}\\right]$"
     },
     "metadata": {},
     "execution_count": 666
    }
   ],
   "source": [
    "F_total = Fda + Fbc\n",
    "F_total"
   ]
  },
  {
   "source": [
    "Uma vez que todas as forças dadas em (N)."
   ],
   "cell_type": "markdown",
   "metadata": {}
  },
  {
   "source": [
    "## cap9\n",
    "### 9.15"
   ],
   "cell_type": "markdown",
   "metadata": {}
  },
  {
   "source": [
    "Sabendo que $B = \\mu H $ podemos denotar que \n",
    "\n",
    "$$ B = \\mu 2\\cos(10^{10}t-\\beta x) a_z $$\n",
    "\n",
    "Aplicando Maxwell temos \n",
    "\n",
    "$$ \\nabla \\times H = - \\frac{\\partial D}{\\partial t}$$\n",
    "\n",
    "Primeiro faremos $ \\nabla \\times H = -\\frac{\\partial H}{\\partial x} a_y$"
   ],
   "cell_type": "markdown",
   "metadata": {}
  },
  {
   "cell_type": "code",
   "execution_count": 667,
   "metadata": {},
   "outputs": [
    {
     "output_type": "execute_result",
     "data": {
      "text/plain": [
       "2*beta*sin(beta*x - 100000000000.0*t)"
      ],
      "text/latex": "$\\displaystyle 2 \\beta \\sin{\\left(\\beta x - 100000000000.0 t \\right)}$"
     },
     "metadata": {},
     "execution_count": 667
    }
   ],
   "source": [
    "\n",
    "b,t = sp.symbols('beta t')\n",
    "\n",
    "mi = 3e-5\n",
    "e = 1.2e-10\n",
    "sig = 0\n",
    "\n",
    "H = 2*sp.cos(10e10*t-b*x)\n",
    "\n",
    "dHdx = -H.diff(x)\n",
    "dHdx\n",
    "# spv.Del().cross(H)"
   ]
  },
  {
   "source": [
    "Usando $D$ ficaremos com $$ D = \\int -\\frac{\\partial H}{\\partial x} a_y \\ dt$$"
   ],
   "cell_type": "markdown",
   "metadata": {}
  },
  {
   "cell_type": "code",
   "execution_count": 668,
   "metadata": {},
   "outputs": [
    {
     "output_type": "execute_result",
     "data": {
      "text/plain": [
       "(2.0e-11*beta*cos(beta*x - 100000000000.0*t))*R.j"
      ],
      "text/latex": "$\\displaystyle (2.0 \\cdot 10^{-11} \\beta \\cos{\\left(\\beta x - 100000000000.0 t \\right)})\\mathbf{\\hat{j}_{R}}$"
     },
     "metadata": {},
     "execution_count": 668
    }
   ],
   "source": [
    "D = sp.integrate(dHdx,t)\n",
    "D*R.j"
   ]
  },
  {
   "source": [
    "posto isso vamos encontrar o campo elétrico, uma vez que $$ E = \\frac{D}{\\epsilon}$$"
   ],
   "cell_type": "markdown",
   "metadata": {}
  },
  {
   "cell_type": "code",
   "execution_count": 669,
   "metadata": {},
   "outputs": [
    {
     "output_type": "execute_result",
     "data": {
      "text/plain": [
       "(0.166666666666667*beta*cos(beta*x - 100000000000.0*t))*R.j"
      ],
      "text/latex": "$\\displaystyle (0.166666666666667 \\beta \\cos{\\left(\\beta x - 100000000000.0 t \\right)})\\mathbf{\\hat{j}_{R}}$"
     },
     "metadata": {},
     "execution_count": 669
    }
   ],
   "source": [
    "E = D/e\n",
    "E*R.j"
   ]
  },
  {
   "source": [
    "\n",
    "Usando Maxwell novamente $$ \\nabla \\times E = - \\frac{\\partial B}{\\partial t}$$\n",
    "e $\\nabla \\times E = \\frac{\\partial E_y}{\\partial x} \\ a_z $"
   ],
   "cell_type": "markdown",
   "metadata": {}
  },
  {
   "cell_type": "code",
   "execution_count": 670,
   "metadata": {},
   "outputs": [
    {
     "output_type": "execute_result",
     "data": {
      "text/plain": [
       "(-0.166666666666667*beta**2*sin(beta*x - 100000000000.0*t))*R.k"
      ],
      "text/latex": "$\\displaystyle (- 0.166666666666667 \\beta^{2} \\sin{\\left(\\beta x - 100000000000.0 t \\right)})\\mathbf{\\hat{k}_{R}}$"
     },
     "metadata": {},
     "execution_count": 670
    }
   ],
   "source": [
    "dEdx = E.diff(x)\n",
    "dEdx*R.k"
   ]
  },
  {
   "source": [
    "Usando $B$ ficaremos com $$ B = \\int -\\frac{\\partial E_y}{\\partial x} a_z \\ dt$$"
   ],
   "cell_type": "markdown",
   "metadata": {}
  },
  {
   "cell_type": "code",
   "execution_count": 671,
   "metadata": {},
   "outputs": [
    {
     "output_type": "execute_result",
     "data": {
      "text/plain": [
       "(-1.66666666666667e-12*beta**2*cos(beta*x - 100000000000.0*t))*R.k"
      ],
      "text/latex": "$\\displaystyle (- 1.66666666666667 \\cdot 10^{-12} \\beta^{2} \\cos{\\left(\\beta x - 100000000000.0 t \\right)})\\mathbf{\\hat{k}_{R}}$"
     },
     "metadata": {},
     "execution_count": 671
    }
   ],
   "source": [
    "B = sp.integrate(dEdx,t)\n",
    "B*R.k"
   ]
  },
  {
   "source": [
    "Já determinamos que $$ B = \\mu 2\\cos(10^{10}t-\\beta x) a_z $$ logo por comparação a equação a cima podemos denotar que:\n",
    "\n",
    "$$ 2 \\mu = 1.67\\cdot 10^{-12} \\beta^2 $$"
   ],
   "cell_type": "markdown",
   "metadata": {}
  },
  {
   "cell_type": "code",
   "execution_count": 672,
   "metadata": {},
   "outputs": [
    {
     "output_type": "execute_result",
     "data": {
      "text/plain": [
       "[-5994.00898502620, 5994.00898502620]"
      ]
     },
     "metadata": {},
     "execution_count": 672
    }
   ],
   "source": [
    "f = 1.67e-12*b**2 - 2*mi\n",
    "b = sp.solve(f,b)\n",
    "b"
   ]
  },
  {
   "source": [
    "Logo ficamos "
   ],
   "cell_type": "markdown",
   "metadata": {}
  },
  {
   "cell_type": "code",
   "execution_count": 673,
   "metadata": {},
   "outputs": [
    {
     "output_type": "execute_result",
     "data": {
      "text/plain": [
       "2.0e-11*beta*cos(beta*x - 100000000000.0*t)"
      ],
      "text/latex": "$\\displaystyle 2.0 \\cdot 10^{-11} \\beta \\cos{\\left(\\beta x - 100000000000.0 t \\right)}$"
     },
     "metadata": {},
     "execution_count": 673
    }
   ],
   "source": [
    "D"
   ]
  },
  {
   "cell_type": "code",
   "execution_count": 674,
   "metadata": {},
   "outputs": [
    {
     "output_type": "execute_result",
     "data": {
      "text/plain": [
       "0.166666666666667*beta*cos(beta*x - 100000000000.0*t)"
      ],
      "text/latex": "$\\displaystyle 0.166666666666667 \\beta \\cos{\\left(\\beta x - 100000000000.0 t \\right)}$"
     },
     "metadata": {},
     "execution_count": 674
    }
   ],
   "source": [
    "E"
   ]
  },
  {
   "cell_type": "code",
   "execution_count": 675,
   "metadata": {},
   "outputs": [
    {
     "output_type": "execute_result",
     "data": {
      "text/plain": [
       "-1.66666666666667e-12*beta**2*cos(beta*x - 100000000000.0*t)"
      ],
      "text/latex": "$\\displaystyle - 1.66666666666667 \\cdot 10^{-12} \\beta^{2} \\cos{\\left(\\beta x - 100000000000.0 t \\right)}$"
     },
     "metadata": {},
     "execution_count": 675
    }
   ],
   "source": [
    "B"
   ]
  },
  {
   "cell_type": "code",
   "execution_count": 676,
   "metadata": {},
   "outputs": [
    {
     "output_type": "execute_result",
     "data": {
      "text/plain": [
       "[-5994.00898502620, 5994.00898502620]"
      ]
     },
     "metadata": {},
     "execution_count": 676
    }
   ],
   "source": [
    "b"
   ]
  },
  {
   "source": [
    "## cap4 - José Cardoso\n",
    "### Q1\n",
    "#### a)"
   ],
   "cell_type": "markdown",
   "metadata": {}
  },
  {
   "source": [
    "Como $D$ é constante, uma vez que $r$ é consntate e está paralelo a $d\\vec{S}$ podemos escrever que \n",
    "\n",
    "$$ \\oint D\\cdot dS = D\\cdot S_{lateral} = D\\cdot 2\\pi r l $$\n",
    "\n",
    "temos também $D\\cdot 2\\pi r l = \\rho_l l $\n",
    "\n",
    "logo fivamos com $$ D = \\frac{\\rho_l}{2\\pi r} (C/m^2)$$"
   ],
   "cell_type": "markdown",
   "metadata": {}
  },
  {
   "source": [
    "#### b)"
   ],
   "cell_type": "markdown",
   "metadata": {}
  },
  {
   "source": [
    "sabendo que $D = \\epsilon E $ temos que \n",
    "$$ E = \\frac{\\rho_l}{2\\pi \\epsilon_r\\epsilon_0 r} (V/m)$$"
   ],
   "cell_type": "markdown",
   "metadata": {}
  },
  {
   "source": [
    "#### c)\n",
    "\n",
    "Para o potencial teremos a integração abaixo \n",
    "\n",
    "$$ V = - \\int^B_A E\\cdot dl $$\n",
    "$$ V =  \\int^a_b \\frac{\\rho_l}{2\\pi \\epsilon_r\\epsilon_0 r}\\cdot dl $$\n",
    "\n",
    "Resultante em \n",
    "\n",
    "$$V = \\frac{\\rho_l}{2\\pi \\epsilon_r\\epsilon_0} \\ln(\\frac{b}{a})$$"
   ],
   "cell_type": "markdown",
   "metadata": {}
  },
  {
   "source": [
    "#### d) \n",
    "\n",
    "Já a capacitância do cabo coaxial $C = Q/V $\n",
    "é dada por \n",
    "\n",
    "$$C = \\frac{2\\pi \\epsilon_r\\epsilon_0 l }{\\ln(\\frac{b}{a})} (F)$$\n",
    "\n",
    "isolando $C/l$ teremos a capacitância por unidade de comprimento \n",
    "\n",
    "$$\\frac{C}{l} = \\frac{2\\pi \\epsilon_r\\epsilon_0  }{\\ln(\\frac{b}{a})} (F/m)$$"
   ],
   "cell_type": "markdown",
   "metadata": {}
  },
  {
   "source": [
    "## 4 - Digitadas\n",
    "\n",
    "Configurando o quadrado como $A=(1,0,0) , B = (3,0,0), C = (1,2,0), D = (3,2,0) $.\n",
    "Vamos determinar que no fio \n",
    "$$ F = \\int_{corpo} I\\ dL \\times B$$ \n",
    "\n",
    "e o campo $B = \\mu_0 H$ e $H = \\frac{15}{2\\pi x} az $"
   ],
   "cell_type": "markdown",
   "metadata": {}
  },
  {
   "cell_type": "code",
   "execution_count": 677,
   "metadata": {},
   "outputs": [
    {
     "output_type": "execute_result",
     "data": {
      "text/plain": [
       "(3.0e-6/x)*R.k"
      ],
      "text/latex": "$\\displaystyle (\\frac{3.0 \\cdot 10^{-6}}{x})\\mathbf{\\hat{k}_{R}}$"
     },
     "metadata": {},
     "execution_count": 677
    }
   ],
   "source": [
    "H = 15/(2*sp.pi*x)*R.k\n",
    "B = mi0*H\n",
    "B"
   ]
  },
  {
   "cell_type": "code",
   "execution_count": 678,
   "metadata": {},
   "outputs": [
    {
     "output_type": "execute_result",
     "data": {
      "text/plain": [
       "(1.20000000000000e-8)*R.i"
      ],
      "text/latex": "$\\displaystyle (1.2 \\cdot 10^{-8})\\mathbf{\\hat{i}_{R}}$"
     },
     "metadata": {},
     "execution_count": 678
    }
   ],
   "source": [
    "I = 2e-3\n",
    "F = lambda a,uni,dL,inicio,final :sp.integrate(I*B.subs(x,a).cross(uni),(dL,inicio,final))\n",
    "\n",
    "Fac = F(1,-R.j,y,0,2)\n",
    "Fac\n"
   ]
  },
  {
   "cell_type": "code",
   "execution_count": 679,
   "metadata": {},
   "outputs": [
    {
     "output_type": "execute_result",
     "data": {
      "text/plain": [
       "(-4.00000000000000e-9)*R.i"
      ],
      "text/latex": "$\\displaystyle (-4.0 \\cdot 10^{-9})\\mathbf{\\hat{i}_{R}}$"
     },
     "metadata": {},
     "execution_count": 679
    }
   ],
   "source": [
    "Fbd = F(3,R.j,y,0,2)\n",
    "Fbd"
   ]
  },
  {
   "cell_type": "code",
   "execution_count": 680,
   "metadata": {},
   "outputs": [
    {
     "output_type": "execute_result",
     "data": {
      "text/plain": [
       "(6.592e-9)*R.j"
      ],
      "text/latex": "$\\displaystyle (6.592 \\cdot 10^{-9})\\mathbf{\\hat{j}_{R}}$"
     },
     "metadata": {},
     "execution_count": 680
    }
   ],
   "source": [
    "Fab = F(x,R.i,x,1,3)\n",
    "Fab.evalf(4)"
   ]
  },
  {
   "cell_type": "code",
   "execution_count": 681,
   "metadata": {},
   "outputs": [
    {
     "output_type": "execute_result",
     "data": {
      "text/plain": [
       "(-6.592e-9)*R.j"
      ],
      "text/latex": "$\\displaystyle (-6.592 \\cdot 10^{-9})\\mathbf{\\hat{j}_{R}}$"
     },
     "metadata": {},
     "execution_count": 681
    }
   ],
   "source": [
    "Fdc = F(x,-R.i,x,1,3)\n",
    "Fdc.evalf(4)"
   ]
  },
  {
   "cell_type": "code",
   "execution_count": 682,
   "metadata": {},
   "outputs": [
    {
     "output_type": "execute_result",
     "data": {
      "text/plain": [
       "(8.000e-9)*R.i"
      ],
      "text/latex": "$\\displaystyle (8.0 \\cdot 10^{-9})\\mathbf{\\hat{i}_{R}}$"
     },
     "metadata": {},
     "execution_count": 682
    }
   ],
   "source": [
    "F_t = Fab+Fbd+Fac+Fdc\n",
    "F_t.evalf(4)"
   ]
  },
  {
   "source": [
    "## cap3 - José Cardoso\n",
    "### Q11\n",
    "\n",
    "Sabendo que $$\\phi = B\\cdot A $$ \n",
    "e que a f.e.m é $$\\epsilon = -\\frac{\\phi}{T} = -\\frac{BA}{T}$$\n",
    "\n",
    "Posto isso podemos lembrar que $T = f^{-1}$ \n",
    "\n",
    "logo ficamos com \n",
    "\n",
    " $$\\epsilon = -B\\cdot A\\cdot f$$\n"
   ],
   "cell_type": "markdown",
   "metadata": {}
  },
  {
   "cell_type": "code",
   "execution_count": 683,
   "metadata": {},
   "outputs": [
    {
     "output_type": "execute_result",
     "data": {
      "text/plain": [
       "-0.006250000000000001"
      ]
     },
     "metadata": {},
     "execution_count": 683
    }
   ],
   "source": [
    "f = 1500/60\n",
    "B = 50e-3\n",
    "A = 5e-2*10e-2\n",
    "\n",
    "e = -B*A*f\n",
    "e"
   ]
  },
  {
   "source": [
    "$$\\epsilon = 6.25mV $$"
   ],
   "cell_type": "markdown",
   "metadata": {}
  },
  {
   "source": [
    "## cap4 - José Cardoso\n",
    "### Q12\n",
    "\n",
    "Como o fluxo magnetico em B é zero, então $\\phi_A = \\phi_b$ o que implica que $H_A = H_C$. Posto isso vamos para o circuito equivalente abaixo "
   ],
   "cell_type": "markdown",
   "metadata": {}
  },
  {
   "cell_type": "code",
   "execution_count": 684,
   "metadata": {},
   "outputs": [
    {
     "output_type": "execute_result",
     "data": {
      "image/png": "[encoded data removed]",
      "text/plain": [
       "<IPython.core.display.Image object>"
      ]
     },
     "metadata": {},
     "execution_count": 684
    }
   ],
   "source": [
    "from IPython.display import Image\n",
    "Image(filename='circuito.png')"
   ]
  },
  {
   "source": [
    "Fazendo as malhas do circuito encontramos as seguintes equações \n",
    "\n",
    "$$ N_aI_a - H_al_a+H_bl_b-N_bI_b=0 $$\n",
    "\n",
    "$$ N_bI_b - H_bl_b - H_cl_c=0 $$\n",
    "\n",
    "$$N_aI_a - H_al_a - H_cl_c = 0 $$ \n",
    "\n"
   ],
   "cell_type": "markdown",
   "metadata": {}
  },
  {
   "cell_type": "code",
   "execution_count": 685,
   "metadata": {},
   "outputs": [],
   "source": [
    "na = 1e3\n",
    "nb = 200\n",
    "ia = 0.5\n",
    "la = 60e-2\n",
    "lb = 16e-2\n",
    "lc = 60e-2\n",
    "ib,Hb,Hc,Ha= sp.symbols('I_b H_b H_c H_a')\n",
    "\n",
    "#Hc = Ha\n",
    "eq1 = na*ia-Ha*la+Hb*lb-nb*ib\n",
    "\n",
    "eq2 = nb*ib-Hb*lb-Ha*lc \n",
    "\n",
    "eq3 = na*ia-Ha*la-Ha*lc\n",
    "\n"
   ]
  },
  {
   "cell_type": "code",
   "execution_count": 686,
   "metadata": {},
   "outputs": [
    {
     "output_type": "execute_result",
     "data": {
      "text/plain": [
       "-0.6*H_a + 0.16*H_b - 200*I_b + 500.0"
      ],
      "text/latex": "$\\displaystyle - 0.6 H_{a} + 0.16 H_{b} - 200 I_{b} + 500.0$"
     },
     "metadata": {},
     "execution_count": 686
    }
   ],
   "source": [
    "eq1"
   ]
  },
  {
   "cell_type": "code",
   "execution_count": 687,
   "metadata": {},
   "outputs": [
    {
     "output_type": "execute_result",
     "data": {
      "text/plain": [
       "-0.6*H_a - 0.16*H_b + 200*I_b"
      ],
      "text/latex": "$\\displaystyle - 0.6 H_{a} - 0.16 H_{b} + 200 I_{b}$"
     },
     "metadata": {},
     "execution_count": 687
    }
   ],
   "source": [
    "eq2"
   ]
  },
  {
   "cell_type": "code",
   "execution_count": 688,
   "metadata": {},
   "outputs": [
    {
     "output_type": "execute_result",
     "data": {
      "text/plain": [
       "500.0 - 1.2*H_a"
      ],
      "text/latex": "$\\displaystyle 500.0 - 1.2 H_{a}$"
     },
     "metadata": {},
     "execution_count": 688
    }
   ],
   "source": [
    "eq3"
   ]
  },
  {
   "cell_type": "code",
   "execution_count": 689,
   "metadata": {},
   "outputs": [
    {
     "output_type": "execute_result",
     "data": {
      "text/plain": [
       "416.666666666667"
      ],
      "text/latex": "$\\displaystyle 416.666666666667$"
     },
     "metadata": {},
     "execution_count": 689
    }
   ],
   "source": [
    "ha=sp.solve(eq3,Ha)\n",
    "ha[0]"
   ]
  },
  {
   "source": [
    "Logo $H_a = 2.0833$"
   ],
   "cell_type": "markdown",
   "metadata": {}
  },
  {
   "cell_type": "code",
   "execution_count": 690,
   "metadata": {},
   "outputs": [
    {
     "output_type": "execute_result",
     "data": {
      "text/plain": [
       "0.16*H_b - 200*I_b + 250.0"
      ],
      "text/latex": "$\\displaystyle 0.16 H_{b} - 200 I_{b} + 250.0$"
     },
     "metadata": {},
     "execution_count": 690
    }
   ],
   "source": [
    "eq1sub=eq1.subs(Ha,ha[0])\n",
    "eq1sub"
   ]
  },
  {
   "cell_type": "code",
   "execution_count": 691,
   "metadata": {},
   "outputs": [
    {
     "output_type": "execute_result",
     "data": {
      "text/plain": [
       "-0.16*H_b + 200*I_b - 250.0"
      ],
      "text/latex": "$\\displaystyle - 0.16 H_{b} + 200 I_{b} - 250.0$"
     },
     "metadata": {},
     "execution_count": 691
    }
   ],
   "source": [
    "eq2sub=eq2.subs(Ha,ha[0])\n",
    "eq2sub"
   ]
  },
  {
   "cell_type": "code",
   "execution_count": 692,
   "metadata": {},
   "outputs": [
    {
     "output_type": "execute_result",
     "data": {
      "text/plain": [
       "1250.0*I_b - 1562.5"
      ],
      "text/latex": "$\\displaystyle 1250.0 I_{b} - 1562.5$"
     },
     "metadata": {},
     "execution_count": 692
    }
   ],
   "source": [
    "eq4=sp.solve((eq1sub,eq2sub))\n",
    "eq4[H_b]"
   ]
  },
  {
   "source": [
    "Aplicando a Lei Circuital de Ampère para $$H_b - \\frac{N_bI_b}{l_b}=0$$"
   ],
   "cell_type": "markdown",
   "metadata": {}
  },
  {
   "cell_type": "code",
   "execution_count": 693,
   "metadata": {},
   "outputs": [],
   "source": [
    "eq5 = Hb - nb*ib/lb\n"
   ]
  },
  {
   "cell_type": "code",
   "execution_count": 694,
   "metadata": {},
   "outputs": [
    {
     "output_type": "execute_result",
     "data": {
      "text/plain": [
       "1.25000000000000"
      ],
      "text/latex": "$\\displaystyle 1.25$"
     },
     "metadata": {},
     "execution_count": 694
    }
   ],
   "source": [
    "resp = sp.solve((eq4[H_b],eq5))\r\n",
    "\r\n",
    "resp[I_b]"
   ]
  },
  {
   "source": [
    "temos que $I_b = 1.25A$"
   ],
   "cell_type": "markdown",
   "metadata": {}
  }
 ]
}